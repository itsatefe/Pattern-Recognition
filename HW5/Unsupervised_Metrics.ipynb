{
 "cells": [
  {
   "cell_type": "markdown",
   "id": "cdb845f3",
   "metadata": {},
   "source": [
    "The Rand Index (RI) is a measure that quantifies the similarity between two clusterings by counting the number of pairs of data points that are either in the same cluster or in different clusters in both the true and predicted clusterings. The adjusted version, ARI, corrects for the expected similarity under random chance.\n",
    "\n",
    "\n",
    "$$ ARI = \\frac{{\\text{RI} - \\text{Expected_RI}}}{{\\text{max(RI_max - Expected_RI, 0)}}} $$\n",
    "\n",
    "The ARI value ranges from -1 to 1:\n",
    "- ARI = 1 indicates perfect similarity between the two clusterings.\n",
    "- ARI = 0 indicates that the clustering results are no better than random.\n",
    "- ARI < 0 suggests that the clusterings are less similar than expected by chance."
   ]
  },
  {
   "cell_type": "markdown",
   "id": "ef7bfea6",
   "metadata": {},
   "source": [
    "1. Contingency Matrix:\n",
    "    - counts the number of samples that are assigned to the same or different clusters in both the true and predicted clusterings.\n",
    "2. Rand Index Calculation:\n",
    "    - The Rand Index measures the similarity between the true and predicted clusterings.\n",
    "3. Expected Rand Index\n",
    "4. Adjusted Rand Index"
   ]
  },
  {
   "cell_type": "code",
   "execution_count": 20,
   "id": "4742ac4a",
   "metadata": {},
   "outputs": [
    {
     "name": "stdout",
     "output_type": "stream",
     "text": [
      "Adjusted Rand Index: 0.5471938775510204\n"
     ]
    }
   ],
   "source": [
    "def adjusted_rand_index(true_labels, predicted_labels):\n",
    "    n = len(true_labels)\n",
    "\n",
    "    contingency_table = [[0 for _ in range(n)] for _ in range(n)]\n",
    "    \n",
    "    for i in range(n):\n",
    "        for j in range(n):\n",
    "            contingency_table[i][j] = (true_labels[i] == true_labels[j]) and (predicted_labels[i] == predicted_labels[j])\n",
    "\n",
    "    a = sum(sum(row) * (sum(row) - 1) / 2 for row in contingency_table)\n",
    "    b = sum(sum(col) * (sum(col) - 1) / 2 for col in zip(*contingency_table))\n",
    "    c = n * (n - 1) / 2 - a\n",
    "    d = n * (n - 1) / 2 - b\n",
    "\n",
    "    numerator = a + b\n",
    "    denominator = a + b + c + d\n",
    "\n",
    "    if denominator == 0:\n",
    "        return 0.0  # Avoid division by zero\n",
    "\n",
    "    return (numerator - (a * c + b * d) / denominator) / (0.5 * (a + b + c + d))"
   ]
  },
  {
   "cell_type": "code",
   "execution_count": null,
   "id": "11cb9c68",
   "metadata": {},
   "outputs": [],
   "source": []
  }
 ],
 "metadata": {
  "kernelspec": {
   "display_name": "Python 3 (ipykernel)",
   "language": "python",
   "name": "python3"
  },
  "language_info": {
   "codemirror_mode": {
    "name": "ipython",
    "version": 3
   },
   "file_extension": ".py",
   "mimetype": "text/x-python",
   "name": "python",
   "nbconvert_exporter": "python",
   "pygments_lexer": "ipython3",
   "version": "3.11.5"
  }
 },
 "nbformat": 4,
 "nbformat_minor": 5
}
