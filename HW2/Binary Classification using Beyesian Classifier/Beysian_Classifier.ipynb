{
 "cells": [
  {
   "cell_type": "code",
   "execution_count": 71,
   "id": "8ff25f5f",
   "metadata": {},
   "outputs": [],
   "source": [
    "import pandas as pd\n",
    "import numpy as np\n",
    "from sklearn.preprocessing import LabelEncoder\n",
    "import jdc\n",
    "from sklearn.model_selection import train_test_split"
   ]
  },
  {
   "cell_type": "markdown",
   "id": "c2ff7001",
   "metadata": {},
   "source": [
    "# 3.1 Preprocessing"
   ]
  },
  {
   "cell_type": "code",
   "execution_count": 72,
   "id": "a48b17f2",
   "metadata": {},
   "outputs": [],
   "source": [
    "class Preprocessing:\n",
    "    def __init__(self, url, column_names_csv):\n",
    "        self.url = url\n",
    "        self.column_names_csv = column_names_csv\n",
    "        self.dataset = None"
   ]
  },
  {
   "cell_type": "code",
   "execution_count": 73,
   "id": "1e3be5ae",
   "metadata": {},
   "outputs": [],
   "source": [
    "%%add_to Preprocessing\n",
    "def load_dataset(self):\n",
    "    column_names_df = pd.read_csv(self.column_names_csv)\n",
    "    column_names = column_names_df['Column_Names'].tolist()\n",
    "    self.dataset = pd.read_csv(self.url, header=None, names=column_names)\n",
    "    self.dataset['class'] = self.dataset['class'].map({'e': 0, 'p': 1})"
   ]
  },
  {
   "cell_type": "code",
   "execution_count": 74,
   "id": "a53102ef",
   "metadata": {},
   "outputs": [],
   "source": [
    "%%add_to Preprocessing\n",
    "def display_data_types(self):\n",
    "    if self.dataset is not None:\n",
    "        return self.dataset.dtypes\n",
    "    else:\n",
    "        return \"Dataset not loaded.\""
   ]
  },
  {
   "cell_type": "code",
   "execution_count": 75,
   "id": "d93f6cf4",
   "metadata": {},
   "outputs": [],
   "source": [
    "%%add_to Preprocessing\n",
    "def display_unique_values(self):\n",
    "    if self.dataset is not None:\n",
    "        for column in self.dataset.columns:\n",
    "            unique_values = self.dataset[column].unique()\n",
    "            print(f\"Unique values for {column}:\\n{unique_values}\\n\")\n",
    "    else:\n",
    "        print(\"Dataset not loaded.\")"
   ]
  },
  {
   "cell_type": "code",
   "execution_count": 76,
   "id": "e2315590",
   "metadata": {},
   "outputs": [],
   "source": [
    "%%add_to Preprocessing\n",
    "def encode_categorical_features(self):\n",
    "    if self.dataset is not None:\n",
    "        label_encoder = LabelEncoder()\n",
    "        categorical_features = self.dataset.select_dtypes(include=['object']).columns\n",
    "        for feature in categorical_features:\n",
    "            self.dataset[feature] = label_encoder.fit_transform(self.dataset[feature])\n",
    "    else:\n",
    "        print(\"Dataset not loaded.\")"
   ]
  },
  {
   "cell_type": "code",
   "execution_count": 77,
   "id": "f44951ba",
   "metadata": {},
   "outputs": [],
   "source": [
    "url = 'https://archive.ics.uci.edu/ml/machine-learning-databases/mushroom/agaricus-lepiota.data'\n",
    "column_names_csv = 'mushroom_feature_names.csv'"
   ]
  },
  {
   "cell_type": "code",
   "execution_count": 78,
   "id": "7c647741",
   "metadata": {},
   "outputs": [],
   "source": [
    "preprocessing = Preprocessing(url, column_names_csv)"
   ]
  },
  {
   "cell_type": "markdown",
   "id": "7f33ce25",
   "metadata": {},
   "source": [
    "# Q 3.1.1"
   ]
  },
  {
   "cell_type": "code",
   "execution_count": 79,
   "id": "ec37ef04",
   "metadata": {},
   "outputs": [],
   "source": [
    "preprocessing.load_dataset()"
   ]
  },
  {
   "cell_type": "code",
   "execution_count": 80,
   "id": "beaad8ce",
   "metadata": {},
   "outputs": [
    {
     "data": {
      "text/html": [
       "<div>\n",
       "<style scoped>\n",
       "    .dataframe tbody tr th:only-of-type {\n",
       "        vertical-align: middle;\n",
       "    }\n",
       "\n",
       "    .dataframe tbody tr th {\n",
       "        vertical-align: top;\n",
       "    }\n",
       "\n",
       "    .dataframe thead th {\n",
       "        text-align: right;\n",
       "    }\n",
       "</style>\n",
       "<table border=\"1\" class=\"dataframe\">\n",
       "  <thead>\n",
       "    <tr style=\"text-align: right;\">\n",
       "      <th></th>\n",
       "      <th>class</th>\n",
       "      <th>cap-shape</th>\n",
       "      <th>cap-surface</th>\n",
       "      <th>cap-color</th>\n",
       "      <th>bruises</th>\n",
       "      <th>odor</th>\n",
       "      <th>gill-attachment</th>\n",
       "      <th>gill-spacing</th>\n",
       "      <th>gill-size</th>\n",
       "      <th>gill-color</th>\n",
       "      <th>...</th>\n",
       "      <th>stalk-surface-below-ring</th>\n",
       "      <th>stalk-color-above-ring</th>\n",
       "      <th>stalk-color-below-ring</th>\n",
       "      <th>veil-type</th>\n",
       "      <th>veil-color</th>\n",
       "      <th>ring-number</th>\n",
       "      <th>ring-type</th>\n",
       "      <th>spore-print-color</th>\n",
       "      <th>population</th>\n",
       "      <th>habitat</th>\n",
       "    </tr>\n",
       "  </thead>\n",
       "  <tbody>\n",
       "    <tr>\n",
       "      <th>0</th>\n",
       "      <td>1</td>\n",
       "      <td>x</td>\n",
       "      <td>s</td>\n",
       "      <td>n</td>\n",
       "      <td>t</td>\n",
       "      <td>p</td>\n",
       "      <td>f</td>\n",
       "      <td>c</td>\n",
       "      <td>n</td>\n",
       "      <td>k</td>\n",
       "      <td>...</td>\n",
       "      <td>s</td>\n",
       "      <td>w</td>\n",
       "      <td>w</td>\n",
       "      <td>p</td>\n",
       "      <td>w</td>\n",
       "      <td>o</td>\n",
       "      <td>p</td>\n",
       "      <td>k</td>\n",
       "      <td>s</td>\n",
       "      <td>u</td>\n",
       "    </tr>\n",
       "    <tr>\n",
       "      <th>1</th>\n",
       "      <td>0</td>\n",
       "      <td>x</td>\n",
       "      <td>s</td>\n",
       "      <td>y</td>\n",
       "      <td>t</td>\n",
       "      <td>a</td>\n",
       "      <td>f</td>\n",
       "      <td>c</td>\n",
       "      <td>b</td>\n",
       "      <td>k</td>\n",
       "      <td>...</td>\n",
       "      <td>s</td>\n",
       "      <td>w</td>\n",
       "      <td>w</td>\n",
       "      <td>p</td>\n",
       "      <td>w</td>\n",
       "      <td>o</td>\n",
       "      <td>p</td>\n",
       "      <td>n</td>\n",
       "      <td>n</td>\n",
       "      <td>g</td>\n",
       "    </tr>\n",
       "    <tr>\n",
       "      <th>2</th>\n",
       "      <td>0</td>\n",
       "      <td>b</td>\n",
       "      <td>s</td>\n",
       "      <td>w</td>\n",
       "      <td>t</td>\n",
       "      <td>l</td>\n",
       "      <td>f</td>\n",
       "      <td>c</td>\n",
       "      <td>b</td>\n",
       "      <td>n</td>\n",
       "      <td>...</td>\n",
       "      <td>s</td>\n",
       "      <td>w</td>\n",
       "      <td>w</td>\n",
       "      <td>p</td>\n",
       "      <td>w</td>\n",
       "      <td>o</td>\n",
       "      <td>p</td>\n",
       "      <td>n</td>\n",
       "      <td>n</td>\n",
       "      <td>m</td>\n",
       "    </tr>\n",
       "    <tr>\n",
       "      <th>3</th>\n",
       "      <td>1</td>\n",
       "      <td>x</td>\n",
       "      <td>y</td>\n",
       "      <td>w</td>\n",
       "      <td>t</td>\n",
       "      <td>p</td>\n",
       "      <td>f</td>\n",
       "      <td>c</td>\n",
       "      <td>n</td>\n",
       "      <td>n</td>\n",
       "      <td>...</td>\n",
       "      <td>s</td>\n",
       "      <td>w</td>\n",
       "      <td>w</td>\n",
       "      <td>p</td>\n",
       "      <td>w</td>\n",
       "      <td>o</td>\n",
       "      <td>p</td>\n",
       "      <td>k</td>\n",
       "      <td>s</td>\n",
       "      <td>u</td>\n",
       "    </tr>\n",
       "    <tr>\n",
       "      <th>4</th>\n",
       "      <td>0</td>\n",
       "      <td>x</td>\n",
       "      <td>s</td>\n",
       "      <td>g</td>\n",
       "      <td>f</td>\n",
       "      <td>n</td>\n",
       "      <td>f</td>\n",
       "      <td>w</td>\n",
       "      <td>b</td>\n",
       "      <td>k</td>\n",
       "      <td>...</td>\n",
       "      <td>s</td>\n",
       "      <td>w</td>\n",
       "      <td>w</td>\n",
       "      <td>p</td>\n",
       "      <td>w</td>\n",
       "      <td>o</td>\n",
       "      <td>e</td>\n",
       "      <td>n</td>\n",
       "      <td>a</td>\n",
       "      <td>g</td>\n",
       "    </tr>\n",
       "    <tr>\n",
       "      <th>...</th>\n",
       "      <td>...</td>\n",
       "      <td>...</td>\n",
       "      <td>...</td>\n",
       "      <td>...</td>\n",
       "      <td>...</td>\n",
       "      <td>...</td>\n",
       "      <td>...</td>\n",
       "      <td>...</td>\n",
       "      <td>...</td>\n",
       "      <td>...</td>\n",
       "      <td>...</td>\n",
       "      <td>...</td>\n",
       "      <td>...</td>\n",
       "      <td>...</td>\n",
       "      <td>...</td>\n",
       "      <td>...</td>\n",
       "      <td>...</td>\n",
       "      <td>...</td>\n",
       "      <td>...</td>\n",
       "      <td>...</td>\n",
       "      <td>...</td>\n",
       "    </tr>\n",
       "    <tr>\n",
       "      <th>8119</th>\n",
       "      <td>0</td>\n",
       "      <td>k</td>\n",
       "      <td>s</td>\n",
       "      <td>n</td>\n",
       "      <td>f</td>\n",
       "      <td>n</td>\n",
       "      <td>a</td>\n",
       "      <td>c</td>\n",
       "      <td>b</td>\n",
       "      <td>y</td>\n",
       "      <td>...</td>\n",
       "      <td>s</td>\n",
       "      <td>o</td>\n",
       "      <td>o</td>\n",
       "      <td>p</td>\n",
       "      <td>o</td>\n",
       "      <td>o</td>\n",
       "      <td>p</td>\n",
       "      <td>b</td>\n",
       "      <td>c</td>\n",
       "      <td>l</td>\n",
       "    </tr>\n",
       "    <tr>\n",
       "      <th>8120</th>\n",
       "      <td>0</td>\n",
       "      <td>x</td>\n",
       "      <td>s</td>\n",
       "      <td>n</td>\n",
       "      <td>f</td>\n",
       "      <td>n</td>\n",
       "      <td>a</td>\n",
       "      <td>c</td>\n",
       "      <td>b</td>\n",
       "      <td>y</td>\n",
       "      <td>...</td>\n",
       "      <td>s</td>\n",
       "      <td>o</td>\n",
       "      <td>o</td>\n",
       "      <td>p</td>\n",
       "      <td>n</td>\n",
       "      <td>o</td>\n",
       "      <td>p</td>\n",
       "      <td>b</td>\n",
       "      <td>v</td>\n",
       "      <td>l</td>\n",
       "    </tr>\n",
       "    <tr>\n",
       "      <th>8121</th>\n",
       "      <td>0</td>\n",
       "      <td>f</td>\n",
       "      <td>s</td>\n",
       "      <td>n</td>\n",
       "      <td>f</td>\n",
       "      <td>n</td>\n",
       "      <td>a</td>\n",
       "      <td>c</td>\n",
       "      <td>b</td>\n",
       "      <td>n</td>\n",
       "      <td>...</td>\n",
       "      <td>s</td>\n",
       "      <td>o</td>\n",
       "      <td>o</td>\n",
       "      <td>p</td>\n",
       "      <td>o</td>\n",
       "      <td>o</td>\n",
       "      <td>p</td>\n",
       "      <td>b</td>\n",
       "      <td>c</td>\n",
       "      <td>l</td>\n",
       "    </tr>\n",
       "    <tr>\n",
       "      <th>8122</th>\n",
       "      <td>1</td>\n",
       "      <td>k</td>\n",
       "      <td>y</td>\n",
       "      <td>n</td>\n",
       "      <td>f</td>\n",
       "      <td>y</td>\n",
       "      <td>f</td>\n",
       "      <td>c</td>\n",
       "      <td>n</td>\n",
       "      <td>b</td>\n",
       "      <td>...</td>\n",
       "      <td>k</td>\n",
       "      <td>w</td>\n",
       "      <td>w</td>\n",
       "      <td>p</td>\n",
       "      <td>w</td>\n",
       "      <td>o</td>\n",
       "      <td>e</td>\n",
       "      <td>w</td>\n",
       "      <td>v</td>\n",
       "      <td>l</td>\n",
       "    </tr>\n",
       "    <tr>\n",
       "      <th>8123</th>\n",
       "      <td>0</td>\n",
       "      <td>x</td>\n",
       "      <td>s</td>\n",
       "      <td>n</td>\n",
       "      <td>f</td>\n",
       "      <td>n</td>\n",
       "      <td>a</td>\n",
       "      <td>c</td>\n",
       "      <td>b</td>\n",
       "      <td>y</td>\n",
       "      <td>...</td>\n",
       "      <td>s</td>\n",
       "      <td>o</td>\n",
       "      <td>o</td>\n",
       "      <td>p</td>\n",
       "      <td>o</td>\n",
       "      <td>o</td>\n",
       "      <td>p</td>\n",
       "      <td>o</td>\n",
       "      <td>c</td>\n",
       "      <td>l</td>\n",
       "    </tr>\n",
       "  </tbody>\n",
       "</table>\n",
       "<p>8124 rows × 23 columns</p>\n",
       "</div>"
      ],
      "text/plain": [
       "      class cap-shape cap-surface cap-color bruises odor gill-attachment  \\\n",
       "0         1         x           s         n       t    p               f   \n",
       "1         0         x           s         y       t    a               f   \n",
       "2         0         b           s         w       t    l               f   \n",
       "3         1         x           y         w       t    p               f   \n",
       "4         0         x           s         g       f    n               f   \n",
       "...     ...       ...         ...       ...     ...  ...             ...   \n",
       "8119      0         k           s         n       f    n               a   \n",
       "8120      0         x           s         n       f    n               a   \n",
       "8121      0         f           s         n       f    n               a   \n",
       "8122      1         k           y         n       f    y               f   \n",
       "8123      0         x           s         n       f    n               a   \n",
       "\n",
       "     gill-spacing gill-size gill-color  ... stalk-surface-below-ring  \\\n",
       "0               c         n          k  ...                        s   \n",
       "1               c         b          k  ...                        s   \n",
       "2               c         b          n  ...                        s   \n",
       "3               c         n          n  ...                        s   \n",
       "4               w         b          k  ...                        s   \n",
       "...           ...       ...        ...  ...                      ...   \n",
       "8119            c         b          y  ...                        s   \n",
       "8120            c         b          y  ...                        s   \n",
       "8121            c         b          n  ...                        s   \n",
       "8122            c         n          b  ...                        k   \n",
       "8123            c         b          y  ...                        s   \n",
       "\n",
       "     stalk-color-above-ring stalk-color-below-ring veil-type veil-color  \\\n",
       "0                         w                      w         p          w   \n",
       "1                         w                      w         p          w   \n",
       "2                         w                      w         p          w   \n",
       "3                         w                      w         p          w   \n",
       "4                         w                      w         p          w   \n",
       "...                     ...                    ...       ...        ...   \n",
       "8119                      o                      o         p          o   \n",
       "8120                      o                      o         p          n   \n",
       "8121                      o                      o         p          o   \n",
       "8122                      w                      w         p          w   \n",
       "8123                      o                      o         p          o   \n",
       "\n",
       "     ring-number ring-type spore-print-color population habitat  \n",
       "0              o         p                 k          s       u  \n",
       "1              o         p                 n          n       g  \n",
       "2              o         p                 n          n       m  \n",
       "3              o         p                 k          s       u  \n",
       "4              o         e                 n          a       g  \n",
       "...          ...       ...               ...        ...     ...  \n",
       "8119           o         p                 b          c       l  \n",
       "8120           o         p                 b          v       l  \n",
       "8121           o         p                 b          c       l  \n",
       "8122           o         e                 w          v       l  \n",
       "8123           o         p                 o          c       l  \n",
       "\n",
       "[8124 rows x 23 columns]"
      ]
     },
     "execution_count": 80,
     "metadata": {},
     "output_type": "execute_result"
    }
   ],
   "source": [
    "preprocessing.dataset"
   ]
  },
  {
   "cell_type": "markdown",
   "id": "2b1316ca",
   "metadata": {},
   "source": [
    "# Q 3.1.2"
   ]
  },
  {
   "cell_type": "code",
   "execution_count": 10,
   "id": "90116332",
   "metadata": {},
   "outputs": [
    {
     "data": {
      "text/plain": [
       "class                        int64\n",
       "cap-shape                   object\n",
       "cap-surface                 object\n",
       "cap-color                   object\n",
       "bruises                     object\n",
       "odor                        object\n",
       "gill-attachment             object\n",
       "gill-spacing                object\n",
       "gill-size                   object\n",
       "gill-color                  object\n",
       "stalk-shape                 object\n",
       "stalk-root                  object\n",
       "stalk-surface-above-ring    object\n",
       "stalk-surface-below-ring    object\n",
       "stalk-color-above-ring      object\n",
       "stalk-color-below-ring      object\n",
       "veil-type                   object\n",
       "veil-color                  object\n",
       "ring-number                 object\n",
       "ring-type                   object\n",
       "spore-print-color           object\n",
       "population                  object\n",
       "habitat                     object\n",
       "dtype: object"
      ]
     },
     "execution_count": 10,
     "metadata": {},
     "output_type": "execute_result"
    }
   ],
   "source": [
    "preprocessing.display_data_types()"
   ]
  },
  {
   "cell_type": "markdown",
   "id": "4f0d0790",
   "metadata": {},
   "source": [
    "# Q 3.1.3"
   ]
  },
  {
   "cell_type": "markdown",
   "id": "88ef05c9",
   "metadata": {},
   "source": [
    "Most of the features as generic text or string data."
   ]
  },
  {
   "cell_type": "markdown",
   "id": "d1499d15",
   "metadata": {},
   "source": [
    "<span style=\"color:red\">Warning:</span>\n",
    ": Unique values for stalk-root contains missing value"
   ]
  },
  {
   "cell_type": "code",
   "execution_count": 11,
   "id": "f4774558",
   "metadata": {},
   "outputs": [
    {
     "name": "stdout",
     "output_type": "stream",
     "text": [
      "Unique values for class:\n",
      "[1 0]\n",
      "\n",
      "Unique values for cap-shape:\n",
      "['x' 'b' 's' 'f' 'k' 'c']\n",
      "\n",
      "Unique values for cap-surface:\n",
      "['s' 'y' 'f' 'g']\n",
      "\n",
      "Unique values for cap-color:\n",
      "['n' 'y' 'w' 'g' 'e' 'p' 'b' 'u' 'c' 'r']\n",
      "\n",
      "Unique values for bruises:\n",
      "['t' 'f']\n",
      "\n",
      "Unique values for odor:\n",
      "['p' 'a' 'l' 'n' 'f' 'c' 'y' 's' 'm']\n",
      "\n",
      "Unique values for gill-attachment:\n",
      "['f' 'a']\n",
      "\n",
      "Unique values for gill-spacing:\n",
      "['c' 'w']\n",
      "\n",
      "Unique values for gill-size:\n",
      "['n' 'b']\n",
      "\n",
      "Unique values for gill-color:\n",
      "['k' 'n' 'g' 'p' 'w' 'h' 'u' 'e' 'b' 'r' 'y' 'o']\n",
      "\n",
      "Unique values for stalk-shape:\n",
      "['e' 't']\n",
      "\n",
      "Unique values for stalk-root:\n",
      "['e' 'c' 'b' 'r' '?']\n",
      "\n",
      "Unique values for stalk-surface-above-ring:\n",
      "['s' 'f' 'k' 'y']\n",
      "\n",
      "Unique values for stalk-surface-below-ring:\n",
      "['s' 'f' 'y' 'k']\n",
      "\n",
      "Unique values for stalk-color-above-ring:\n",
      "['w' 'g' 'p' 'n' 'b' 'e' 'o' 'c' 'y']\n",
      "\n",
      "Unique values for stalk-color-below-ring:\n",
      "['w' 'p' 'g' 'b' 'n' 'e' 'y' 'o' 'c']\n",
      "\n",
      "Unique values for veil-type:\n",
      "['p']\n",
      "\n",
      "Unique values for veil-color:\n",
      "['w' 'n' 'o' 'y']\n",
      "\n",
      "Unique values for ring-number:\n",
      "['o' 't' 'n']\n",
      "\n",
      "Unique values for ring-type:\n",
      "['p' 'e' 'l' 'f' 'n']\n",
      "\n",
      "Unique values for spore-print-color:\n",
      "['k' 'n' 'u' 'h' 'w' 'r' 'o' 'y' 'b']\n",
      "\n",
      "Unique values for population:\n",
      "['s' 'n' 'a' 'v' 'y' 'c']\n",
      "\n",
      "Unique values for habitat:\n",
      "['u' 'g' 'm' 'd' 'p' 'w' 'l']\n",
      "\n"
     ]
    }
   ],
   "source": [
    "preprocessing.display_unique_values()"
   ]
  },
  {
   "cell_type": "markdown",
   "id": "0a7dd432",
   "metadata": {},
   "source": [
    "# Q 3.1.4"
   ]
  },
  {
   "cell_type": "markdown",
   "id": "cd28083b",
   "metadata": {},
   "source": [
    "Mahalanobis distance:"
   ]
  },
  {
   "cell_type": "markdown",
   "id": "3370d97a",
   "metadata": {},
   "source": [
    "$$ D(x) = \\sqrt{ (x - \\mu)^T \\Sigma^{-1} (x - \\mu) } $$"
   ]
  },
  {
   "cell_type": "markdown",
   "id": "7586a550",
   "metadata": {},
   "source": [
    "The Mahalanobis distance is typically calculated on numerical data.\n",
    "\n",
    "When our features have a data type of string (text),\n",
    "we cannot directly calculate the Mahalanobis distance without\n",
    "converting the data to a numerical format first."
   ]
  },
  {
   "cell_type": "markdown",
   "id": "38fefd79",
   "metadata": {},
   "source": [
    "# Q 3.1.5"
   ]
  },
  {
   "cell_type": "code",
   "execution_count": 12,
   "id": "86feeea2",
   "metadata": {},
   "outputs": [],
   "source": [
    "preprocessing.encode_categorical_features()"
   ]
  },
  {
   "cell_type": "code",
   "execution_count": 13,
   "id": "97147594",
   "metadata": {},
   "outputs": [
    {
     "data": {
      "text/plain": [
       "class                       int64\n",
       "cap-shape                   int32\n",
       "cap-surface                 int32\n",
       "cap-color                   int32\n",
       "bruises                     int32\n",
       "odor                        int32\n",
       "gill-attachment             int32\n",
       "gill-spacing                int32\n",
       "gill-size                   int32\n",
       "gill-color                  int32\n",
       "stalk-shape                 int32\n",
       "stalk-root                  int32\n",
       "stalk-surface-above-ring    int32\n",
       "stalk-surface-below-ring    int32\n",
       "stalk-color-above-ring      int32\n",
       "stalk-color-below-ring      int32\n",
       "veil-type                   int32\n",
       "veil-color                  int32\n",
       "ring-number                 int32\n",
       "ring-type                   int32\n",
       "spore-print-color           int32\n",
       "population                  int32\n",
       "habitat                     int32\n",
       "dtype: object"
      ]
     },
     "execution_count": 13,
     "metadata": {},
     "output_type": "execute_result"
    }
   ],
   "source": [
    "preprocessing.display_data_types()"
   ]
  },
  {
   "cell_type": "markdown",
   "id": "1c22ae28",
   "metadata": {},
   "source": [
    "# Q 3.1.6"
   ]
  },
  {
   "cell_type": "markdown",
   "id": "f91d12bf",
   "metadata": {},
   "source": [
    "What is a nan value?"
   ]
  },
  {
   "cell_type": "markdown",
   "id": "7a81ee93",
   "metadata": {},
   "source": [
    "A \"NaN\" value stands for \"Not-a-Number.\"\n",
    "\n",
    "It is a special floating-point value used in computing to represent\n",
    "\n",
    "__undefined__ or __unrepresentable__ values, often arising from mathematical operations or data processing."
   ]
  },
  {
   "cell_type": "code",
   "execution_count": 14,
   "id": "78890cd7",
   "metadata": {},
   "outputs": [
    {
     "data": {
      "text/plain": [
       "class                       0\n",
       "cap-shape                   0\n",
       "cap-surface                 0\n",
       "cap-color                   0\n",
       "bruises                     0\n",
       "odor                        0\n",
       "gill-attachment             0\n",
       "gill-spacing                0\n",
       "gill-size                   0\n",
       "gill-color                  0\n",
       "stalk-shape                 0\n",
       "stalk-root                  0\n",
       "stalk-surface-above-ring    0\n",
       "stalk-surface-below-ring    0\n",
       "stalk-color-above-ring      0\n",
       "stalk-color-below-ring      0\n",
       "veil-type                   0\n",
       "veil-color                  0\n",
       "ring-number                 0\n",
       "ring-type                   0\n",
       "spore-print-color           0\n",
       "population                  0\n",
       "habitat                     0\n",
       "dtype: int64"
      ]
     },
     "execution_count": 14,
     "metadata": {},
     "output_type": "execute_result"
    }
   ],
   "source": [
    "preprocessing.dataset.isna().sum()"
   ]
  },
  {
   "cell_type": "markdown",
   "id": "ab8a2278",
   "metadata": {},
   "source": [
    "# 3.2 Creating our model: LDA"
   ]
  },
  {
   "cell_type": "markdown",
   "id": "20fd15a8",
   "metadata": {},
   "source": [
    "# Q 3.2.1"
   ]
  },
  {
   "cell_type": "code",
   "execution_count": 15,
   "id": "be2686ca",
   "metadata": {},
   "outputs": [],
   "source": [
    "dataset = preprocessing.dataset"
   ]
  },
  {
   "cell_type": "code",
   "execution_count": 16,
   "id": "17d2b563",
   "metadata": {},
   "outputs": [],
   "source": [
    "X = dataset.drop(columns=['class'])\n",
    "y = dataset['class']"
   ]
  },
  {
   "cell_type": "code",
   "execution_count": 22,
   "id": "4839b671",
   "metadata": {
    "scrolled": false
   },
   "outputs": [
    {
     "data": {
      "text/html": [
       "<div>\n",
       "<style scoped>\n",
       "    .dataframe tbody tr th:only-of-type {\n",
       "        vertical-align: middle;\n",
       "    }\n",
       "\n",
       "    .dataframe tbody tr th {\n",
       "        vertical-align: top;\n",
       "    }\n",
       "\n",
       "    .dataframe thead th {\n",
       "        text-align: right;\n",
       "    }\n",
       "</style>\n",
       "<table border=\"1\" class=\"dataframe\">\n",
       "  <thead>\n",
       "    <tr style=\"text-align: right;\">\n",
       "      <th></th>\n",
       "      <th>cap-shape</th>\n",
       "      <th>cap-surface</th>\n",
       "      <th>cap-color</th>\n",
       "      <th>bruises</th>\n",
       "      <th>odor</th>\n",
       "      <th>gill-attachment</th>\n",
       "      <th>gill-spacing</th>\n",
       "      <th>gill-size</th>\n",
       "      <th>gill-color</th>\n",
       "      <th>stalk-shape</th>\n",
       "      <th>...</th>\n",
       "      <th>stalk-surface-below-ring</th>\n",
       "      <th>stalk-color-above-ring</th>\n",
       "      <th>stalk-color-below-ring</th>\n",
       "      <th>veil-type</th>\n",
       "      <th>veil-color</th>\n",
       "      <th>ring-number</th>\n",
       "      <th>ring-type</th>\n",
       "      <th>spore-print-color</th>\n",
       "      <th>population</th>\n",
       "      <th>habitat</th>\n",
       "    </tr>\n",
       "  </thead>\n",
       "  <tbody>\n",
       "    <tr>\n",
       "      <th>0</th>\n",
       "      <td>5</td>\n",
       "      <td>2</td>\n",
       "      <td>4</td>\n",
       "      <td>1</td>\n",
       "      <td>6</td>\n",
       "      <td>1</td>\n",
       "      <td>0</td>\n",
       "      <td>1</td>\n",
       "      <td>4</td>\n",
       "      <td>0</td>\n",
       "      <td>...</td>\n",
       "      <td>2</td>\n",
       "      <td>7</td>\n",
       "      <td>7</td>\n",
       "      <td>0</td>\n",
       "      <td>2</td>\n",
       "      <td>1</td>\n",
       "      <td>4</td>\n",
       "      <td>2</td>\n",
       "      <td>3</td>\n",
       "      <td>5</td>\n",
       "    </tr>\n",
       "    <tr>\n",
       "      <th>1</th>\n",
       "      <td>5</td>\n",
       "      <td>2</td>\n",
       "      <td>9</td>\n",
       "      <td>1</td>\n",
       "      <td>0</td>\n",
       "      <td>1</td>\n",
       "      <td>0</td>\n",
       "      <td>0</td>\n",
       "      <td>4</td>\n",
       "      <td>0</td>\n",
       "      <td>...</td>\n",
       "      <td>2</td>\n",
       "      <td>7</td>\n",
       "      <td>7</td>\n",
       "      <td>0</td>\n",
       "      <td>2</td>\n",
       "      <td>1</td>\n",
       "      <td>4</td>\n",
       "      <td>3</td>\n",
       "      <td>2</td>\n",
       "      <td>1</td>\n",
       "    </tr>\n",
       "    <tr>\n",
       "      <th>2</th>\n",
       "      <td>0</td>\n",
       "      <td>2</td>\n",
       "      <td>8</td>\n",
       "      <td>1</td>\n",
       "      <td>3</td>\n",
       "      <td>1</td>\n",
       "      <td>0</td>\n",
       "      <td>0</td>\n",
       "      <td>5</td>\n",
       "      <td>0</td>\n",
       "      <td>...</td>\n",
       "      <td>2</td>\n",
       "      <td>7</td>\n",
       "      <td>7</td>\n",
       "      <td>0</td>\n",
       "      <td>2</td>\n",
       "      <td>1</td>\n",
       "      <td>4</td>\n",
       "      <td>3</td>\n",
       "      <td>2</td>\n",
       "      <td>3</td>\n",
       "    </tr>\n",
       "    <tr>\n",
       "      <th>3</th>\n",
       "      <td>5</td>\n",
       "      <td>3</td>\n",
       "      <td>8</td>\n",
       "      <td>1</td>\n",
       "      <td>6</td>\n",
       "      <td>1</td>\n",
       "      <td>0</td>\n",
       "      <td>1</td>\n",
       "      <td>5</td>\n",
       "      <td>0</td>\n",
       "      <td>...</td>\n",
       "      <td>2</td>\n",
       "      <td>7</td>\n",
       "      <td>7</td>\n",
       "      <td>0</td>\n",
       "      <td>2</td>\n",
       "      <td>1</td>\n",
       "      <td>4</td>\n",
       "      <td>2</td>\n",
       "      <td>3</td>\n",
       "      <td>5</td>\n",
       "    </tr>\n",
       "    <tr>\n",
       "      <th>4</th>\n",
       "      <td>5</td>\n",
       "      <td>2</td>\n",
       "      <td>3</td>\n",
       "      <td>0</td>\n",
       "      <td>5</td>\n",
       "      <td>1</td>\n",
       "      <td>1</td>\n",
       "      <td>0</td>\n",
       "      <td>4</td>\n",
       "      <td>1</td>\n",
       "      <td>...</td>\n",
       "      <td>2</td>\n",
       "      <td>7</td>\n",
       "      <td>7</td>\n",
       "      <td>0</td>\n",
       "      <td>2</td>\n",
       "      <td>1</td>\n",
       "      <td>0</td>\n",
       "      <td>3</td>\n",
       "      <td>0</td>\n",
       "      <td>1</td>\n",
       "    </tr>\n",
       "    <tr>\n",
       "      <th>...</th>\n",
       "      <td>...</td>\n",
       "      <td>...</td>\n",
       "      <td>...</td>\n",
       "      <td>...</td>\n",
       "      <td>...</td>\n",
       "      <td>...</td>\n",
       "      <td>...</td>\n",
       "      <td>...</td>\n",
       "      <td>...</td>\n",
       "      <td>...</td>\n",
       "      <td>...</td>\n",
       "      <td>...</td>\n",
       "      <td>...</td>\n",
       "      <td>...</td>\n",
       "      <td>...</td>\n",
       "      <td>...</td>\n",
       "      <td>...</td>\n",
       "      <td>...</td>\n",
       "      <td>...</td>\n",
       "      <td>...</td>\n",
       "      <td>...</td>\n",
       "    </tr>\n",
       "    <tr>\n",
       "      <th>8119</th>\n",
       "      <td>3</td>\n",
       "      <td>2</td>\n",
       "      <td>4</td>\n",
       "      <td>0</td>\n",
       "      <td>5</td>\n",
       "      <td>0</td>\n",
       "      <td>0</td>\n",
       "      <td>0</td>\n",
       "      <td>11</td>\n",
       "      <td>0</td>\n",
       "      <td>...</td>\n",
       "      <td>2</td>\n",
       "      <td>5</td>\n",
       "      <td>5</td>\n",
       "      <td>0</td>\n",
       "      <td>1</td>\n",
       "      <td>1</td>\n",
       "      <td>4</td>\n",
       "      <td>0</td>\n",
       "      <td>1</td>\n",
       "      <td>2</td>\n",
       "    </tr>\n",
       "    <tr>\n",
       "      <th>8120</th>\n",
       "      <td>5</td>\n",
       "      <td>2</td>\n",
       "      <td>4</td>\n",
       "      <td>0</td>\n",
       "      <td>5</td>\n",
       "      <td>0</td>\n",
       "      <td>0</td>\n",
       "      <td>0</td>\n",
       "      <td>11</td>\n",
       "      <td>0</td>\n",
       "      <td>...</td>\n",
       "      <td>2</td>\n",
       "      <td>5</td>\n",
       "      <td>5</td>\n",
       "      <td>0</td>\n",
       "      <td>0</td>\n",
       "      <td>1</td>\n",
       "      <td>4</td>\n",
       "      <td>0</td>\n",
       "      <td>4</td>\n",
       "      <td>2</td>\n",
       "    </tr>\n",
       "    <tr>\n",
       "      <th>8121</th>\n",
       "      <td>2</td>\n",
       "      <td>2</td>\n",
       "      <td>4</td>\n",
       "      <td>0</td>\n",
       "      <td>5</td>\n",
       "      <td>0</td>\n",
       "      <td>0</td>\n",
       "      <td>0</td>\n",
       "      <td>5</td>\n",
       "      <td>0</td>\n",
       "      <td>...</td>\n",
       "      <td>2</td>\n",
       "      <td>5</td>\n",
       "      <td>5</td>\n",
       "      <td>0</td>\n",
       "      <td>1</td>\n",
       "      <td>1</td>\n",
       "      <td>4</td>\n",
       "      <td>0</td>\n",
       "      <td>1</td>\n",
       "      <td>2</td>\n",
       "    </tr>\n",
       "    <tr>\n",
       "      <th>8122</th>\n",
       "      <td>3</td>\n",
       "      <td>3</td>\n",
       "      <td>4</td>\n",
       "      <td>0</td>\n",
       "      <td>8</td>\n",
       "      <td>1</td>\n",
       "      <td>0</td>\n",
       "      <td>1</td>\n",
       "      <td>0</td>\n",
       "      <td>1</td>\n",
       "      <td>...</td>\n",
       "      <td>1</td>\n",
       "      <td>7</td>\n",
       "      <td>7</td>\n",
       "      <td>0</td>\n",
       "      <td>2</td>\n",
       "      <td>1</td>\n",
       "      <td>0</td>\n",
       "      <td>7</td>\n",
       "      <td>4</td>\n",
       "      <td>2</td>\n",
       "    </tr>\n",
       "    <tr>\n",
       "      <th>8123</th>\n",
       "      <td>5</td>\n",
       "      <td>2</td>\n",
       "      <td>4</td>\n",
       "      <td>0</td>\n",
       "      <td>5</td>\n",
       "      <td>0</td>\n",
       "      <td>0</td>\n",
       "      <td>0</td>\n",
       "      <td>11</td>\n",
       "      <td>0</td>\n",
       "      <td>...</td>\n",
       "      <td>2</td>\n",
       "      <td>5</td>\n",
       "      <td>5</td>\n",
       "      <td>0</td>\n",
       "      <td>1</td>\n",
       "      <td>1</td>\n",
       "      <td>4</td>\n",
       "      <td>4</td>\n",
       "      <td>1</td>\n",
       "      <td>2</td>\n",
       "    </tr>\n",
       "  </tbody>\n",
       "</table>\n",
       "<p>8124 rows × 22 columns</p>\n",
       "</div>"
      ],
      "text/plain": [
       "      cap-shape  cap-surface  cap-color  bruises  odor  gill-attachment  \\\n",
       "0             5            2          4        1     6                1   \n",
       "1             5            2          9        1     0                1   \n",
       "2             0            2          8        1     3                1   \n",
       "3             5            3          8        1     6                1   \n",
       "4             5            2          3        0     5                1   \n",
       "...         ...          ...        ...      ...   ...              ...   \n",
       "8119          3            2          4        0     5                0   \n",
       "8120          5            2          4        0     5                0   \n",
       "8121          2            2          4        0     5                0   \n",
       "8122          3            3          4        0     8                1   \n",
       "8123          5            2          4        0     5                0   \n",
       "\n",
       "      gill-spacing  gill-size  gill-color  stalk-shape  ...  \\\n",
       "0                0          1           4            0  ...   \n",
       "1                0          0           4            0  ...   \n",
       "2                0          0           5            0  ...   \n",
       "3                0          1           5            0  ...   \n",
       "4                1          0           4            1  ...   \n",
       "...            ...        ...         ...          ...  ...   \n",
       "8119             0          0          11            0  ...   \n",
       "8120             0          0          11            0  ...   \n",
       "8121             0          0           5            0  ...   \n",
       "8122             0          1           0            1  ...   \n",
       "8123             0          0          11            0  ...   \n",
       "\n",
       "      stalk-surface-below-ring  stalk-color-above-ring  \\\n",
       "0                            2                       7   \n",
       "1                            2                       7   \n",
       "2                            2                       7   \n",
       "3                            2                       7   \n",
       "4                            2                       7   \n",
       "...                        ...                     ...   \n",
       "8119                         2                       5   \n",
       "8120                         2                       5   \n",
       "8121                         2                       5   \n",
       "8122                         1                       7   \n",
       "8123                         2                       5   \n",
       "\n",
       "      stalk-color-below-ring  veil-type  veil-color  ring-number  ring-type  \\\n",
       "0                          7          0           2            1          4   \n",
       "1                          7          0           2            1          4   \n",
       "2                          7          0           2            1          4   \n",
       "3                          7          0           2            1          4   \n",
       "4                          7          0           2            1          0   \n",
       "...                      ...        ...         ...          ...        ...   \n",
       "8119                       5          0           1            1          4   \n",
       "8120                       5          0           0            1          4   \n",
       "8121                       5          0           1            1          4   \n",
       "8122                       7          0           2            1          0   \n",
       "8123                       5          0           1            1          4   \n",
       "\n",
       "      spore-print-color  population  habitat  \n",
       "0                     2           3        5  \n",
       "1                     3           2        1  \n",
       "2                     3           2        3  \n",
       "3                     2           3        5  \n",
       "4                     3           0        1  \n",
       "...                 ...         ...      ...  \n",
       "8119                  0           1        2  \n",
       "8120                  0           4        2  \n",
       "8121                  0           1        2  \n",
       "8122                  7           4        2  \n",
       "8123                  4           1        2  \n",
       "\n",
       "[8124 rows x 22 columns]"
      ]
     },
     "execution_count": 22,
     "metadata": {},
     "output_type": "execute_result"
    }
   ],
   "source": [
    "X"
   ]
  },
  {
   "cell_type": "code",
   "execution_count": 23,
   "id": "62ac3286",
   "metadata": {},
   "outputs": [
    {
     "data": {
      "text/plain": [
       "0       1\n",
       "1       0\n",
       "2       0\n",
       "3       1\n",
       "4       0\n",
       "       ..\n",
       "8119    0\n",
       "8120    0\n",
       "8121    0\n",
       "8122    1\n",
       "8123    0\n",
       "Name: class, Length: 8124, dtype: int64"
      ]
     },
     "execution_count": 23,
     "metadata": {},
     "output_type": "execute_result"
    }
   ],
   "source": [
    "y"
   ]
  },
  {
   "cell_type": "markdown",
   "id": "a16422fe",
   "metadata": {},
   "source": [
    "# Q 3.2.2"
   ]
  },
  {
   "cell_type": "markdown",
   "id": "094cd898",
   "metadata": {},
   "source": [
    "what is random state?"
   ]
  },
  {
   "cell_type": "markdown",
   "id": "b657d19f",
   "metadata": {},
   "source": [
    "+ if you use the same random_state value in different runs of your program, you will get the same data split every time."
   ]
  },
  {
   "cell_type": "code",
   "execution_count": 19,
   "id": "1ef7baca",
   "metadata": {},
   "outputs": [],
   "source": [
    "X_train, X_test, y_train, y_test = train_test_split(X, y, test_size=0.2, random_state=42)"
   ]
  },
  {
   "cell_type": "markdown",
   "id": "56898e70",
   "metadata": {},
   "source": [
    "# Q 3.2.3"
   ]
  },
  {
   "cell_type": "markdown",
   "id": "33c137a0",
   "metadata": {},
   "source": [
    "what is the Bayes rule? It describes how to update the probability for a hypothesis (or an event) based on new evidence. "
   ]
  },
  {
   "cell_type": "markdown",
   "id": "197852a1",
   "metadata": {},
   "source": [
    "$$ P(A|B) = \\frac{P(A) \\cdot P(B|A)}{P(B)} $$"
   ]
  },
  {
   "cell_type": "markdown",
   "id": "545e5997",
   "metadata": {},
   "source": [
    "How is it used in Bayesian classification? "
   ]
  },
  {
   "cell_type": "markdown",
   "id": "3d119b0a",
   "metadata": {},
   "source": [
    "1. Training Phase:\n",
    "\n",
    "       + Collect and preprocess your training data, which typically consists of labeled examples.\n",
    "\n",
    "       + Calculate class probabilities (P(A)): For each class label, compute the prior probability of that class in the training data. This is often done by counting the number of occurrences of each class in the training set.\n",
    "\n",
    "       + Calculate conditional probabilities (P(B∣A)): For each feature, compute the likelihood of observing that feature given a specific class. This involves calculating the conditional probability of each feature occurring within each class.\n",
    "\n",
    "2. Testing or Prediction Phase:\n",
    "\n",
    "       + Given a new data point (features), use Bayes' Rule to calculate the posterior probability (P(A∣B)) for each possible class.\n",
    "\n",
    "       + To predict the class label for the new data point, select the class with the highest posterior probability. This is often referred to as the Maximum A Posteriori (MAP) decision rule."
   ]
  },
  {
   "cell_type": "markdown",
   "id": "782f1e4b",
   "metadata": {},
   "source": [
    "What is each term of this rule called?"
   ]
  },
  {
   "cell_type": "markdown",
   "id": "4d158c4c",
   "metadata": {},
   "source": [
    "+ The __\"prior probability\"__ (P(A)) is the initial belief in the probability of a particular class.\n",
    "+ The __\"likelihood\"__ (P(B∣A)) describes how likely the observed features are to occur given a specific class.\n",
    "+ The __\"evidence\"__ (P(B)) represents the overall likelihood of observing the given features, regardless of the class.\n",
    "+ The __\"posterior probability\"__ (P(A∣B)) is the updated belief in the probability of a particular class after observing the features."
   ]
  },
  {
   "cell_type": "markdown",
   "id": "d592bd9c",
   "metadata": {},
   "source": [
    "# Q 3.2.4"
   ]
  },
  {
   "cell_type": "markdown",
   "id": "01e6b7ac",
   "metadata": {},
   "source": [
    "What are the model parameters of LDA and QDA classifiers? These classifiers are based on different assumptions about the underlying data distribution,\n",
    "and as a result, they have different sets of model parameters."
   ]
  },
  {
   "cell_type": "markdown",
   "id": "29b3c085",
   "metadata": {},
   "source": [
    "1. LDA (Linear Discriminant Analysis):\n",
    "    LDA assumes that all classes have a common covariance matrix, and the decision boundaries between classes are linear."
   ]
  },
  {
   "cell_type": "markdown",
   "id": "0c36d939",
   "metadata": {},
   "source": [
    "    + Class Priors (ϕ_k): These are the prior probabilities of each class in the training data.\n",
    "    + Class Means (μ_k): For each class, there is a vector of means representing the mean feature values for that class. These vectors capture the central tendency of feature values for each class.\n",
    "    + Shared Covariance Matrix (Σ): This matrix characterizes the shape of the distribution of data points within each class which is why it's \"linear\" discriminant analysis."
   ]
  },
  {
   "cell_type": "markdown",
   "id": "e720a71f",
   "metadata": {},
   "source": [
    "2. QDA (Quadratic Discriminant Analysis): QDA, in contrast to LDA, allows each class to have its own covariance matrix and does not assume a common covariance matrix. "
   ]
  },
  {
   "cell_type": "markdown",
   "id": "17ef0a48",
   "metadata": {},
   "source": [
    "    + Class Priors (ϕ_k): Similar to LDA, these represent the prior probabilities of each class in the training data.\n",
    "    + Class Means (μ_k): QDA also calculates the mean feature values for each class. These vectors capture the central tendency of feature values for each class.\n",
    "    + Class-Specific Covariance Matrices (Σ_k): Each class has its own covariance matrix, representing the shape of the data distribution for that class. This results in more flexibility in modeling the data distribution, making QDA \"quadratic\" discriminant analysis."
   ]
  },
  {
   "cell_type": "markdown",
   "id": "e7ca4b1f",
   "metadata": {},
   "source": [
    "Between QDA and LDA, which one has potentially more parameters? why?\n",
    "\n",
    "LDA typically has potentially fewer parameters compared to QDA because it assumes a shared covariance matrix among all classes, whereas QDA allows each class to have its own covariance matrix. "
   ]
  },
  {
   "cell_type": "markdown",
   "id": "1f259da7",
   "metadata": {},
   "source": [
    "# Q 3.2.5"
   ]
  },
  {
   "cell_type": "markdown",
   "id": "847e2dde",
   "metadata": {},
   "source": [
    "___The probability density function (PDF)___ for a univariate (single-variable) Gaussian distribution "
   ]
  },
  {
   "cell_type": "markdown",
   "id": "c4b00bd3",
   "metadata": {},
   "source": [
    "$$ f(x| \\mu, \\sigma^2) = \\frac{1}{\\sqrt{2\\pi\\sigma^2}} \\exp\\left(-\\frac{(x - \\mu)^2}{2\\sigma^2}\\right) $$"
   ]
  },
  {
   "cell_type": "markdown",
   "id": "77d8b24c",
   "metadata": {},
   "source": [
    "___likelihood___ function for a Gaussian distribution"
   ]
  },
  {
   "cell_type": "markdown",
   "id": "706b208c",
   "metadata": {},
   "source": [
    "$$ L(\\mu, \\sigma^2 | x) = f(x| \\mu, \\sigma^2) $$\n"
   ]
  },
  {
   "cell_type": "markdown",
   "id": "cc333f7b",
   "metadata": {},
   "source": [
    "The estimated class for the pixel:"
   ]
  },
  {
   "cell_type": "markdown",
   "id": "b7e279f2",
   "metadata": {},
   "source": [
    "$$ \\hat{y} = \\arg\\max_i L_i(\\mu, \\sigma^2 | x) $$"
   ]
  },
  {
   "cell_type": "markdown",
   "id": "a81157f2",
   "metadata": {},
   "source": [
    "Estimating Probability:\n",
    "\n",
    "From Bayes Theorem: \n",
    "$$ P(C_k | \\mathbf{X}) = \\frac{\\prod_{k=1}^{n} L(C_k | \\mathbf{x}_i)}{\\sum_i \\prod_i L(C_i | \\mathbf{x})}$$\n"
   ]
  },
  {
   "cell_type": "markdown",
   "id": "3514cb09",
   "metadata": {},
   "source": [
    "To calculate the parameters of Linear Discriminant Analysis (LDA) in an __iterative__ manner:\n",
    "1. Initialize Parameters\n",
    "2. Define the Objective Function\n",
    "3. Compute Gradients\n",
    "4. Update Parameters"
   ]
  },
  {
   "cell_type": "markdown",
   "id": "7ce49116",
   "metadata": {},
   "source": [
    "**Objective Function for LDA:**\n",
    "The log-likelihood function for LDA is given by:\n",
    "$$ \\ell(\\boldsymbol{\\mu}, \\boldsymbol{\\Sigma}) = \\sum_{i=1}^{N} \\sum_{j=1}^{K} \\delta_{ij} \\log p(\\mathbf{x}_i | C_j, \\boldsymbol{\\mu}, \\boldsymbol{\\Sigma}_j) $$"
   ]
  },
  {
   "cell_type": "markdown",
   "id": "d3751e76",
   "metadata": {},
   "source": [
    "1. **Gradient with respect to $ \\boldsymbol{\\mu}_j $:**\n",
    "   $$ \\frac{\\partial \\ell}{\\partial \\boldsymbol{\\mu}_j} = \\sum_{i=1}^{N} \\delta_{ij} \\boldsymbol{\\Sigma}^{-1} (\\mathbf{x}_i - \\boldsymbol{\\mu}_j) $$\n",
    "\n",
    "2. **Gradient with respect to $ \\boldsymbol{\\Sigma} $:**\n",
    "   $$ \\frac{\\partial \\ell}{\\partial \\boldsymbol{\\Sigma}} = \\sum_{i=1}^{N} \\delta_{ij} \\left( -\\frac{1}{2} \\boldsymbol{\\Sigma}^{-1} + \\frac{1}{2} \\boldsymbol{\\Sigma}^{-1} (\\mathbf{x}_i - \\boldsymbol{\\mu}_j)(\\mathbf{x}_i - \\boldsymbol{\\mu}_j)^T \\boldsymbol{\\Sigma}^{-1} \\right) $$\n"
   ]
  },
  {
   "cell_type": "code",
   "execution_count": 82,
   "id": "6e04acc7",
   "metadata": {},
   "outputs": [],
   "source": [
    "#initialize Parameters\n",
    "mu_0 = np.mean(X[y == 0], axis=0)\n",
    "mu_1 = np.mean(X[y == 1], axis=0)\n",
    "Sigma = np.cov(X, rowvar=False)"
   ]
  },
  {
   "cell_type": "markdown",
   "id": "3a20ce3c",
   "metadata": {},
   "source": [
    "If the determinant is zero, the matrix is singular, and its inverse does not exist."
   ]
  },
  {
   "cell_type": "code",
   "execution_count": 83,
   "id": "cd511a21",
   "metadata": {},
   "outputs": [
    {
     "data": {
      "text/plain": [
       "0.0"
      ]
     },
     "execution_count": 83,
     "metadata": {},
     "output_type": "execute_result"
    }
   ],
   "source": [
    "np.linalg.det(Sigma)"
   ]
  },
  {
   "cell_type": "code",
   "execution_count": 67,
   "id": "8646c8d6",
   "metadata": {},
   "outputs": [],
   "source": [
    "Sigma = np.eye(X.shape[1]) * Sigma"
   ]
  },
  {
   "cell_type": "code",
   "execution_count": 70,
   "id": "c421db81",
   "metadata": {},
   "outputs": [
    {
     "data": {
      "text/plain": [
       "0.0"
      ]
     },
     "execution_count": 70,
     "metadata": {},
     "output_type": "execute_result"
    }
   ],
   "source": [
    "np.linalg.det(Sigma)"
   ]
  },
  {
   "cell_type": "code",
   "execution_count": null,
   "id": "a31ce524",
   "metadata": {},
   "outputs": [],
   "source": []
  },
  {
   "cell_type": "code",
   "execution_count": null,
   "id": "fc73ac5b",
   "metadata": {},
   "outputs": [],
   "source": []
  }
 ],
 "metadata": {
  "kernelspec": {
   "display_name": "Python 3 (ipykernel)",
   "language": "python",
   "name": "python3"
  },
  "language_info": {
   "codemirror_mode": {
    "name": "ipython",
    "version": 3
   },
   "file_extension": ".py",
   "mimetype": "text/x-python",
   "name": "python",
   "nbconvert_exporter": "python",
   "pygments_lexer": "ipython3",
   "version": "3.11.5"
  }
 },
 "nbformat": 4,
 "nbformat_minor": 5
}
