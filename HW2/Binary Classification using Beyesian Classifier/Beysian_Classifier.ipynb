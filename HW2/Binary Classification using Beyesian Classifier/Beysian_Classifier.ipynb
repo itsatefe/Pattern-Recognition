{
 "cells": [
  {
   "cell_type": "code",
   "execution_count": 44,
   "id": "8ff25f5f",
   "metadata": {},
   "outputs": [],
   "source": [
    "import pandas as pd\n",
    "import numpy as np\n",
    "from sklearn.preprocessing import LabelEncoder\n",
    "import jdc\n",
    "from sklearn.model_selection import train_test_split"
   ]
  },
  {
   "cell_type": "markdown",
   "id": "c2ff7001",
   "metadata": {},
   "source": [
    "# 3.1 Preprocessing"
   ]
  },
  {
   "cell_type": "code",
   "execution_count": 28,
   "id": "a48b17f2",
   "metadata": {},
   "outputs": [],
   "source": [
    "class Preprocessing:\n",
    "    def __init__(self, url, column_names_csv):\n",
    "        self.url = url\n",
    "        self.column_names_csv = column_names_csv\n",
    "        self.dataset = None"
   ]
  },
  {
   "cell_type": "code",
   "execution_count": 29,
   "id": "1e3be5ae",
   "metadata": {},
   "outputs": [],
   "source": [
    "%%add_to Preprocessing\n",
    "def load_dataset(self):\n",
    "    column_names_df = pd.read_csv(self.column_names_csv)\n",
    "    column_names = column_names_df['Column_Names'].tolist()\n",
    "    self.dataset = pd.read_csv(self.url, header=None, names=column_names)\n",
    "    self.dataset['class'] = self.dataset['class'].map({'e': 0, 'p': 1})"
   ]
  },
  {
   "cell_type": "code",
   "execution_count": 30,
   "id": "a53102ef",
   "metadata": {},
   "outputs": [],
   "source": [
    "%%add_to Preprocessing\n",
    "def display_data_types(self):\n",
    "    if self.dataset is not None:\n",
    "        return self.dataset.dtypes\n",
    "    else:\n",
    "        return \"Dataset not loaded.\""
   ]
  },
  {
   "cell_type": "code",
   "execution_count": 31,
   "id": "d93f6cf4",
   "metadata": {},
   "outputs": [],
   "source": [
    "%%add_to Preprocessing\n",
    "def display_unique_values(self):\n",
    "    if self.dataset is not None:\n",
    "        for column in self.dataset.columns:\n",
    "            unique_values = self.dataset[column].unique()\n",
    "            print(f\"Unique values for {column}:\\n{unique_values}\\n\")\n",
    "    else:\n",
    "        print(\"Dataset not loaded.\")"
   ]
  },
  {
   "cell_type": "code",
   "execution_count": 32,
   "id": "e2315590",
   "metadata": {},
   "outputs": [],
   "source": [
    "%%add_to Preprocessing\n",
    "def encode_categorical_features(self):\n",
    "    if self.dataset is not None:\n",
    "        label_encoder = LabelEncoder()\n",
    "        categorical_features = self.dataset.select_dtypes(include=['object']).columns\n",
    "        for feature in categorical_features:\n",
    "            self.dataset[feature] = label_encoder.fit_transform(self.dataset[feature])\n",
    "    else:\n",
    "        print(\"Dataset not loaded.\")"
   ]
  },
  {
   "cell_type": "code",
   "execution_count": 33,
   "id": "f44951ba",
   "metadata": {},
   "outputs": [],
   "source": [
    "url = 'https://archive.ics.uci.edu/ml/machine-learning-databases/mushroom/agaricus-lepiota.data'\n",
    "column_names_csv = 'mushroom_feature_names.csv'"
   ]
  },
  {
   "cell_type": "code",
   "execution_count": 34,
   "id": "7c647741",
   "metadata": {},
   "outputs": [],
   "source": [
    "preprocessing = Preprocessing(url, column_names_csv)"
   ]
  },
  {
   "cell_type": "markdown",
   "id": "7f33ce25",
   "metadata": {},
   "source": [
    "# Q 3.1.1"
   ]
  },
  {
   "cell_type": "code",
   "execution_count": 35,
   "id": "ec37ef04",
   "metadata": {},
   "outputs": [],
   "source": [
    "preprocessing.load_dataset()"
   ]
  },
  {
   "cell_type": "markdown",
   "id": "2b1316ca",
   "metadata": {},
   "source": [
    "# Q 3.1.2"
   ]
  },
  {
   "cell_type": "code",
   "execution_count": 36,
   "id": "90116332",
   "metadata": {},
   "outputs": [
    {
     "data": {
      "text/plain": [
       "class                        int64\n",
       "cap-shape                   object\n",
       "cap-surface                 object\n",
       "cap-color                   object\n",
       "bruises                     object\n",
       "odor                        object\n",
       "gill-attachment             object\n",
       "gill-spacing                object\n",
       "gill-size                   object\n",
       "gill-color                  object\n",
       "stalk-shape                 object\n",
       "stalk-root                  object\n",
       "stalk-surface-above-ring    object\n",
       "stalk-surface-below-ring    object\n",
       "stalk-color-above-ring      object\n",
       "stalk-color-below-ring      object\n",
       "veil-type                   object\n",
       "veil-color                  object\n",
       "ring-number                 object\n",
       "ring-type                   object\n",
       "spore-print-color           object\n",
       "population                  object\n",
       "habitat                     object\n",
       "dtype: object"
      ]
     },
     "execution_count": 36,
     "metadata": {},
     "output_type": "execute_result"
    }
   ],
   "source": [
    "preprocessing.display_data_types()"
   ]
  },
  {
   "cell_type": "markdown",
   "id": "4f0d0790",
   "metadata": {},
   "source": [
    "# Q 3.1.3"
   ]
  },
  {
   "cell_type": "markdown",
   "id": "88ef05c9",
   "metadata": {},
   "source": [
    "Most of the features as generic text or string data."
   ]
  },
  {
   "cell_type": "code",
   "execution_count": 37,
   "id": "f4774558",
   "metadata": {},
   "outputs": [
    {
     "name": "stdout",
     "output_type": "stream",
     "text": [
      "Unique values for class:\n",
      "[1 0]\n",
      "\n",
      "Unique values for cap-shape:\n",
      "['x' 'b' 's' 'f' 'k' 'c']\n",
      "\n",
      "Unique values for cap-surface:\n",
      "['s' 'y' 'f' 'g']\n",
      "\n",
      "Unique values for cap-color:\n",
      "['n' 'y' 'w' 'g' 'e' 'p' 'b' 'u' 'c' 'r']\n",
      "\n",
      "Unique values for bruises:\n",
      "['t' 'f']\n",
      "\n",
      "Unique values for odor:\n",
      "['p' 'a' 'l' 'n' 'f' 'c' 'y' 's' 'm']\n",
      "\n",
      "Unique values for gill-attachment:\n",
      "['f' 'a']\n",
      "\n",
      "Unique values for gill-spacing:\n",
      "['c' 'w']\n",
      "\n",
      "Unique values for gill-size:\n",
      "['n' 'b']\n",
      "\n",
      "Unique values for gill-color:\n",
      "['k' 'n' 'g' 'p' 'w' 'h' 'u' 'e' 'b' 'r' 'y' 'o']\n",
      "\n",
      "Unique values for stalk-shape:\n",
      "['e' 't']\n",
      "\n",
      "Unique values for stalk-root:\n",
      "['e' 'c' 'b' 'r' '?']\n",
      "\n",
      "Unique values for stalk-surface-above-ring:\n",
      "['s' 'f' 'k' 'y']\n",
      "\n",
      "Unique values for stalk-surface-below-ring:\n",
      "['s' 'f' 'y' 'k']\n",
      "\n",
      "Unique values for stalk-color-above-ring:\n",
      "['w' 'g' 'p' 'n' 'b' 'e' 'o' 'c' 'y']\n",
      "\n",
      "Unique values for stalk-color-below-ring:\n",
      "['w' 'p' 'g' 'b' 'n' 'e' 'y' 'o' 'c']\n",
      "\n",
      "Unique values for veil-type:\n",
      "['p']\n",
      "\n",
      "Unique values for veil-color:\n",
      "['w' 'n' 'o' 'y']\n",
      "\n",
      "Unique values for ring-number:\n",
      "['o' 't' 'n']\n",
      "\n",
      "Unique values for ring-type:\n",
      "['p' 'e' 'l' 'f' 'n']\n",
      "\n",
      "Unique values for spore-print-color:\n",
      "['k' 'n' 'u' 'h' 'w' 'r' 'o' 'y' 'b']\n",
      "\n",
      "Unique values for population:\n",
      "['s' 'n' 'a' 'v' 'y' 'c']\n",
      "\n",
      "Unique values for habitat:\n",
      "['u' 'g' 'm' 'd' 'p' 'w' 'l']\n",
      "\n"
     ]
    }
   ],
   "source": [
    "preprocessing.display_unique_values()"
   ]
  },
  {
   "cell_type": "markdown",
   "id": "0a7dd432",
   "metadata": {},
   "source": [
    "# Q 3.1.4"
   ]
  },
  {
   "cell_type": "markdown",
   "id": "cd28083b",
   "metadata": {},
   "source": [
    "Mahalanobis distance:"
   ]
  },
  {
   "cell_type": "markdown",
   "id": "3370d97a",
   "metadata": {},
   "source": [
    "$$ D(x) = \\sqrt{ (x - \\mu)^T \\Sigma^{-1} (x - \\mu) } $$"
   ]
  },
  {
   "cell_type": "markdown",
   "id": "7586a550",
   "metadata": {},
   "source": [
    "The Mahalanobis distance is typically calculated on numerical data.\n",
    "\n",
    "When our features have a data type of string (text),\n",
    "we cannot directly calculate the Mahalanobis distance without\n",
    "converting the data to a numerical format first."
   ]
  },
  {
   "cell_type": "markdown",
   "id": "38fefd79",
   "metadata": {},
   "source": [
    "# Q 3.1.5"
   ]
  },
  {
   "cell_type": "code",
   "execution_count": 38,
   "id": "86feeea2",
   "metadata": {},
   "outputs": [],
   "source": [
    "preprocessing.encode_categorical_features()"
   ]
  },
  {
   "cell_type": "code",
   "execution_count": 39,
   "id": "97147594",
   "metadata": {},
   "outputs": [
    {
     "data": {
      "text/plain": [
       "class                       int64\n",
       "cap-shape                   int32\n",
       "cap-surface                 int32\n",
       "cap-color                   int32\n",
       "bruises                     int32\n",
       "odor                        int32\n",
       "gill-attachment             int32\n",
       "gill-spacing                int32\n",
       "gill-size                   int32\n",
       "gill-color                  int32\n",
       "stalk-shape                 int32\n",
       "stalk-root                  int32\n",
       "stalk-surface-above-ring    int32\n",
       "stalk-surface-below-ring    int32\n",
       "stalk-color-above-ring      int32\n",
       "stalk-color-below-ring      int32\n",
       "veil-type                   int32\n",
       "veil-color                  int32\n",
       "ring-number                 int32\n",
       "ring-type                   int32\n",
       "spore-print-color           int32\n",
       "population                  int32\n",
       "habitat                     int32\n",
       "dtype: object"
      ]
     },
     "execution_count": 39,
     "metadata": {},
     "output_type": "execute_result"
    }
   ],
   "source": [
    "preprocessing.display_data_types()"
   ]
  },
  {
   "cell_type": "markdown",
   "id": "1c22ae28",
   "metadata": {},
   "source": [
    "# Q 3.1.6"
   ]
  },
  {
   "cell_type": "markdown",
   "id": "f91d12bf",
   "metadata": {},
   "source": [
    "What is a nan value?"
   ]
  },
  {
   "cell_type": "markdown",
   "id": "7a81ee93",
   "metadata": {},
   "source": [
    "A \"NaN\" value stands for \"Not-a-Number.\"\n",
    "\n",
    "It is a special floating-point value used in computing to represent\n",
    "\n",
    "__undefined__ or __unrepresentable__ values, often arising from mathematical operations or data processing."
   ]
  },
  {
   "cell_type": "code",
   "execution_count": 40,
   "id": "78890cd7",
   "metadata": {},
   "outputs": [
    {
     "data": {
      "text/plain": [
       "class                       0\n",
       "cap-shape                   0\n",
       "cap-surface                 0\n",
       "cap-color                   0\n",
       "bruises                     0\n",
       "odor                        0\n",
       "gill-attachment             0\n",
       "gill-spacing                0\n",
       "gill-size                   0\n",
       "gill-color                  0\n",
       "stalk-shape                 0\n",
       "stalk-root                  0\n",
       "stalk-surface-above-ring    0\n",
       "stalk-surface-below-ring    0\n",
       "stalk-color-above-ring      0\n",
       "stalk-color-below-ring      0\n",
       "veil-type                   0\n",
       "veil-color                  0\n",
       "ring-number                 0\n",
       "ring-type                   0\n",
       "spore-print-color           0\n",
       "population                  0\n",
       "habitat                     0\n",
       "dtype: int64"
      ]
     },
     "execution_count": 40,
     "metadata": {},
     "output_type": "execute_result"
    }
   ],
   "source": [
    "preprocessing.dataset.isna().sum()"
   ]
  },
  {
   "cell_type": "markdown",
   "id": "ab8a2278",
   "metadata": {},
   "source": [
    "# 3.2 Creating our model: LDA"
   ]
  },
  {
   "cell_type": "markdown",
   "id": "20fd15a8",
   "metadata": {},
   "source": [
    "# Q 3.2.1"
   ]
  },
  {
   "cell_type": "code",
   "execution_count": 42,
   "id": "be2686ca",
   "metadata": {},
   "outputs": [],
   "source": [
    "dataset = preprocessing.dataset"
   ]
  },
  {
   "cell_type": "code",
   "execution_count": 43,
   "id": "17d2b563",
   "metadata": {},
   "outputs": [],
   "source": [
    "X = dataset.drop(columns=['class'])\n",
    "y = dataset['class']"
   ]
  },
  {
   "cell_type": "markdown",
   "id": "a16422fe",
   "metadata": {},
   "source": [
    "# Q 3.2.2"
   ]
  },
  {
   "cell_type": "markdown",
   "id": "094cd898",
   "metadata": {},
   "source": [
    "what is random state?"
   ]
  },
  {
   "cell_type": "markdown",
   "id": "b657d19f",
   "metadata": {},
   "source": [
    "+ if you use the same random_state value in different runs of your program, you will get the same data split every time."
   ]
  },
  {
   "cell_type": "code",
   "execution_count": 46,
   "id": "1ef7baca",
   "metadata": {},
   "outputs": [],
   "source": [
    "X_train, X_test, y_train, y_test = train_test_split(X, y, test_size=0.2, random_state=42)"
   ]
  },
  {
   "cell_type": "markdown",
   "id": "56898e70",
   "metadata": {},
   "source": [
    "# Q 3.2.3"
   ]
  },
  {
   "cell_type": "markdown",
   "id": "33c137a0",
   "metadata": {},
   "source": [
    "what is the Bayes rule? It describes how to update the probability for a hypothesis (or an event) based on new evidence. "
   ]
  },
  {
   "cell_type": "markdown",
   "id": "197852a1",
   "metadata": {},
   "source": [
    "$$ P(A|B) = \\frac{P(A) \\cdot P(B|A)}{P(B)} $$"
   ]
  },
  {
   "cell_type": "markdown",
   "id": "545e5997",
   "metadata": {},
   "source": [
    "How is it used in Bayesian classification? "
   ]
  },
  {
   "cell_type": "markdown",
   "id": "3d119b0a",
   "metadata": {},
   "source": [
    "1. Training Phase:\n",
    "\n",
    "       + Collect and preprocess your training data, which typically consists of labeled examples.\n",
    "\n",
    "       + Calculate class probabilities (P(A)): For each class label, compute the prior probability of that class in the training data. This is often done by counting the number of occurrences of each class in the training set.\n",
    "\n",
    "       + Calculate conditional probabilities (P(B∣A)): For each feature, compute the likelihood of observing that feature given a specific class. This involves calculating the conditional probability of each feature occurring within each class.\n",
    "\n",
    "2. Testing or Prediction Phase:\n",
    "\n",
    "       + Given a new data point (features), use Bayes' Rule to calculate the posterior probability (P(A∣B)) for each possible class.\n",
    "\n",
    "       + To predict the class label for the new data point, select the class with the highest posterior probability. This is often referred to as the Maximum A Posteriori (MAP) decision rule."
   ]
  },
  {
   "cell_type": "markdown",
   "id": "782f1e4b",
   "metadata": {},
   "source": [
    "What is each term of this rule called?"
   ]
  },
  {
   "cell_type": "markdown",
   "id": "4d158c4c",
   "metadata": {},
   "source": [
    "+ The __\"prior probability\"__ (P(A)) is the initial belief in the probability of a particular class.\n",
    "+ The __\"likelihood\"__ (P(B∣A)) describes how likely the observed features are to occur given a specific class.\n",
    "+ The __\"evidence\"__ (P(B)) represents the overall likelihood of observing the given features, regardless of the class.\n",
    "+ The __\"posterior probability\"__ (P(A∣B)) is the updated belief in the probability of a particular class after observing the features."
   ]
  },
  {
   "cell_type": "markdown",
   "id": "d592bd9c",
   "metadata": {},
   "source": [
    "# Q 3.2.4"
   ]
  },
  {
   "cell_type": "markdown",
   "id": "01e6b7ac",
   "metadata": {},
   "source": [
    "What are the model parameters of LDA and QDA classifiers? These classifiers are based on different assumptions about the underlying data distribution,\n",
    "and as a result, they have different sets of model parameters."
   ]
  },
  {
   "cell_type": "markdown",
   "id": "29b3c085",
   "metadata": {},
   "source": [
    "1. LDA (Linear Discriminant Analysis):\n",
    "    LDA assumes that all classes have a common covariance matrix, and the decision boundaries between classes are linear."
   ]
  },
  {
   "cell_type": "markdown",
   "id": "0c36d939",
   "metadata": {},
   "source": [
    "    + Class Priors (ϕ_k): These are the prior probabilities of each class in the training data.\n",
    "    + Class Means (μ_k): For each class, there is a vector of means representing the mean feature values for that class. These vectors capture the central tendency of feature values for each class.\n",
    "    + Shared Covariance Matrix (Σ): This matrix characterizes the shape of the distribution of data points within each class which is why it's \"linear\" discriminant analysis."
   ]
  },
  {
   "cell_type": "markdown",
   "id": "e720a71f",
   "metadata": {},
   "source": [
    "2. QDA (Quadratic Discriminant Analysis): QDA, in contrast to LDA, allows each class to have its own covariance matrix and does not assume a common covariance matrix. "
   ]
  },
  {
   "cell_type": "markdown",
   "id": "17ef0a48",
   "metadata": {},
   "source": [
    "    + Class Priors (ϕ_k): Similar to LDA, these represent the prior probabilities of each class in the training data.\n",
    "    + Class Means (μ_k): QDA also calculates the mean feature values for each class. These vectors capture the central tendency of feature values for each class.\n",
    "    + Class-Specific Covariance Matrices (Σ_k): Each class has its own covariance matrix, representing the shape of the data distribution for that class. This results in more flexibility in modeling the data distribution, making QDA \"quadratic\" discriminant analysis."
   ]
  },
  {
   "cell_type": "markdown",
   "id": "e7ca4b1f",
   "metadata": {},
   "source": [
    "Between QDA and LDA, which one has potentially more parameters? why?\n",
    "\n",
    "LDA typically has potentially fewer parameters compared to QDA because it assumes a shared covariance matrix among all classes, whereas QDA allows each class to have its own covariance matrix. "
   ]
  },
  {
   "cell_type": "markdown",
   "id": "1f259da7",
   "metadata": {},
   "source": [
    "# Q 3.2.5"
   ]
  },
  {
   "cell_type": "code",
   "execution_count": null,
   "id": "d4a8451d",
   "metadata": {},
   "outputs": [],
   "source": []
  }
 ],
 "metadata": {
  "kernelspec": {
   "display_name": "Python 3 (ipykernel)",
   "language": "python",
   "name": "python3"
  },
  "language_info": {
   "codemirror_mode": {
    "name": "ipython",
    "version": 3
   },
   "file_extension": ".py",
   "mimetype": "text/x-python",
   "name": "python",
   "nbconvert_exporter": "python",
   "pygments_lexer": "ipython3",
   "version": "3.11.5"
  }
 },
 "nbformat": 4,
 "nbformat_minor": 5
}
