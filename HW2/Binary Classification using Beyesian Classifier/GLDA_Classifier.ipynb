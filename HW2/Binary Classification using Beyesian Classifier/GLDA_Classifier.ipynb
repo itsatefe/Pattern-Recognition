{
 "cells": [
  {
   "cell_type": "code",
   "execution_count": 1,
   "id": "8ff25f5f",
   "metadata": {},
   "outputs": [],
   "source": [
    "import pandas as pd\n",
    "import numpy as np\n",
    "import jdc\n",
    "from sklearn.model_selection import train_test_split\n",
    "from Data_Preprocess import Data_Preprocess\n",
    "from Model import GaussianLinearClassifier\n",
    "from Metrics import Metrics"
   ]
  },
  {
   "cell_type": "markdown",
   "id": "c2ff7001",
   "metadata": {},
   "source": [
    "# 3.1 Preprocessing"
   ]
  },
  {
   "cell_type": "code",
   "execution_count": 2,
   "id": "7c647741",
   "metadata": {},
   "outputs": [],
   "source": [
    "url = 'mushroom.txt'\n",
    "column_names_csv = 'mushroom_feature_names.csv'\n",
    "preprocessing = Data_Preprocess(url, column_names_csv)"
   ]
  },
  {
   "cell_type": "markdown",
   "id": "1599bfc4",
   "metadata": {},
   "source": [
    "# Q 3.1.1"
   ]
  },
  {
   "cell_type": "code",
   "execution_count": 3,
   "id": "8e9ac8e2",
   "metadata": {},
   "outputs": [],
   "source": [
    "preprocessing.load_dataset()"
   ]
  },
  {
   "cell_type": "markdown",
   "id": "84d4bb17",
   "metadata": {},
   "source": [
    "# Q 3.1.2"
   ]
  },
  {
   "cell_type": "code",
   "execution_count": 4,
   "id": "969d771f",
   "metadata": {},
   "outputs": [],
   "source": [
    "data_type = preprocessing.display_data_types()"
   ]
  },
  {
   "cell_type": "markdown",
   "id": "74e56230",
   "metadata": {},
   "source": [
    "# Q 3.1.3"
   ]
  },
  {
   "cell_type": "markdown",
   "id": "e6f4617f",
   "metadata": {},
   "source": [
    "Most of the features as generic text or string data.\n",
    "\n",
    "<span style=\"color:red\">Warning:</span>\n",
    ": Unique values for stalk-root contains missing value"
   ]
  },
  {
   "cell_type": "code",
   "execution_count": 5,
   "id": "de838d65",
   "metadata": {},
   "outputs": [
    {
     "name": "stdout",
     "output_type": "stream",
     "text": [
      "Unique values for class:\n",
      "['p' 'e']\n",
      "\n",
      "Unique values for cap-shape:\n",
      "['x' 'b' 's' 'f' 'k' 'c']\n",
      "\n",
      "Unique values for cap-surface:\n",
      "['s' 'y' 'f' 'g']\n",
      "\n",
      "Unique values for cap-color:\n",
      "['n' 'y' 'w' 'g' 'e' 'p' 'b' 'u' 'c' 'r']\n",
      "\n",
      "Unique values for bruises:\n",
      "['t' 'f']\n",
      "\n",
      "Unique values for odor:\n",
      "['p' 'a' 'l' 'n' 'f' 'c' 'y' 's' 'm']\n",
      "\n",
      "Unique values for gill-attachment:\n",
      "['f' 'a']\n",
      "\n",
      "Unique values for gill-spacing:\n",
      "['c' 'w']\n",
      "\n",
      "Unique values for gill-size:\n",
      "['n' 'b']\n",
      "\n",
      "Unique values for gill-color:\n",
      "['k' 'n' 'g' 'p' 'w' 'h' 'u' 'e' 'b' 'r' 'y' 'o']\n",
      "\n",
      "Unique values for stalk-shape:\n",
      "['e' 't']\n",
      "\n",
      "Unique values for stalk-root:\n",
      "['e' 'c' 'b' 'r' nan]\n",
      "\n",
      "Unique values for stalk-surface-above-ring:\n",
      "['s' 'f' 'k' 'y']\n",
      "\n",
      "Unique values for stalk-surface-below-ring:\n",
      "['s' 'f' 'y' 'k']\n",
      "\n",
      "Unique values for stalk-color-above-ring:\n",
      "['w' 'g' 'p' 'n' 'b' 'e' 'o' 'c' 'y']\n",
      "\n",
      "Unique values for stalk-color-below-ring:\n",
      "['w' 'p' 'g' 'b' 'n' 'e' 'y' 'o' 'c']\n",
      "\n",
      "Unique values for veil-type:\n",
      "['p']\n",
      "\n",
      "Unique values for veil-color:\n",
      "['w' 'n' 'o' 'y']\n",
      "\n",
      "Unique values for ring-number:\n",
      "['o' 't' 'n']\n",
      "\n",
      "Unique values for ring-type:\n",
      "['p' 'e' 'l' 'f' 'n']\n",
      "\n",
      "Unique values for spore-print-color:\n",
      "['k' 'n' 'u' 'h' 'w' 'r' 'o' 'y' 'b']\n",
      "\n",
      "Unique values for population:\n",
      "['s' 'n' 'a' 'v' 'y' 'c']\n",
      "\n",
      "Unique values for habitat:\n",
      "['u' 'g' 'm' 'd' 'p' 'w' 'l']\n",
      "\n"
     ]
    }
   ],
   "source": [
    "preprocessing.display_unique_values()"
   ]
  },
  {
   "cell_type": "markdown",
   "id": "38e95176",
   "metadata": {},
   "source": [
    "# Q 3.1.4\n",
    "\n",
    "Mahalanobis distance:\n",
    "$$ D(x) = \\sqrt{ (x - \\mu)^T \\Sigma^{-1} (x - \\mu) } $$\n",
    "The Mahalanobis distance is typically calculated on numerical data.\n",
    "\n",
    "When our features have a data type of string (text),\n",
    "we cannot directly calculate the Mahalanobis distance without\n",
    "converting the data to a numerical format first."
   ]
  },
  {
   "cell_type": "markdown",
   "id": "70526a62",
   "metadata": {},
   "source": [
    "# Q 3.1.6\n",
    "What is a nan value?\n",
    "A \"NaN\" value stands for \"Not-a-Number.\"\n",
    "\n",
    "It is a special floating-point value used in computing to represent\n",
    "\n",
    "__undefined__ or __unrepresentable__ values, often arising from mathematical operations or data processing.\n",
    "stalk-root has 2480 nan values others have 0."
   ]
  },
  {
   "cell_type": "code",
   "execution_count": 6,
   "id": "068055d9",
   "metadata": {},
   "outputs": [],
   "source": [
    "nan_counts = preprocessing.drop_columns_with_high_nan(threshold=2000)"
   ]
  },
  {
   "cell_type": "markdown",
   "id": "eade16be",
   "metadata": {},
   "source": [
    "# Q 3.1.5\n",
    "ordinal relationships between categories"
   ]
  },
  {
   "cell_type": "code",
   "execution_count": 7,
   "id": "ae74fde5",
   "metadata": {},
   "outputs": [],
   "source": [
    "preprocessing.encode_categorical_features()\n",
    "encoded_data_types = preprocessing.display_data_types()"
   ]
  },
  {
   "cell_type": "code",
   "execution_count": 8,
   "id": "3ef9e21a",
   "metadata": {},
   "outputs": [],
   "source": [
    "dataset = preprocessing.dataset"
   ]
  },
  {
   "cell_type": "markdown",
   "id": "ab8a2278",
   "metadata": {},
   "source": [
    "# 3.2 Creating our model: LDA"
   ]
  },
  {
   "cell_type": "markdown",
   "id": "20fd15a8",
   "metadata": {},
   "source": [
    "# Q 3.2.1"
   ]
  },
  {
   "cell_type": "code",
   "execution_count": 9,
   "id": "17d2b563",
   "metadata": {},
   "outputs": [],
   "source": [
    "X = dataset.drop(columns=['class'])\n",
    "y = dataset['class']"
   ]
  },
  {
   "cell_type": "markdown",
   "id": "ed7fccf2",
   "metadata": {},
   "source": [
    "# Q 3.2.8"
   ]
  },
  {
   "cell_type": "markdown",
   "id": "7ee9fbb7",
   "metadata": {},
   "source": [
    "what is variance?\n",
    "$$ \\sigma^2 = \\frac{\\sum_{i=1}^n (x_i - \\mu)^2}{n} $$"
   ]
  },
  {
   "cell_type": "code",
   "execution_count": 10,
   "id": "a9ed0ac0",
   "metadata": {},
   "outputs": [],
   "source": [
    "variances = np.var(X, axis=0)\n",
    "low_variance_features = np.where(variances < 0.01)[0]\n",
    "X_filtered = np.delete(X, low_variance_features, axis=1)"
   ]
  },
  {
   "cell_type": "markdown",
   "id": "a16422fe",
   "metadata": {},
   "source": [
    "# Q 3.2.2"
   ]
  },
  {
   "cell_type": "markdown",
   "id": "094cd898",
   "metadata": {},
   "source": [
    "what is random state?"
   ]
  },
  {
   "cell_type": "markdown",
   "id": "b657d19f",
   "metadata": {},
   "source": [
    "+ if you use the same random_state value in different runs of your program, you will get the same data split every time."
   ]
  },
  {
   "cell_type": "code",
   "execution_count": 11,
   "id": "1ef7baca",
   "metadata": {},
   "outputs": [],
   "source": [
    "X_train, X_test, y_train, y_test = train_test_split(X_filtered, y, test_size=0.2, random_state=42)"
   ]
  },
  {
   "cell_type": "markdown",
   "id": "56898e70",
   "metadata": {},
   "source": [
    "# Q 3.2.3"
   ]
  },
  {
   "cell_type": "markdown",
   "id": "33c137a0",
   "metadata": {},
   "source": [
    "what is the Bayes rule? It describes how to update the probability for a hypothesis (or an event) based on new evidence. "
   ]
  },
  {
   "cell_type": "markdown",
   "id": "197852a1",
   "metadata": {},
   "source": [
    "$$ P(A|B) = \\frac{P(A) \\cdot P(B|A)}{P(B)} $$"
   ]
  },
  {
   "cell_type": "markdown",
   "id": "545e5997",
   "metadata": {},
   "source": [
    "How is it used in Bayesian classification? "
   ]
  },
  {
   "cell_type": "markdown",
   "id": "3d119b0a",
   "metadata": {},
   "source": [
    "1. Training Phase:\n",
    "\n",
    "       + Collect and preprocess your training data, which typically consists of labeled examples.\n",
    "\n",
    "       + Calculate class probabilities (P(A)): For each class label, compute the prior probability of that class in the training data. This is often done by counting the number of occurrences of each class in the training set.\n",
    "\n",
    "       + Calculate conditional probabilities (P(B∣A)): For each feature, compute the likelihood of observing that feature given a specific class. This involves calculating the conditional probability of each feature occurring within each class.\n",
    "\n",
    "2. Testing or Prediction Phase:\n",
    "\n",
    "       + Given a new data point (features), use Bayes' Rule to calculate the posterior probability (P(A∣B)) for each possible class.\n",
    "\n",
    "       + To predict the class label for the new data point, select the class with the highest posterior probability. This is often referred to as the Maximum A Posteriori (MAP) decision rule."
   ]
  },
  {
   "cell_type": "markdown",
   "id": "782f1e4b",
   "metadata": {},
   "source": [
    "What is each term of this rule called?"
   ]
  },
  {
   "cell_type": "markdown",
   "id": "4d158c4c",
   "metadata": {},
   "source": [
    "+ The __\"prior probability\"__ (P(A)) is the initial belief in the probability of a particular class.\n",
    "+ The __\"likelihood\"__ (P(B∣A)) describes how likely the observed features are to occur given a specific class.\n",
    "+ The __\"evidence\"__ (P(B)) represents the overall likelihood of observing the given features, regardless of the class.\n",
    "+ The __\"posterior probability\"__ (P(A∣B)) is the updated belief in the probability of a particular class after observing the features."
   ]
  },
  {
   "cell_type": "markdown",
   "id": "d592bd9c",
   "metadata": {},
   "source": [
    "# Q 3.2.4"
   ]
  },
  {
   "cell_type": "markdown",
   "id": "01e6b7ac",
   "metadata": {},
   "source": [
    "What are the model parameters of LDA and QDA classifiers? These classifiers are based on different assumptions about the underlying data distribution,\n",
    "and as a result, they have different sets of model parameters."
   ]
  },
  {
   "cell_type": "markdown",
   "id": "29b3c085",
   "metadata": {},
   "source": [
    "1. LDA (Linear Discriminant Analysis):\n",
    "    LDA assumes that all classes have a common covariance matrix, and the decision boundaries between classes are linear."
   ]
  },
  {
   "cell_type": "markdown",
   "id": "0c36d939",
   "metadata": {},
   "source": [
    "    + Class Priors (ϕ_k): These are the prior probabilities of each class in the training data.\n",
    "    + Class Means (μ_k): For each class, there is a vector of means representing the mean feature values for that class. These vectors capture the central tendency of feature values for each class.\n",
    "    + Shared Covariance Matrix (Σ): This matrix characterizes the shape of the distribution of data points within each class which is why it's \"linear\" discriminant analysis."
   ]
  },
  {
   "cell_type": "markdown",
   "id": "e720a71f",
   "metadata": {},
   "source": [
    "2. QDA (Quadratic Discriminant Analysis): QDA, in contrast to LDA, allows each class to have its own covariance matrix and does not assume a common covariance matrix. "
   ]
  },
  {
   "cell_type": "markdown",
   "id": "17ef0a48",
   "metadata": {},
   "source": [
    "    + Class Priors (ϕ_k): Similar to LDA, these represent the prior probabilities of each class in the training data.\n",
    "    + Class Means (μ_k): QDA also calculates the mean feature values for each class. These vectors capture the central tendency of feature values for each class.\n",
    "    + Class-Specific Covariance Matrices (Σ_k): Each class has its own covariance matrix, representing the shape of the data distribution for that class. This results in more flexibility in modeling the data distribution, making QDA \"quadratic\" discriminant analysis."
   ]
  },
  {
   "cell_type": "markdown",
   "id": "e7ca4b1f",
   "metadata": {},
   "source": [
    "Between QDA and LDA, which one has potentially more parameters? why?\n",
    "\n",
    "LDA typically has potentially fewer parameters compared to QDA because it assumes a shared covariance matrix among all classes, whereas QDA allows each class to have its own covariance matrix. "
   ]
  },
  {
   "cell_type": "markdown",
   "id": "1f259da7",
   "metadata": {},
   "source": [
    "# Q 3.2.5"
   ]
  },
  {
   "cell_type": "markdown",
   "id": "847e2dde",
   "metadata": {},
   "source": [
    "___The probability density function (PDF)___ for a univariate __(single-variable)__ Gaussian distribution "
   ]
  },
  {
   "cell_type": "markdown",
   "id": "c4b00bd3",
   "metadata": {},
   "source": [
    "$$ f(x| \\mu, \\sigma^2) = \\frac{1}{\\sqrt{2\\pi\\sigma^2}} \\exp\\left(-\\frac{(x - \\mu)^2}{2\\sigma^2}\\right) $$\n"
   ]
  },
  {
   "cell_type": "markdown",
   "id": "5848b8fb",
   "metadata": {},
   "source": [
    "The pdf of a __multivariate__ normal distribution. $\\mathbf{x}$ is a vector of observed values with __d__ features, "
   ]
  },
  {
   "cell_type": "markdown",
   "id": "48964e9e",
   "metadata": {},
   "source": [
    "$$ p(\\mathbf{x} | \\boldsymbol{\\mu}, \\boldsymbol{\\Sigma}) = \\frac{1}{(2\\pi)^{d/2} |\\boldsymbol{\\Sigma}|^{1/2}} \\exp\\left(-\\frac{1}{2} (\\mathbf{x} - \\boldsymbol{\\mu})^T \\boldsymbol{\\Sigma}^{-1} (\\mathbf{x} - \\boldsymbol{\\mu})\\right) $$"
   ]
  },
  {
   "cell_type": "markdown",
   "id": "77d8b24c",
   "metadata": {},
   "source": [
    "___likelihood___ function for a Gaussian distribution:\n",
    "$$  L(\\boldsymbol{\\mu}, \\boldsymbol{\\Sigma} | \\mathbf{x}) = p(\\mathbf{x} | \\boldsymbol{\\mu}, \\boldsymbol{\\Sigma})  $$\n"
   ]
  },
  {
   "cell_type": "markdown",
   "id": "b7e279f2",
   "metadata": {},
   "source": [
    " the likelihood for each class $i$ $(L_i)$ :\n",
    "\n",
    "$$ L_i(\\boldsymbol{\\mu}_i, \\boldsymbol{\\Sigma}_i | \\mathbf{x}) = \\frac{1}{(2\\pi)^{d/2} |\\boldsymbol{\\Sigma}_i|^{1/2}} \\exp\\left(-\\frac{1}{2} (\\mathbf{x} - \\boldsymbol{\\mu}_i)^T \\boldsymbol{\\Sigma}_i^{-1} (\\mathbf{x} - \\boldsymbol{\\mu}_i)\\right) $$"
   ]
  },
  {
   "cell_type": "markdown",
   "id": "a81157f2",
   "metadata": {},
   "source": [
    "Estimating Probability:\n",
    "\n",
    "From Bayes Theorem: \n",
    "$$ P(y_k | \\mathbf{X}) = \\frac{\\prod_{k=1}^{n} L(y_k | \\mathbf{x}_i)}{\\sum_i \\prod_i L(y_i | \\mathbf{x})}$$\n"
   ]
  },
  {
   "cell_type": "markdown",
   "id": "63025350",
   "metadata": {},
   "source": [
    "To predict the class $ (\\hat{y})$, you would maximize the likelihood over all classes:\n",
    "\n",
    "$$ \\hat{y} = \\arg\\max_i L_i(\\boldsymbol{\\mu}_i, \\boldsymbol{\\Sigma}_i | \\mathbf{x}) $$"
   ]
  },
  {
   "cell_type": "markdown",
   "id": "44e15260",
   "metadata": {},
   "source": [
    "the goal is to model p(x|y)p(y) for each class\n",
    "1. p(y) for each class\n",
    "2. P(X|y=i) is multivariat normal disturbution\n",
    "    - mu_i: mean of data of class i\n",
    "    - pi_i: mean of data of class i\n",
    "    - sigma_i: covariance of data class i\n",
    "        + In LDA this sigma is shared for all the classes\n",
    "        + In QDA there are a sigma per each class\n",
    "3. log-likelihood (log P(X|y))\n",
    "4. derivation of log-likelihood respect to sigma and mu for each class:\n",
    "\n",
    "    <span style=\"color:red\">\n",
    "    - In LDA there is a shared sigma therefor we do not have sigma_i</span>\n",
    "\n",
    "5. replace Sigma_mle, mu_i_mle and pi_i_mle in P(X|y)\n",
    "6. Calculate P(X)\n",
    "7. using baysien rule and argmax we can predict X_new"
   ]
  },
  {
   "cell_type": "markdown",
   "id": "bc7cac12",
   "metadata": {},
   "source": [
    "In the context of LDA or GDA, it's assumed that both classes share a common covariance matrix Σ and only differ in their means. When estimating the gradient with respect to Σ, the assumption is that the covariance matrix should be the same for both classes, so an average of the class means is used."
   ]
  },
  {
   "cell_type": "markdown",
   "id": "b330505a",
   "metadata": {},
   "source": [
    "$$ \\hat{\\mu}_{MLE} = \\frac{\\sum_{j=1}^{m} 1\\{y(j) = i\\}X(j)}{\\sum_{j=1}^{m} 1\\{y(j) = i\\}} $$\n"
   ]
  },
  {
   "cell_type": "markdown",
   "id": "a27d5b16",
   "metadata": {},
   "source": [
    "$$ \\hat{\\Sigma}_{\\text{MLE}} = \\frac{1}{n} \\sum_{i=1}^{n} (x_i - \\hat{\\mu}) (x_i - \\hat{\\mu})^T $$\n"
   ]
  },
  {
   "cell_type": "markdown",
   "id": "b516e650",
   "metadata": {},
   "source": [
    "$$ p(\\mathbf{x} | \\boldsymbol{\\mu}, \\boldsymbol{\\Sigma}) = \\frac{1}{(2\\pi)^{d/2} |\\boldsymbol{\\Sigma}|^{1/2}} \\exp\\left(-\\frac{1}{2} (\\mathbf{x} - \\boldsymbol{\\mu})^T \\boldsymbol{\\Sigma}^{-1} (\\mathbf{x} - \\boldsymbol{\\mu})\\right) $$"
   ]
  },
  {
   "cell_type": "code",
   "execution_count": 12,
   "id": "55e70dad",
   "metadata": {},
   "outputs": [],
   "source": [
    "linearClassifier = GaussianLinearClassifier()\n",
    "linearClassifier.fit(X_train, y_train)"
   ]
  },
  {
   "cell_type": "markdown",
   "id": "2aa051ed",
   "metadata": {},
   "source": [
    "# Q3.2.6"
   ]
  },
  {
   "cell_type": "code",
   "execution_count": 13,
   "id": "d67bf60f",
   "metadata": {},
   "outputs": [],
   "source": [
    "pred_likelihood_train = linearClassifier.predict_likelihood(X_train)\n",
    "pred_likelihood_test = linearClassifier.predict_likelihood(X_test)"
   ]
  },
  {
   "cell_type": "code",
   "execution_count": 14,
   "id": "a8d3cf96",
   "metadata": {
    "scrolled": false
   },
   "outputs": [],
   "source": [
    "pred_dist_train = linearClassifier.predict_distance(X_train)\n",
    "pred_dist_test = linearClassifier.predict_distance(X_test)"
   ]
  },
  {
   "cell_type": "markdown",
   "id": "ad8f4ef2",
   "metadata": {},
   "source": [
    "# Q3.2.10"
   ]
  },
  {
   "cell_type": "code",
   "execution_count": 15,
   "id": "35e5e2e4",
   "metadata": {},
   "outputs": [],
   "source": [
    "metrics_train = Metrics(y_train)\n",
    "metrics_test = Metrics(y_test)"
   ]
  },
  {
   "cell_type": "markdown",
   "id": "5b87b038",
   "metadata": {},
   "source": [
    "##### accuracy"
   ]
  },
  {
   "cell_type": "code",
   "execution_count": 16,
   "id": "d07f4c09",
   "metadata": {},
   "outputs": [
    {
     "name": "stdout",
     "output_type": "stream",
     "text": [
      "Accuracy likelihood train:  0.9479919987690414\n",
      "Accuracy likelihood test:  0.944\n"
     ]
    }
   ],
   "source": [
    "acc_likelihood_train = metrics_train.accuracy(pred_likelihood_train)\n",
    "print(\"Accuracy likelihood train: \", acc_likelihood_train)\n",
    "acc_likelihood_test = metrics_test.accuracy(pred_likelihood_test)\n",
    "print(\"Accuracy likelihood test: \", acc_likelihood_test)"
   ]
  },
  {
   "cell_type": "code",
   "execution_count": 17,
   "id": "71e8cad4",
   "metadata": {},
   "outputs": [
    {
     "name": "stdout",
     "output_type": "stream",
     "text": [
      "Accuracy distance train:  0.9493768272041853\n",
      "Accuracy distance test:  0.9458461538461539\n"
     ]
    }
   ],
   "source": [
    "acc_dist_train = metrics_train.accuracy(pred_dist_train)\n",
    "print(\"Accuracy distance train: \", acc_dist_train)\n",
    "acc_dist_test = metrics_test.accuracy(pred_dist_test)\n",
    "print(\"Accuracy distance test: \", acc_dist_test)"
   ]
  },
  {
   "cell_type": "markdown",
   "id": "60885eee",
   "metadata": {},
   "source": [
    "#### precision \n",
    "$$ \\text{Precision} = \\frac{\\text{True Positives}}{\\text{True Positives + False Positives}} $$"
   ]
  },
  {
   "cell_type": "code",
   "execution_count": 18,
   "id": "504f8a6f",
   "metadata": {},
   "outputs": [
    {
     "name": "stdout",
     "output_type": "stream",
     "text": [
      "Precision likelihood train:  [0.9375542064180399, 0.9598684210526316]\n",
      "Precision likelihood test:  [0.9402810304449649, 0.9481193255512321]\n"
     ]
    }
   ],
   "source": [
    "prec_likelihood_train = metrics_train.precision(pred_likelihood_train)\n",
    "print(\"Precision likelihood train: \", prec_likelihood_train)\n",
    "prec_likelihood_test = metrics_test.precision(pred_likelihood_test)\n",
    "print(\"Precision likelihood test: \", prec_likelihood_test)"
   ]
  },
  {
   "cell_type": "code",
   "execution_count": 19,
   "id": "3e5c7389",
   "metadata": {},
   "outputs": [
    {
     "name": "stdout",
     "output_type": "stream",
     "text": [
      "Precision distance train:  [0.94, 0.959986880944572]\n",
      "Precision distance test:  [0.9435957696827262, 0.9483204134366925]\n"
     ]
    }
   ],
   "source": [
    "prec_dist_train = metrics_train.precision(pred_dist_train)\n",
    "print(\"Precision distance train: \", prec_dist_train)\n",
    "prec_dist_test = metrics_test.precision(pred_dist_test)\n",
    "print(\"Precision distance test: \", prec_dist_test)"
   ]
  },
  {
   "cell_type": "markdown",
   "id": "167de270",
   "metadata": {},
   "source": [
    "#### Recall\n",
    "$$ \\text{Recall} = \\frac{\\text{True Positives}}{\\text{True Positives + False Negatives}} $$"
   ]
  },
  {
   "cell_type": "code",
   "execution_count": 20,
   "id": "1b0b3700",
   "metadata": {},
   "outputs": [
    {
     "name": "stdout",
     "output_type": "stream",
     "text": [
      "Recall likelihood train:  [0.9637444279346211, 0.9310784939374601]\n",
      "Recall likelihood test:  [0.9525504151838672, 0.9347826086956522]\n"
     ]
    }
   ],
   "source": [
    "rec_likelihood_train = metrics_train.recall(pred_likelihood_train)\n",
    "print(\"Recall likelihood train: \", rec_likelihood_train)\n",
    "rec_likelihood_test = metrics_test.recall(pred_likelihood_test)\n",
    "print(\"Recall likelihood test: \", rec_likelihood_test)"
   ]
  },
  {
   "cell_type": "code",
   "execution_count": 21,
   "id": "05c124e8",
   "metadata": {},
   "outputs": [
    {
     "name": "stdout",
     "output_type": "stream",
     "text": [
      "Recall distance train:  [0.9637444279346211, 0.9339502233567326]\n",
      "Recall distance test:  [0.9525504151838672, 0.9386189258312021]\n"
     ]
    }
   ],
   "source": [
    "rec_dist_train = metrics_train.recall(pred_dist_train)\n",
    "print(\"Recall distance train: \", rec_dist_train)\n",
    "rec_dist_test = metrics_test.recall(pred_dist_test)\n",
    "print(\"Recall distance test: \", rec_dist_test)"
   ]
  },
  {
   "cell_type": "markdown",
   "id": "3feed2c4",
   "metadata": {},
   "source": [
    "#### f1_score\n",
    "$$ F1 = 2 \\times \\frac{\\text{Precision} \\times \\text{Recall}}{\\text{Precision} + \\text{Recall}} $$"
   ]
  },
  {
   "cell_type": "code",
   "execution_count": 22,
   "id": "c6fffa55",
   "metadata": {},
   "outputs": [
    {
     "name": "stdout",
     "output_type": "stream",
     "text": [
      "F1_score likelihood train:  [0.9504689331770223, 0.9452542921930677]\n",
      "F1_score likelihood test:  [0.9463759575721863, 0.9414037347070187]\n"
     ]
    }
   ],
   "source": [
    "f1_likelihood_train = metrics_train.f1_score(pred_likelihood_train)\n",
    "print(\"F1_score likelihood train: \", f1_likelihood_train)\n",
    "f1_likelihood_test = metrics_test.f1_score(pred_likelihood_test)\n",
    "print(\"F1_score likelihood test: \", f1_likelihood_test)"
   ]
  },
  {
   "cell_type": "code",
   "execution_count": 23,
   "id": "6d5ded53",
   "metadata": {},
   "outputs": [
    {
     "name": "stdout",
     "output_type": "stream",
     "text": [
      "F1_score distance train:  [0.9517241379310344, 0.9467895843441694]\n",
      "F1_score distance test:  [0.9480519480519479, 0.9434447300771209]\n"
     ]
    }
   ],
   "source": [
    "f1_dist_train = metrics_train.f1_score(pred_dist_train)\n",
    "print(\"F1_score distance train: \", f1_dist_train)\n",
    "f1_dist_test = metrics_test.f1_score(pred_dist_test)\n",
    "print(\"F1_score distance test: \", f1_dist_test)"
   ]
  },
  {
   "cell_type": "markdown",
   "id": "a2e4411f",
   "metadata": {},
   "source": [
    "#### misclassified samples"
   ]
  },
  {
   "cell_type": "code",
   "execution_count": 24,
   "id": "cf51aba3",
   "metadata": {},
   "outputs": [
    {
     "name": "stdout",
     "output_type": "stream",
     "text": [
      "misclassified train samples by likelihood:  338\n",
      "misclassified test samples by likelihood:  91\n"
     ]
    }
   ],
   "source": [
    "mis_likelihood_train = metrics_train.misclassified_samples(pred_likelihood_train)\n",
    "print(\"misclassified train samples by likelihood: \", mis_likelihood_train)\n",
    "mis_likelihood_test = metrics_test.misclassified_samples(pred_likelihood_test)\n",
    "print(\"misclassified test samples by likelihood: \", mis_likelihood_test)"
   ]
  },
  {
   "cell_type": "code",
   "execution_count": 25,
   "id": "ad7343d0",
   "metadata": {},
   "outputs": [
    {
     "name": "stdout",
     "output_type": "stream",
     "text": [
      "misclassified train samples by distance:  329\n",
      "misclassified test samples by distance:  88\n"
     ]
    }
   ],
   "source": [
    "mis_dist_train = metrics_train.misclassified_samples(pred_dist_train)\n",
    "print(\"misclassified train samples by distance: \", mis_dist_train)\n",
    "mis_dist_test = metrics_test.misclassified_samples(pred_dist_test)\n",
    "print(\"misclassified test samples by distance: \", mis_dist_test)"
   ]
  },
  {
   "cell_type": "markdown",
   "id": "39ba52e0",
   "metadata": {},
   "source": [
    "# Q3.2.11"
   ]
  },
  {
   "cell_type": "markdown",
   "id": "47f4d11f",
   "metadata": {},
   "source": [
    "#### confusion matrix"
   ]
  },
  {
   "cell_type": "code",
   "execution_count": 27,
   "id": "9b5b231d",
   "metadata": {},
   "outputs": [
    {
     "data": {
      "image/png": "[encoded data removed]",
      "text/plain": [
       "<Figure size 200x200 with 1 Axes>"
      ]
     },
     "metadata": {},
     "output_type": "display_data"
    },
    {
     "data": {
      "image/png": "[encoded data removed]",
      "text/plain": [
       "<Figure size 200x200 with 1 Axes>"
      ]
     },
     "metadata": {},
     "output_type": "display_data"
    }
   ],
   "source": [
    "metrics_train.display_confusion_matrix(pred_likelihood_train,\"Likelihood train\")\n",
    "metrics_test.display_confusion_matrix(pred_likelihood_test,\"Likelihood test\")"
   ]
  },
  {
   "cell_type": "code",
   "execution_count": 28,
   "id": "c37aaa09",
   "metadata": {},
   "outputs": [
    {
     "data": {
      "image/png": "[encoded data removed]",
      "text/plain": [
       "<Figure size 200x200 with 1 Axes>"
      ]
     },
     "metadata": {},
     "output_type": "display_data"
    },
    {
     "data": {
      "image/png": "[encoded data removed]",
      "text/plain": [
       "<Figure size 200x200 with 1 Axes>"
      ]
     },
     "metadata": {},
     "output_type": "display_data"
    }
   ],
   "source": [
    "metrics_train.display_confusion_matrix(pred_dist_train,\"Distance train\")\n",
    "metrics_test.display_confusion_matrix(pred_dist_test,\"Distance test\")"
   ]
  },
  {
   "cell_type": "markdown",
   "id": "ba419b54",
   "metadata": {},
   "source": [
    "Misclassifying a poisonous mushroom as safe can have severe consequences, potentially leading to serious health issues or even death. In the context of mushroom classification, the cost of missing a poisonous mushroom is generally considered higher."
   ]
  },
  {
   "cell_type": "markdown",
   "id": "1de4f470",
   "metadata": {},
   "source": [
    "# Q3.2.12"
   ]
  },
  {
   "cell_type": "markdown",
   "id": "9e331eeb",
   "metadata": {},
   "source": [
    "Linear Discriminant Analysis (LDA):\n",
    "\n",
    "    Class Priors (ϕ_k): Two parameters (one for each class).\n",
    "    Class Means (μ_k): 40 parameters (20 for each class).\n",
    "    Shared Covariance Matrix (Σ): 20 parameters (assuming a shared covariance matrix among classes).\n",
    "    Total Parameters for LDA: 2 + 40 + 20 = 62 parameters\n",
    "\n",
    "Quadratic Discriminant Analysis (QDA):\n",
    "\n",
    "    Class Priors (ϕ_k): Two parameters (one for each class).\n",
    "    Class Means (μ_k): 40 parameters (20 for each class).\n",
    "    Class-Specific Covariance Matrices (Σ_k): 40 parameters (assuming a separate covariance matrix for each class).\n",
    "    Total Parameters for QDA: 2 + 40 + 40 = 82 parameters\n",
    "\n",
    "Logistic Regression:\n",
    "\n",
    "    For logistic regression, the number of parameters is determined by the number of features. \n",
    "    Total Parameters for Logistic Regression: 20 (weights) + 1 (bias) = 21 parameters"
   ]
  },
  {
   "cell_type": "code",
   "execution_count": null,
   "id": "a0a83580",
   "metadata": {},
   "outputs": [],
   "source": []
  }
 ],
 "metadata": {
  "kernelspec": {
   "display_name": "Python 3 (ipykernel)",
   "language": "python",
   "name": "python3"
  },
  "language_info": {
   "codemirror_mode": {
    "name": "ipython",
    "version": 3
   },
   "file_extension": ".py",
   "mimetype": "text/x-python",
   "name": "python",
   "nbconvert_exporter": "python",
   "pygments_lexer": "ipython3",
   "version": "3.11.5"
  }
 },
 "nbformat": 4,
 "nbformat_minor": 5
}
