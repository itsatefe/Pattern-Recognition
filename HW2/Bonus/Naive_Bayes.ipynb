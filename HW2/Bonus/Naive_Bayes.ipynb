{
 "cells": [
  {
   "cell_type": "code",
   "execution_count": 36,
   "id": "7af70249",
   "metadata": {},
   "outputs": [],
   "source": [
    "from Data_Preprocess import Data_Preprocess\n",
    "from sklearn.model_selection import train_test_split\n",
    "import numpy as np\n",
    "from Metrics import Metrics"
   ]
  },
  {
   "cell_type": "code",
   "execution_count": 37,
   "id": "fe2e7467",
   "metadata": {},
   "outputs": [],
   "source": [
    "url = 'mushroom.txt'\n",
    "column_names_csv = 'mushroom_feature_names.csv'\n",
    "preprocessing = Data_Preprocess(url, column_names_csv)\n",
    "preprocessing.load_dataset()\n",
    "nan_counts = preprocessing.drop_columns_with_high_nan(threshold=2000)\n",
    "preprocessing.encode_categorical_features()\n",
    "encoded_data_types = preprocessing.display_data_types()\n",
    "dataset = preprocessing.dataset"
   ]
  },
  {
   "cell_type": "markdown",
   "id": "bbb5b129",
   "metadata": {},
   "source": [
    "# Q4.1.1"
   ]
  },
  {
   "cell_type": "code",
   "execution_count": 38,
   "id": "3b4a538f",
   "metadata": {},
   "outputs": [],
   "source": [
    "X = dataset.drop(columns=['class'])\n",
    "y = dataset['class']"
   ]
  },
  {
   "cell_type": "code",
   "execution_count": 39,
   "id": "de3f589c",
   "metadata": {},
   "outputs": [],
   "source": [
    "variances = np.var(X, axis=0)\n",
    "low_variance_features = list(np.where(variances < 0.01)[0])\n",
    "# X_filtered = np.delete(X, low_variance_features, axis=1)\n",
    "X_filtered = X.drop(X.columns[list(low_variance_features)], axis=1)"
   ]
  },
  {
   "cell_type": "markdown",
   "id": "3ef23323",
   "metadata": {},
   "source": [
    "# Q.4.1.2"
   ]
  },
  {
   "cell_type": "code",
   "execution_count": 40,
   "id": "9f0bbceb",
   "metadata": {},
   "outputs": [],
   "source": [
    "X_train, X_test, y_train, y_test = train_test_split(X_filtered.values, y, test_size=0.2, random_state=42)"
   ]
  },
  {
   "cell_type": "markdown",
   "id": "0ad17347",
   "metadata": {},
   "source": [
    "# Q4.1.3"
   ]
  },
  {
   "cell_type": "markdown",
   "id": "0a46aa5e",
   "metadata": {},
   "source": [
    "what is the difference between Naive Bayes classifier and LDA?"
   ]
  },
  {
   "cell_type": "markdown",
   "id": "baf34fc9",
   "metadata": {},
   "source": [
    "Naive Bayes (NB) classifier and Generalized Linear Discriminant Analysis (GLDA) are both machine learning algorithms used for classification tasks, but they have different underlying assumptions and approaches.\n",
    "\n",
    "1. Assumptions:\n",
    "        Naive Bayes: It is based on the Bayes' theorem and assumes that features are conditionally independent given the class label.\n",
    "        GLDA: Generalized Linear Discriminant Analysis is an extension of Linear Discriminant Analysis (LDA) and assumes that the data come from a mixture of several multivariate normal distributions, each with its own set of parameters.\n",
    "\n",
    "2. Handling Continuous vs. Categorical Features:\n",
    "    Naive Bayes: Typically used for categorical features. It's well-suited for text classification tasks, where features might represent the presence or absence of words.\n",
    "    GLDA: Can handle both continuous and categorical features. It is particularly suitable for problems where the data is continuous and follows a multivariate normal distribution.\n",
    "\n",
    "3. Decision Boundary:\n",
    "    Naive Bayes: Employs a probabilistic model based on Bayes' theorem and calculates the probability of each class given the input features. The decision boundary is linear.\n",
    "    GDA: Defines decision boundaries that are quadratic or higher-order, allowing for more complex relationships between features.\n",
    "\n",
    "4. Training Data Requirements:\n",
    "    Naive Bayes: Requires a relatively small amount of training data to estimate the parameters needed for classification.\n",
    "    GLDA: May require more data, especially if the underlying assumptions of multivariate normality hold strictly.\n",
    "\n",
    "5. Use Cases:\n",
    "    Naive Bayes: Often used in natural language processing tasks like spam filtering and document classification.\n",
    "    GLDA: Suitable for more general classification tasks where the data distribution can be reasonably assumed to be multivariate normal."
   ]
  },
  {
   "cell_type": "markdown",
   "id": "1fec3509",
   "metadata": {},
   "source": [
    "# Q4.1.4"
   ]
  },
  {
   "cell_type": "markdown",
   "id": "2d865508",
   "metadata": {},
   "source": [
    "What are the model parameters of a Naive Bayes classifier? What is the role of each parameter?\n",
    "Between Naive Bayes, QDA, and LDA, which one has potentially more parameters? why?"
   ]
  },
  {
   "cell_type": "markdown",
   "id": "d9b81413",
   "metadata": {},
   "source": [
    "In the context of Naive Bayes classifiers, the model parameters depend on the specific variant of Naive Bayes being used.\n",
    "\n",
    "1. Gaussian Naive Bayes:\n",
    "\n",
    "    Parameters:\n",
    "        Class Priors (P(Y)): The probability of each class occurring in the dataset. These are estimated from the training data.\n",
    "        Class-Conditional Means (μ): The mean of each feature for each class.\n",
    "        Class-Conditional Variances (σ2): The variance of each feature for each class.\n",
    "\n",
    "2. Multinomial Naive Bayes:\n",
    "\n",
    "    Parameters:\n",
    "        Class Priors (P(Y)): Similar to Gaussian Naive Bayes, the probability of each class occurring.\n",
    "        Class-Conditional Probabilities (P(Xi∣Y)): The probability of each feature (word) occurring given the class.\n",
    "\n",
    "3. Bernoulli Naive Bayes:\n",
    "\n",
    "    Parameters:\n",
    "        Class Priors (P(Y)): Similar to other Naive Bayes variants.\n",
    "        Class-Conditional Probabilities (P(Xi∣Y)): The probability of each feature (binary) occurring given the class.\n",
    "\n",
    "Role of Each Parameter:\n",
    "\n",
    "    Class Priors (P(Y)): Represents the likelihood of each class in the dataset. It influences the overall prediction and is crucial for handling imbalanced datasets.\n",
    "    Class-Conditional Parameters (μ,σ2,P(Xi∣Y))): Describe the distribution of features given the class. These parameters help calculate the likelihood of observing specific feature values given the class.\n",
    "\n",
    "Comparison with QDA and LDA:\n",
    "\n",
    "    Quadratic Discriminant Analysis (QDA):\n",
    "        Parameters: QDA typically estimates the class priors, class-specific means, and class-specific covariance matrices.\n",
    "        More Parameters: QDA has potentially more parameters because it estimates covariance matrices for each class separately.\n",
    "\n",
    "    Linear Discriminant Analysis (LDA):\n",
    "        Parameters: LDA estimates the class priors, shared covariance matrix, and class-specific means.\n",
    "        Fewer Parameters: LDA generally has fewer parameters than QDA because it assumes a shared covariance matrix across classes.\n",
    "\n",
    "In summary, among Naive Bayes, QDA, and LDA:\n",
    "\n",
    "    More Parameters: QDA potentially has more parameters due to estimating separate covariance matrices for each class.\n",
    "    Fewer Parameters: LDA has fewer parameters compared to QDA because it assumes a shared covariance matrix.\n",
    "    Naive Bayes: The number of parameters depends on the specific variant (Gaussian, Multinomial, Bernoulli) and the number of features."
   ]
  },
  {
   "cell_type": "markdown",
   "id": "cf62a894",
   "metadata": {},
   "source": [
    "# Q4.1.5"
   ]
  },
  {
   "cell_type": "code",
   "execution_count": 56,
   "id": "cf85d034",
   "metadata": {},
   "outputs": [],
   "source": [
    "class GaussianNaiveBayes:\n",
    "    def fit(self, X, y):\n",
    "        self.classes = np.unique(y)\n",
    "        self.means = {}\n",
    "        self.variances = {}\n",
    "        self.priors = {}\n",
    "\n",
    "        for c in self.classes:\n",
    "            X_c = X[y == c]\n",
    "            self.means[c] = np.mean(X_c, axis=0)\n",
    "            self.variances[c] = np.var(X_c, axis=0)\n",
    "            self.priors[c] = X_c.shape[0] / X.shape[0]\n",
    "    \n",
    "    def calculate_likelihood(self, x, mean, var):\n",
    "        exponent = np.exp(-(x - mean)**2 / (2 * var))\n",
    "        return (1 / np.sqrt(2 * np.pi * var)) * exponent\n",
    "\n",
    "    def predict_instance(self, x):\n",
    "        posteriors = []\n",
    "        for c in self.classes:\n",
    "            prior = np.log(self.priors[c])\n",
    "            epsilon = 1e-10\n",
    "            likelihood = np.sum(np.log(self.calculate_likelihood(x, self.means[c], self.variances[c]) + epsilon))\n",
    "            posterior = prior + likelihood\n",
    "            posteriors.append(posterior)\n",
    "        return self.classes[np.argmax(posteriors)]\n",
    "\n",
    "    def predict(self, X):\n",
    "        return [self.predict_instance(x) for x in X]"
   ]
  },
  {
   "cell_type": "code",
   "execution_count": 57,
   "id": "4078a88b",
   "metadata": {},
   "outputs": [],
   "source": [
    "model = GaussianNaiveBayes()\n",
    "model.fit(X_train, y_train)"
   ]
  },
  {
   "cell_type": "code",
   "execution_count": 58,
   "id": "3a7fd7e9",
   "metadata": {},
   "outputs": [],
   "source": [
    "y_pred_test = model.predict(X_test)\n",
    "y_pred_train = model.predict(X_train)"
   ]
  },
  {
   "cell_type": "code",
   "execution_count": 59,
   "id": "6a64fa10",
   "metadata": {},
   "outputs": [],
   "source": [
    "metrics_test = Metrics(y_test)\n",
    "metrics_train = Metrics(y_train)"
   ]
  },
  {
   "cell_type": "code",
   "execution_count": 60,
   "id": "f54be47c",
   "metadata": {},
   "outputs": [
    {
     "data": {
      "image/png": "[encoded data removed]",
      "text/plain": [
       "<Figure size 200x200 with 1 Axes>"
      ]
     },
     "metadata": {},
     "output_type": "display_data"
    },
    {
     "data": {
      "image/png": "[encoded data removed]",
      "text/plain": [
       "<Figure size 200x200 with 1 Axes>"
      ]
     },
     "metadata": {},
     "output_type": "display_data"
    }
   ],
   "source": [
    "metrics_test.display_confusion_matrix(y_pred_test,\"Naive Bayes Test\")\n",
    "metrics_train.display_confusion_matrix(y_pred_train,\"Naive Bayes Train\")"
   ]
  },
  {
   "cell_type": "code",
   "execution_count": 61,
   "id": "b5f277d5",
   "metadata": {},
   "outputs": [
    {
     "name": "stdout",
     "output_type": "stream",
     "text": [
      "misclassified test samples by:  116\n",
      "misclassified Train samples by:  485\n"
     ]
    }
   ],
   "source": [
    "misclassified_test = metrics_test.misclassified_samples(y_pred_test)\n",
    "print(\"misclassified test samples by: \", misclassified_test)\n",
    "misclassified_train = metrics_train.misclassified_samples(y_pred_train)\n",
    "print(\"misclassified Train samples by: \", misclassified_train)"
   ]
  },
  {
   "cell_type": "code",
   "execution_count": 62,
   "id": "f255a470",
   "metadata": {},
   "outputs": [
    {
     "name": "stdout",
     "output_type": "stream",
     "text": [
      "Accuracy Test samples by:  0.9286153846153846\n",
      "Accuracy Train samples by:  0.9253731343283582\n"
     ]
    }
   ],
   "source": [
    "accuarcy_test = metrics_test.accuracy(y_pred_test)\n",
    "print(\"Accuracy Test samples by: \", accuarcy_test)\n",
    "accuarcy_train = metrics_train.accuracy(y_pred_train)\n",
    "print(\"Accuracy Train samples by: \", accuarcy_train)"
   ]
  },
  {
   "cell_type": "code",
   "execution_count": null,
   "id": "00da6aa4",
   "metadata": {},
   "outputs": [],
   "source": []
  }
 ],
 "metadata": {
  "kernelspec": {
   "display_name": "Python 3 (ipykernel)",
   "language": "python",
   "name": "python3"
  },
  "language_info": {
   "codemirror_mode": {
    "name": "ipython",
    "version": 3
   },
   "file_extension": ".py",
   "mimetype": "text/x-python",
   "name": "python",
   "nbconvert_exporter": "python",
   "pygments_lexer": "ipython3",
   "version": "3.11.5"
  }
 },
 "nbformat": 4,
 "nbformat_minor": 5
}
