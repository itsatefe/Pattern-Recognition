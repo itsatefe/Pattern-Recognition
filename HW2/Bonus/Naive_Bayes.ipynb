{
 "cells": [
  {
   "cell_type": "code",
   "execution_count": 1,
   "id": "7af70249",
   "metadata": {},
   "outputs": [],
   "source": [
    "from Data_Preprocess import Data_Preprocess\n",
    "from sklearn.model_selection import train_test_split\n",
    "import numpy as np\n",
    "from Metrics import Metrics"
   ]
  },
  {
   "cell_type": "code",
   "execution_count": 2,
   "id": "fe2e7467",
   "metadata": {},
   "outputs": [],
   "source": [
    "url = 'mushroom.txt'\n",
    "column_names_csv = 'mushroom_feature_names.csv'\n",
    "preprocessing = Data_Preprocess(url, column_names_csv)\n",
    "preprocessing.load_dataset()\n",
    "nan_counts = preprocessing.drop_columns_with_high_nan(threshold=2000)\n",
    "preprocessing.encode_categorical_features()\n",
    "encoded_data_types = preprocessing.display_data_types()\n",
    "dataset = preprocessing.dataset"
   ]
  },
  {
   "cell_type": "markdown",
   "id": "bbb5b129",
   "metadata": {},
   "source": [
    "# Q4.1.1"
   ]
  },
  {
   "cell_type": "code",
   "execution_count": 3,
   "id": "3b4a538f",
   "metadata": {},
   "outputs": [],
   "source": [
    "X = dataset.drop(columns=['class'])\n",
    "y = dataset['class']"
   ]
  },
  {
   "cell_type": "markdown",
   "id": "3ef23323",
   "metadata": {},
   "source": [
    "# Q.4.1.2"
   ]
  },
  {
   "cell_type": "code",
   "execution_count": 4,
   "id": "9f0bbceb",
   "metadata": {},
   "outputs": [],
   "source": [
    "X_train, X_test, y_train, y_test = train_test_split(X, y, test_size=0.2, random_state=42)"
   ]
  },
  {
   "cell_type": "markdown",
   "id": "0ad17347",
   "metadata": {},
   "source": [
    "# Q4.1.3"
   ]
  },
  {
   "cell_type": "markdown",
   "id": "0a46aa5e",
   "metadata": {},
   "source": [
    "what is the difference between Naive Bayes classifier and LDA?"
   ]
  },
  {
   "cell_type": "markdown",
   "id": "baf34fc9",
   "metadata": {},
   "source": [
    "Naive Bayes (NB) classifier and Generalized Linear Discriminant Analysis (GLDA) are both machine learning algorithms used for classification tasks, but they have different underlying assumptions and approaches.\n",
    "\n",
    "1. Assumptions:\n",
    "        Naive Bayes: It is based on the Bayes' theorem and assumes that features are conditionally independent given the class label.\n",
    "        GLDA: Generalized Linear Discriminant Analysis is an extension of Linear Discriminant Analysis (LDA) and assumes that the data come from a mixture of several multivariate normal distributions, each with its own set of parameters.\n",
    "\n",
    "2. Handling Continuous vs. Categorical Features:\n",
    "    Naive Bayes: Typically used for categorical features. It's well-suited for text classification tasks, where features might represent the presence or absence of words.\n",
    "    GLDA: Can handle both continuous and categorical features. It is particularly suitable for problems where the data is continuous and follows a multivariate normal distribution.\n",
    "\n",
    "3. Decision Boundary:\n",
    "    Naive Bayes: Employs a probabilistic model based on Bayes' theorem and calculates the probability of each class given the input features. The decision boundary is linear.\n",
    "    GDA: Defines decision boundaries that are quadratic or higher-order, allowing for more complex relationships between features.\n",
    "\n",
    "4. Training Data Requirements:\n",
    "    Naive Bayes: Requires a relatively small amount of training data to estimate the parameters needed for classification.\n",
    "    GLDA: May require more data, especially if the underlying assumptions of multivariate normality hold strictly.\n",
    "\n",
    "5. Use Cases:\n",
    "    Naive Bayes: Often used in natural language processing tasks like spam filtering and document classification.\n",
    "    GLDA: Suitable for more general classification tasks where the data distribution can be reasonably assumed to be multivariate normal."
   ]
  },
  {
   "cell_type": "markdown",
   "id": "1fec3509",
   "metadata": {},
   "source": [
    "# Q4.1.4"
   ]
  },
  {
   "cell_type": "markdown",
   "id": "2d865508",
   "metadata": {},
   "source": [
    "What are the model parameters of a Naive Bayes classifier? What is the role of each parameter?\n",
    "Between Naive Bayes, QDA, and LDA, which one has potentially more parameters? why?"
   ]
  },
  {
   "cell_type": "markdown",
   "id": "d9b81413",
   "metadata": {},
   "source": [
    "The parameters of a Naive Bayes classifier depend on the specific variant of Naive Bayes being used. The three common variants are Gaussian Naive Bayes (GNB), Multinomial Naive Bayes (MNB), and Bernoulli Naive Bayes (BNB). Here are the parameters for each:\n",
    "\n",
    "\n",
    "3. **Bernoulli Naive Bayes (BNB):**\n",
    "    - **Parameters:**\n",
    "        - **Class Priors (π):** The probability of each class in the training dataset.\n",
    "        - **Feature Probabilities (θ):** The probability of each feature being 1 (presence) given the class.\n",
    "\n",
    "The role of each parameter in Naive Bayes is as follows:\n",
    "- **Class Priors (π):** Represents the prior probability of each class and is estimated from the training data.\n",
    "- **Class Means and Variances (μ, σ^2) for GNB:** Used in Gaussian Naive Bayes to model the distribution of features within each class.\n",
    "- **Feature Probabilities (θ):** Represent the probabilities associated with each feature given the class. In MNB and BNB, these are used to compute the likelihood of the observed features given the class.\n",
    "\n",
    "**Comparison of Parameters:**\n",
    "- **Naive Bayes:** The number of parameters depends on the number of classes and the dimensionality of the feature space. For GNB, it also depends on the number of features.\n",
    "- **QDA (Quadratic Discriminant Analysis):** The number of parameters increases with the number of classes, and for each class, it involves parameters for the mean and covariance matrix, resulting in potentially more parameters compared to Naive Bayes.\n",
    "- **LDA (Linear Discriminant Analysis):** Similar to QDA, but it assumes a common covariance matrix across classes, reducing the number of parameters compared to QDA.\n",
    "\n",
    "In terms of the potential number of parameters:\n",
    "$$ \\text{Naive Bayes} < \\text{LDA} < \\text{QDA} $$\n",
    "\n",
    "Naive Bayes tends to have fewer parameters, making it less prone to overfitting, but it makes strong independence assumptions. QDA and LDA, on the other hand, can capture more complex relationships but may require more data and are more susceptible to overfitting."
   ]
  },
  {
   "cell_type": "markdown",
   "id": "cf62a894",
   "metadata": {},
   "source": [
    "# Q4.1.5"
   ]
  },
  {
   "cell_type": "code",
   "execution_count": 5,
   "id": "70a260c4",
   "metadata": {},
   "outputs": [],
   "source": [
    "class BernoulliNaiveBayes:\n",
    "    \n",
    "    def fit(self, X, y):\n",
    "        self.classes = np.unique(y)\n",
    "        self.class_priors = {}\n",
    "        self.feature_likelihoods = {}\n",
    "        for c in self.classes:\n",
    "            self.class_priors[c] = np.sum(y == c) / len(y)\n",
    "            self.feature_likelihoods[c] = np.mean(X[y == c], axis=0)\n",
    "\n",
    "    def predict(self, X):\n",
    "        X = X.values\n",
    "        predictions = []\n",
    "        for sample in X:\n",
    "            class_scores = []\n",
    "            for c in self.classes:\n",
    "                epsilon = 1e-10\n",
    "                prior = np.log(self.class_priors[c] + epsilon)\n",
    "                likelihood = np.sum(sample * np.log(self.feature_likelihoods[c] + epsilon) + (1 - sample) * np.log(1 - self.feature_likelihoods[c] + epsilon))\n",
    "                class_scores.append(prior + likelihood)\n",
    "                \n",
    "            predicted_class = self.classes[np.argmax(class_scores)]\n",
    "            predictions.append(predicted_class)\n",
    "\n",
    "        return np.array(predictions)\n"
   ]
  },
  {
   "cell_type": "code",
   "execution_count": null,
   "id": "4078a88b",
   "metadata": {},
   "outputs": [],
   "source": [
    "model = BernoulliNaiveBayes()\n",
    "model.fit(X_train, y_train)"
   ]
  },
  {
   "cell_type": "code",
   "execution_count": 11,
   "id": "3a7fd7e9",
   "metadata": {},
   "outputs": [
    {
     "name": "stderr",
     "output_type": "stream",
     "text": [
      "C:\\ProgramData\\anaconda3\\Lib\\site-packages\\pandas\\core\\arraylike.py:396: RuntimeWarning: invalid value encountered in log\n",
      "  result = getattr(ufunc, method)(*inputs, **kwargs)\n"
     ]
    }
   ],
   "source": [
    "y_pred_test = model.predict(X_test)\n",
    "y_pred_train = model.predict(X_train)"
   ]
  },
  {
   "cell_type": "code",
   "execution_count": 12,
   "id": "6a64fa10",
   "metadata": {},
   "outputs": [],
   "source": [
    "metrics_test = Metrics(y_test)\n",
    "metrics_train = Metrics(y_train)"
   ]
  },
  {
   "cell_type": "code",
   "execution_count": 13,
   "id": "f54be47c",
   "metadata": {},
   "outputs": [
    {
     "data": {
      "image/png": "[encoded data removed]",
      "text/plain": [
       "<Figure size 200x200 with 1 Axes>"
      ]
     },
     "metadata": {},
     "output_type": "display_data"
    },
    {
     "data": {
      "image/png": "[encoded data removed]",
      "text/plain": [
       "<Figure size 200x200 with 1 Axes>"
      ]
     },
     "metadata": {},
     "output_type": "display_data"
    }
   ],
   "source": [
    "metrics_test.display_confusion_matrix(y_pred_test,\"Naive Bayes Test\")\n",
    "metrics_train.display_confusion_matrix(y_pred_train,\"Naive Bayes Train\")"
   ]
  },
  {
   "cell_type": "code",
   "execution_count": 17,
   "id": "b5f277d5",
   "metadata": {},
   "outputs": [
    {
     "name": "stdout",
     "output_type": "stream",
     "text": [
      "misclassified test samples by:  127\n",
      "misclassified Train samples by:  467\n"
     ]
    }
   ],
   "source": [
    "misclassified_test = metrics_test.misclassified_samples(y_pred_test)\n",
    "print(\"misclassified test samples by: \", misclassified_test)\n",
    "misclassified_train = metrics_train.misclassified_samples(y_pred_train)\n",
    "print(\"misclassified Train samples by: \", misclassified_train)"
   ]
  },
  {
   "cell_type": "code",
   "execution_count": 16,
   "id": "f255a470",
   "metadata": {},
   "outputs": [
    {
     "name": "stdout",
     "output_type": "stream",
     "text": [
      "Accuracy Test samples by:  0.9218461538461539\n",
      "Accuracy Train samples by:  0.928142791198646\n"
     ]
    }
   ],
   "source": [
    "accuarcy_test = metrics_test.accuracy(y_pred_test)\n",
    "print(\"Accuracy Test samples by: \", accuarcy_test)\n",
    "accuarcy_train = metrics_train.accuracy(y_pred_train)\n",
    "print(\"Accuracy Train samples by: \", accuarcy_train)"
   ]
  },
  {
   "cell_type": "code",
   "execution_count": null,
   "id": "6547d48f",
   "metadata": {},
   "outputs": [],
   "source": []
  }
 ],
 "metadata": {
  "kernelspec": {
   "display_name": "Python 3 (ipykernel)",
   "language": "python",
   "name": "python3"
  },
  "language_info": {
   "codemirror_mode": {
    "name": "ipython",
    "version": 3
   },
   "file_extension": ".py",
   "mimetype": "text/x-python",
   "name": "python",
   "nbconvert_exporter": "python",
   "pygments_lexer": "ipython3",
   "version": "3.11.5"
  }
 },
 "nbformat": 4,
 "nbformat_minor": 5
}
