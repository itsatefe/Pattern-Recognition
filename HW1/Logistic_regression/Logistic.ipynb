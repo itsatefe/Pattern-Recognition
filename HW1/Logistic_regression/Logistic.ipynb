{
 "cells": [
  {
   "cell_type": "code",
   "execution_count": 66,
   "metadata": {},
   "outputs": [],
   "source": [
    "import numpy as np\n",
    "import pandas as pd\n",
    "import os\n",
    "from tabulate import tabulate\n",
    "import matplotlib.pyplot as plt"
   ]
  },
  {
   "cell_type": "markdown",
   "metadata": {},
   "source": [
    "# Q1"
   ]
  },
  {
   "cell_type": "code",
   "execution_count": 2,
   "metadata": {},
   "outputs": [],
   "source": [
    "def load_data(file_name,index_col):\n",
    "    current_directory = os.getcwd()\n",
    "    parent_directory = os.path.abspath(os.path.join(current_directory, '..'))\n",
    "    file_path = os.path.join(parent_directory, file_name)\n",
    "    dataset = pd.read_csv(file_path,index_col=index_col)\n",
    "    return dataset"
   ]
  },
  {
   "cell_type": "code",
   "execution_count": 3,
   "metadata": {},
   "outputs": [],
   "source": [
    "dataset = load_data('synthetic_software_defect.csv', index_col='id')"
   ]
  },
  {
   "cell_type": "code",
   "execution_count": 4,
   "metadata": {},
   "outputs": [
    {
     "data": {
      "text/html": [
       "<div>\n",
       "<style scoped>\n",
       "    .dataframe tbody tr th:only-of-type {\n",
       "        vertical-align: middle;\n",
       "    }\n",
       "\n",
       "    .dataframe tbody tr th {\n",
       "        vertical-align: top;\n",
       "    }\n",
       "\n",
       "    .dataframe thead th {\n",
       "        text-align: right;\n",
       "    }\n",
       "</style>\n",
       "<table border=\"1\" class=\"dataframe\">\n",
       "  <thead>\n",
       "    <tr style=\"text-align: right;\">\n",
       "      <th></th>\n",
       "      <th>loc</th>\n",
       "      <th>v(g)</th>\n",
       "      <th>ev(g)</th>\n",
       "      <th>iv(g)</th>\n",
       "      <th>n</th>\n",
       "      <th>v</th>\n",
       "      <th>l</th>\n",
       "      <th>d</th>\n",
       "      <th>i</th>\n",
       "      <th>e</th>\n",
       "      <th>...</th>\n",
       "      <th>lOCode</th>\n",
       "      <th>lOComment</th>\n",
       "      <th>lOBlank</th>\n",
       "      <th>locCodeAndComment</th>\n",
       "      <th>uniq_Op</th>\n",
       "      <th>uniq_Opnd</th>\n",
       "      <th>total_Op</th>\n",
       "      <th>total_Opnd</th>\n",
       "      <th>branchCount</th>\n",
       "      <th>defects</th>\n",
       "    </tr>\n",
       "    <tr>\n",
       "      <th>id</th>\n",
       "      <th></th>\n",
       "      <th></th>\n",
       "      <th></th>\n",
       "      <th></th>\n",
       "      <th></th>\n",
       "      <th></th>\n",
       "      <th></th>\n",
       "      <th></th>\n",
       "      <th></th>\n",
       "      <th></th>\n",
       "      <th></th>\n",
       "      <th></th>\n",
       "      <th></th>\n",
       "      <th></th>\n",
       "      <th></th>\n",
       "      <th></th>\n",
       "      <th></th>\n",
       "      <th></th>\n",
       "      <th></th>\n",
       "      <th></th>\n",
       "      <th></th>\n",
       "    </tr>\n",
       "  </thead>\n",
       "  <tbody>\n",
       "    <tr>\n",
       "      <th>0</th>\n",
       "      <td>22.0</td>\n",
       "      <td>3.0</td>\n",
       "      <td>1.0</td>\n",
       "      <td>2.0</td>\n",
       "      <td>60.0</td>\n",
       "      <td>278.63</td>\n",
       "      <td>0.06</td>\n",
       "      <td>19.56</td>\n",
       "      <td>14.25</td>\n",
       "      <td>5448.79</td>\n",
       "      <td>...</td>\n",
       "      <td>17</td>\n",
       "      <td>1</td>\n",
       "      <td>1</td>\n",
       "      <td>0</td>\n",
       "      <td>16.0</td>\n",
       "      <td>9.0</td>\n",
       "      <td>38.0</td>\n",
       "      <td>22.0</td>\n",
       "      <td>5.0</td>\n",
       "      <td>False</td>\n",
       "    </tr>\n",
       "    <tr>\n",
       "      <th>1</th>\n",
       "      <td>14.0</td>\n",
       "      <td>2.0</td>\n",
       "      <td>1.0</td>\n",
       "      <td>2.0</td>\n",
       "      <td>32.0</td>\n",
       "      <td>151.27</td>\n",
       "      <td>0.14</td>\n",
       "      <td>7.00</td>\n",
       "      <td>21.11</td>\n",
       "      <td>936.71</td>\n",
       "      <td>...</td>\n",
       "      <td>11</td>\n",
       "      <td>0</td>\n",
       "      <td>1</td>\n",
       "      <td>0</td>\n",
       "      <td>11.0</td>\n",
       "      <td>11.0</td>\n",
       "      <td>18.0</td>\n",
       "      <td>14.0</td>\n",
       "      <td>3.0</td>\n",
       "      <td>False</td>\n",
       "    </tr>\n",
       "    <tr>\n",
       "      <th>2</th>\n",
       "      <td>11.0</td>\n",
       "      <td>2.0</td>\n",
       "      <td>1.0</td>\n",
       "      <td>2.0</td>\n",
       "      <td>45.0</td>\n",
       "      <td>197.65</td>\n",
       "      <td>0.11</td>\n",
       "      <td>8.05</td>\n",
       "      <td>22.76</td>\n",
       "      <td>1754.01</td>\n",
       "      <td>...</td>\n",
       "      <td>8</td>\n",
       "      <td>0</td>\n",
       "      <td>1</td>\n",
       "      <td>0</td>\n",
       "      <td>12.0</td>\n",
       "      <td>11.0</td>\n",
       "      <td>28.0</td>\n",
       "      <td>17.0</td>\n",
       "      <td>3.0</td>\n",
       "      <td>False</td>\n",
       "    </tr>\n",
       "    <tr>\n",
       "      <th>3</th>\n",
       "      <td>8.0</td>\n",
       "      <td>1.0</td>\n",
       "      <td>1.0</td>\n",
       "      <td>1.0</td>\n",
       "      <td>23.0</td>\n",
       "      <td>94.01</td>\n",
       "      <td>0.19</td>\n",
       "      <td>5.25</td>\n",
       "      <td>17.86</td>\n",
       "      <td>473.66</td>\n",
       "      <td>...</td>\n",
       "      <td>4</td>\n",
       "      <td>0</td>\n",
       "      <td>2</td>\n",
       "      <td>0</td>\n",
       "      <td>8.0</td>\n",
       "      <td>6.0</td>\n",
       "      <td>16.0</td>\n",
       "      <td>7.0</td>\n",
       "      <td>1.0</td>\n",
       "      <td>True</td>\n",
       "    </tr>\n",
       "    <tr>\n",
       "      <th>4</th>\n",
       "      <td>11.0</td>\n",
       "      <td>2.0</td>\n",
       "      <td>1.0</td>\n",
       "      <td>2.0</td>\n",
       "      <td>17.0</td>\n",
       "      <td>60.94</td>\n",
       "      <td>0.18</td>\n",
       "      <td>5.63</td>\n",
       "      <td>12.44</td>\n",
       "      <td>365.67</td>\n",
       "      <td>...</td>\n",
       "      <td>7</td>\n",
       "      <td>0</td>\n",
       "      <td>2</td>\n",
       "      <td>0</td>\n",
       "      <td>7.0</td>\n",
       "      <td>6.0</td>\n",
       "      <td>10.0</td>\n",
       "      <td>10.0</td>\n",
       "      <td>3.0</td>\n",
       "      <td>False</td>\n",
       "    </tr>\n",
       "    <tr>\n",
       "      <th>...</th>\n",
       "      <td>...</td>\n",
       "      <td>...</td>\n",
       "      <td>...</td>\n",
       "      <td>...</td>\n",
       "      <td>...</td>\n",
       "      <td>...</td>\n",
       "      <td>...</td>\n",
       "      <td>...</td>\n",
       "      <td>...</td>\n",
       "      <td>...</td>\n",
       "      <td>...</td>\n",
       "      <td>...</td>\n",
       "      <td>...</td>\n",
       "      <td>...</td>\n",
       "      <td>...</td>\n",
       "      <td>...</td>\n",
       "      <td>...</td>\n",
       "      <td>...</td>\n",
       "      <td>...</td>\n",
       "      <td>...</td>\n",
       "      <td>...</td>\n",
       "    </tr>\n",
       "    <tr>\n",
       "      <th>101758</th>\n",
       "      <td>10.0</td>\n",
       "      <td>2.0</td>\n",
       "      <td>1.0</td>\n",
       "      <td>1.0</td>\n",
       "      <td>28.0</td>\n",
       "      <td>122.98</td>\n",
       "      <td>0.15</td>\n",
       "      <td>6.60</td>\n",
       "      <td>18.63</td>\n",
       "      <td>811.70</td>\n",
       "      <td>...</td>\n",
       "      <td>7</td>\n",
       "      <td>0</td>\n",
       "      <td>1</td>\n",
       "      <td>0</td>\n",
       "      <td>11.0</td>\n",
       "      <td>8.0</td>\n",
       "      <td>16.0</td>\n",
       "      <td>12.0</td>\n",
       "      <td>3.0</td>\n",
       "      <td>False</td>\n",
       "    </tr>\n",
       "    <tr>\n",
       "      <th>101759</th>\n",
       "      <td>27.0</td>\n",
       "      <td>5.0</td>\n",
       "      <td>4.0</td>\n",
       "      <td>1.0</td>\n",
       "      <td>107.0</td>\n",
       "      <td>559.93</td>\n",
       "      <td>0.06</td>\n",
       "      <td>18.00</td>\n",
       "      <td>34.17</td>\n",
       "      <td>11268.27</td>\n",
       "      <td>...</td>\n",
       "      <td>23</td>\n",
       "      <td>0</td>\n",
       "      <td>2</td>\n",
       "      <td>0</td>\n",
       "      <td>18.0</td>\n",
       "      <td>20.0</td>\n",
       "      <td>67.0</td>\n",
       "      <td>40.0</td>\n",
       "      <td>9.0</td>\n",
       "      <td>False</td>\n",
       "    </tr>\n",
       "    <tr>\n",
       "      <th>101760</th>\n",
       "      <td>26.0</td>\n",
       "      <td>1.0</td>\n",
       "      <td>1.0</td>\n",
       "      <td>1.0</td>\n",
       "      <td>83.0</td>\n",
       "      <td>360.17</td>\n",
       "      <td>0.04</td>\n",
       "      <td>22.75</td>\n",
       "      <td>12.56</td>\n",
       "      <td>5893.69</td>\n",
       "      <td>...</td>\n",
       "      <td>20</td>\n",
       "      <td>0</td>\n",
       "      <td>4</td>\n",
       "      <td>0</td>\n",
       "      <td>10.0</td>\n",
       "      <td>8.0</td>\n",
       "      <td>51.0</td>\n",
       "      <td>28.0</td>\n",
       "      <td>1.0</td>\n",
       "      <td>False</td>\n",
       "    </tr>\n",
       "    <tr>\n",
       "      <th>101761</th>\n",
       "      <td>10.0</td>\n",
       "      <td>2.0</td>\n",
       "      <td>1.0</td>\n",
       "      <td>2.0</td>\n",
       "      <td>43.0</td>\n",
       "      <td>191.76</td>\n",
       "      <td>0.15</td>\n",
       "      <td>6.46</td>\n",
       "      <td>29.53</td>\n",
       "      <td>1534.04</td>\n",
       "      <td>...</td>\n",
       "      <td>7</td>\n",
       "      <td>0</td>\n",
       "      <td>1</td>\n",
       "      <td>0</td>\n",
       "      <td>11.0</td>\n",
       "      <td>14.0</td>\n",
       "      <td>24.0</td>\n",
       "      <td>19.0</td>\n",
       "      <td>3.0</td>\n",
       "      <td>False</td>\n",
       "    </tr>\n",
       "    <tr>\n",
       "      <th>101762</th>\n",
       "      <td>136.0</td>\n",
       "      <td>18.0</td>\n",
       "      <td>18.0</td>\n",
       "      <td>1.0</td>\n",
       "      <td>296.0</td>\n",
       "      <td>1704.57</td>\n",
       "      <td>0.02</td>\n",
       "      <td>44.82</td>\n",
       "      <td>44.08</td>\n",
       "      <td>77011.02</td>\n",
       "      <td>...</td>\n",
       "      <td>102</td>\n",
       "      <td>1</td>\n",
       "      <td>11</td>\n",
       "      <td>0</td>\n",
       "      <td>22.0</td>\n",
       "      <td>31.0</td>\n",
       "      <td>162.0</td>\n",
       "      <td>135.0</td>\n",
       "      <td>35.0</td>\n",
       "      <td>False</td>\n",
       "    </tr>\n",
       "  </tbody>\n",
       "</table>\n",
       "<p>101763 rows × 22 columns</p>\n",
       "</div>"
      ],
      "text/plain": [
       "          loc  v(g)  ev(g)  iv(g)      n        v     l      d      i  \\\n",
       "id                                                                      \n",
       "0        22.0   3.0    1.0    2.0   60.0   278.63  0.06  19.56  14.25   \n",
       "1        14.0   2.0    1.0    2.0   32.0   151.27  0.14   7.00  21.11   \n",
       "2        11.0   2.0    1.0    2.0   45.0   197.65  0.11   8.05  22.76   \n",
       "3         8.0   1.0    1.0    1.0   23.0    94.01  0.19   5.25  17.86   \n",
       "4        11.0   2.0    1.0    2.0   17.0    60.94  0.18   5.63  12.44   \n",
       "...       ...   ...    ...    ...    ...      ...   ...    ...    ...   \n",
       "101758   10.0   2.0    1.0    1.0   28.0   122.98  0.15   6.60  18.63   \n",
       "101759   27.0   5.0    4.0    1.0  107.0   559.93  0.06  18.00  34.17   \n",
       "101760   26.0   1.0    1.0    1.0   83.0   360.17  0.04  22.75  12.56   \n",
       "101761   10.0   2.0    1.0    2.0   43.0   191.76  0.15   6.46  29.53   \n",
       "101762  136.0  18.0   18.0    1.0  296.0  1704.57  0.02  44.82  44.08   \n",
       "\n",
       "               e  ...  lOCode  lOComment  lOBlank  locCodeAndComment  uniq_Op  \\\n",
       "id                ...                                                           \n",
       "0        5448.79  ...      17          1        1                  0     16.0   \n",
       "1         936.71  ...      11          0        1                  0     11.0   \n",
       "2        1754.01  ...       8          0        1                  0     12.0   \n",
       "3         473.66  ...       4          0        2                  0      8.0   \n",
       "4         365.67  ...       7          0        2                  0      7.0   \n",
       "...          ...  ...     ...        ...      ...                ...      ...   \n",
       "101758    811.70  ...       7          0        1                  0     11.0   \n",
       "101759  11268.27  ...      23          0        2                  0     18.0   \n",
       "101760   5893.69  ...      20          0        4                  0     10.0   \n",
       "101761   1534.04  ...       7          0        1                  0     11.0   \n",
       "101762  77011.02  ...     102          1       11                  0     22.0   \n",
       "\n",
       "        uniq_Opnd  total_Op  total_Opnd  branchCount  defects  \n",
       "id                                                             \n",
       "0             9.0      38.0        22.0          5.0    False  \n",
       "1            11.0      18.0        14.0          3.0    False  \n",
       "2            11.0      28.0        17.0          3.0    False  \n",
       "3             6.0      16.0         7.0          1.0     True  \n",
       "4             6.0      10.0        10.0          3.0    False  \n",
       "...           ...       ...         ...          ...      ...  \n",
       "101758        8.0      16.0        12.0          3.0    False  \n",
       "101759       20.0      67.0        40.0          9.0    False  \n",
       "101760        8.0      51.0        28.0          1.0    False  \n",
       "101761       14.0      24.0        19.0          3.0    False  \n",
       "101762       31.0     162.0       135.0         35.0    False  \n",
       "\n",
       "[101763 rows x 22 columns]"
      ]
     },
     "execution_count": 4,
     "metadata": {},
     "output_type": "execute_result"
    }
   ],
   "source": [
    "dataset"
   ]
  },
  {
   "cell_type": "code",
   "execution_count": 5,
   "metadata": {},
   "outputs": [],
   "source": [
    "dataset['defects'] = dataset['defects'].map({False: 0, True: 1})"
   ]
  },
  {
   "cell_type": "markdown",
   "metadata": {},
   "source": [
    "# Q2"
   ]
  },
  {
   "cell_type": "markdown",
   "metadata": {},
   "source": [
    "Q: How many samples are there?\n",
    "A: There are 101,763 entries (samples) in the dataset.\n",
    "\n",
    "Q: How many of your features are numerical, categorical, and binary?\n",
    "\n",
    "A: \n",
    "\n",
    "Numerical Features: \n",
    "+ The dataset contains 22 features, out of which 17 are of type float64 and 5 are of type int64. In total, there are 22 numerical features (loc, v(g), ev(g), iv(g), n, v, l, d, i, e, b, t, lOCode, lOComment, lOBlank, locCodeAndComment, uniq_Op, uniq_Opnd, total_Op, total_Opnd, branchCount).\n",
    "\n",
    "Categorical Features: \n",
    "+ There are no categorical features in the dataset as all are numerical types (float64 and int64).\n",
    "\n",
    "Binary Features: \n",
    "+ The defects is binary since it has a non-null int64 data type and based on context"
   ]
  },
  {
   "cell_type": "code",
   "execution_count": 6,
   "metadata": {},
   "outputs": [
    {
     "name": "stdout",
     "output_type": "stream",
     "text": [
      "<class 'pandas.core.frame.DataFrame'>\n",
      "Int64Index: 101763 entries, 0 to 101762\n",
      "Data columns (total 22 columns):\n",
      " #   Column             Non-Null Count   Dtype  \n",
      "---  ------             --------------   -----  \n",
      " 0   loc                101763 non-null  float64\n",
      " 1   v(g)               101763 non-null  float64\n",
      " 2   ev(g)              101763 non-null  float64\n",
      " 3   iv(g)              101763 non-null  float64\n",
      " 4   n                  101763 non-null  float64\n",
      " 5   v                  101763 non-null  float64\n",
      " 6   l                  101763 non-null  float64\n",
      " 7   d                  101763 non-null  float64\n",
      " 8   i                  101763 non-null  float64\n",
      " 9   e                  101763 non-null  float64\n",
      " 10  b                  101763 non-null  float64\n",
      " 11  t                  101763 non-null  float64\n",
      " 12  lOCode             101763 non-null  int64  \n",
      " 13  lOComment          101763 non-null  int64  \n",
      " 14  lOBlank            101763 non-null  int64  \n",
      " 15  locCodeAndComment  101763 non-null  int64  \n",
      " 16  uniq_Op            101763 non-null  float64\n",
      " 17  uniq_Opnd          101763 non-null  float64\n",
      " 18  total_Op           101763 non-null  float64\n",
      " 19  total_Opnd         101763 non-null  float64\n",
      " 20  branchCount        101763 non-null  float64\n",
      " 21  defects            101763 non-null  int64  \n",
      "dtypes: float64(17), int64(5)\n",
      "memory usage: 17.9 MB\n"
     ]
    }
   ],
   "source": [
    "dataset.info()"
   ]
  },
  {
   "cell_type": "code",
   "execution_count": 7,
   "metadata": {
    "scrolled": true
   },
   "outputs": [
    {
     "data": {
      "text/html": [
       "<div>\n",
       "<style scoped>\n",
       "    .dataframe tbody tr th:only-of-type {\n",
       "        vertical-align: middle;\n",
       "    }\n",
       "\n",
       "    .dataframe tbody tr th {\n",
       "        vertical-align: top;\n",
       "    }\n",
       "\n",
       "    .dataframe thead th {\n",
       "        text-align: right;\n",
       "    }\n",
       "</style>\n",
       "<table border=\"1\" class=\"dataframe\">\n",
       "  <thead>\n",
       "    <tr style=\"text-align: right;\">\n",
       "      <th></th>\n",
       "      <th>loc</th>\n",
       "      <th>v(g)</th>\n",
       "      <th>ev(g)</th>\n",
       "      <th>iv(g)</th>\n",
       "      <th>n</th>\n",
       "      <th>v</th>\n",
       "      <th>l</th>\n",
       "      <th>d</th>\n",
       "      <th>i</th>\n",
       "      <th>e</th>\n",
       "      <th>...</th>\n",
       "      <th>lOCode</th>\n",
       "      <th>lOComment</th>\n",
       "      <th>lOBlank</th>\n",
       "      <th>locCodeAndComment</th>\n",
       "      <th>uniq_Op</th>\n",
       "      <th>uniq_Opnd</th>\n",
       "      <th>total_Op</th>\n",
       "      <th>total_Opnd</th>\n",
       "      <th>branchCount</th>\n",
       "      <th>defects</th>\n",
       "    </tr>\n",
       "  </thead>\n",
       "  <tbody>\n",
       "    <tr>\n",
       "      <th>count</th>\n",
       "      <td>101763.000000</td>\n",
       "      <td>101763.000000</td>\n",
       "      <td>101763.000000</td>\n",
       "      <td>101763.000000</td>\n",
       "      <td>101763.000000</td>\n",
       "      <td>101763.000000</td>\n",
       "      <td>101763.000000</td>\n",
       "      <td>101763.000000</td>\n",
       "      <td>101763.000000</td>\n",
       "      <td>1.017630e+05</td>\n",
       "      <td>...</td>\n",
       "      <td>101763.000000</td>\n",
       "      <td>101763.000000</td>\n",
       "      <td>101763.000000</td>\n",
       "      <td>101763.000000</td>\n",
       "      <td>101763.000000</td>\n",
       "      <td>101763.000000</td>\n",
       "      <td>101763.000000</td>\n",
       "      <td>101763.000000</td>\n",
       "      <td>101763.000000</td>\n",
       "      <td>101763.000000</td>\n",
       "    </tr>\n",
       "    <tr>\n",
       "      <th>mean</th>\n",
       "      <td>37.347160</td>\n",
       "      <td>5.492684</td>\n",
       "      <td>2.845022</td>\n",
       "      <td>3.498826</td>\n",
       "      <td>96.655995</td>\n",
       "      <td>538.280956</td>\n",
       "      <td>0.111634</td>\n",
       "      <td>13.681881</td>\n",
       "      <td>27.573007</td>\n",
       "      <td>2.085359e+04</td>\n",
       "      <td>...</td>\n",
       "      <td>22.802453</td>\n",
       "      <td>1.773945</td>\n",
       "      <td>3.979865</td>\n",
       "      <td>0.196604</td>\n",
       "      <td>11.896131</td>\n",
       "      <td>15.596671</td>\n",
       "      <td>57.628116</td>\n",
       "      <td>39.249698</td>\n",
       "      <td>9.839549</td>\n",
       "      <td>0.226644</td>\n",
       "    </tr>\n",
       "    <tr>\n",
       "      <th>std</th>\n",
       "      <td>54.600401</td>\n",
       "      <td>7.900855</td>\n",
       "      <td>4.631262</td>\n",
       "      <td>5.534541</td>\n",
       "      <td>171.147191</td>\n",
       "      <td>1270.791601</td>\n",
       "      <td>0.100096</td>\n",
       "      <td>14.121306</td>\n",
       "      <td>22.856742</td>\n",
       "      <td>1.905714e+05</td>\n",
       "      <td>...</td>\n",
       "      <td>38.541010</td>\n",
       "      <td>5.902412</td>\n",
       "      <td>6.382358</td>\n",
       "      <td>0.998906</td>\n",
       "      <td>6.749549</td>\n",
       "      <td>18.064261</td>\n",
       "      <td>104.537660</td>\n",
       "      <td>71.692309</td>\n",
       "      <td>14.412769</td>\n",
       "      <td>0.418663</td>\n",
       "    </tr>\n",
       "    <tr>\n",
       "      <th>min</th>\n",
       "      <td>1.000000</td>\n",
       "      <td>1.000000</td>\n",
       "      <td>1.000000</td>\n",
       "      <td>1.000000</td>\n",
       "      <td>0.000000</td>\n",
       "      <td>0.000000</td>\n",
       "      <td>0.000000</td>\n",
       "      <td>0.000000</td>\n",
       "      <td>0.000000</td>\n",
       "      <td>0.000000e+00</td>\n",
       "      <td>...</td>\n",
       "      <td>0.000000</td>\n",
       "      <td>0.000000</td>\n",
       "      <td>0.000000</td>\n",
       "      <td>0.000000</td>\n",
       "      <td>0.000000</td>\n",
       "      <td>0.000000</td>\n",
       "      <td>0.000000</td>\n",
       "      <td>0.000000</td>\n",
       "      <td>1.000000</td>\n",
       "      <td>0.000000</td>\n",
       "    </tr>\n",
       "    <tr>\n",
       "      <th>25%</th>\n",
       "      <td>13.000000</td>\n",
       "      <td>2.000000</td>\n",
       "      <td>1.000000</td>\n",
       "      <td>1.000000</td>\n",
       "      <td>25.000000</td>\n",
       "      <td>97.670000</td>\n",
       "      <td>0.050000</td>\n",
       "      <td>5.600000</td>\n",
       "      <td>15.560000</td>\n",
       "      <td>5.647300e+02</td>\n",
       "      <td>...</td>\n",
       "      <td>7.000000</td>\n",
       "      <td>0.000000</td>\n",
       "      <td>1.000000</td>\n",
       "      <td>0.000000</td>\n",
       "      <td>8.000000</td>\n",
       "      <td>7.000000</td>\n",
       "      <td>15.000000</td>\n",
       "      <td>10.000000</td>\n",
       "      <td>3.000000</td>\n",
       "      <td>0.000000</td>\n",
       "    </tr>\n",
       "    <tr>\n",
       "      <th>50%</th>\n",
       "      <td>22.000000</td>\n",
       "      <td>3.000000</td>\n",
       "      <td>1.000000</td>\n",
       "      <td>2.000000</td>\n",
       "      <td>51.000000</td>\n",
       "      <td>232.790000</td>\n",
       "      <td>0.090000</td>\n",
       "      <td>9.820000</td>\n",
       "      <td>23.360000</td>\n",
       "      <td>2.256230e+03</td>\n",
       "      <td>...</td>\n",
       "      <td>14.000000</td>\n",
       "      <td>0.000000</td>\n",
       "      <td>2.000000</td>\n",
       "      <td>0.000000</td>\n",
       "      <td>11.000000</td>\n",
       "      <td>12.000000</td>\n",
       "      <td>30.000000</td>\n",
       "      <td>20.000000</td>\n",
       "      <td>5.000000</td>\n",
       "      <td>0.000000</td>\n",
       "    </tr>\n",
       "    <tr>\n",
       "      <th>75%</th>\n",
       "      <td>42.000000</td>\n",
       "      <td>6.000000</td>\n",
       "      <td>3.000000</td>\n",
       "      <td>4.000000</td>\n",
       "      <td>111.000000</td>\n",
       "      <td>560.250000</td>\n",
       "      <td>0.150000</td>\n",
       "      <td>18.000000</td>\n",
       "      <td>34.340000</td>\n",
       "      <td>1.019324e+04</td>\n",
       "      <td>...</td>\n",
       "      <td>26.000000</td>\n",
       "      <td>1.000000</td>\n",
       "      <td>5.000000</td>\n",
       "      <td>0.000000</td>\n",
       "      <td>16.000000</td>\n",
       "      <td>20.000000</td>\n",
       "      <td>66.000000</td>\n",
       "      <td>45.000000</td>\n",
       "      <td>11.000000</td>\n",
       "      <td>0.000000</td>\n",
       "    </tr>\n",
       "    <tr>\n",
       "      <th>max</th>\n",
       "      <td>3442.000000</td>\n",
       "      <td>404.000000</td>\n",
       "      <td>165.000000</td>\n",
       "      <td>402.000000</td>\n",
       "      <td>8441.000000</td>\n",
       "      <td>80843.080000</td>\n",
       "      <td>1.000000</td>\n",
       "      <td>418.200000</td>\n",
       "      <td>569.780000</td>\n",
       "      <td>1.684662e+07</td>\n",
       "      <td>...</td>\n",
       "      <td>2824.000000</td>\n",
       "      <td>344.000000</td>\n",
       "      <td>219.000000</td>\n",
       "      <td>43.000000</td>\n",
       "      <td>410.000000</td>\n",
       "      <td>1026.000000</td>\n",
       "      <td>5420.000000</td>\n",
       "      <td>3021.000000</td>\n",
       "      <td>503.000000</td>\n",
       "      <td>1.000000</td>\n",
       "    </tr>\n",
       "  </tbody>\n",
       "</table>\n",
       "<p>8 rows × 22 columns</p>\n",
       "</div>"
      ],
      "text/plain": [
       "                 loc           v(g)          ev(g)          iv(g)  \\\n",
       "count  101763.000000  101763.000000  101763.000000  101763.000000   \n",
       "mean       37.347160       5.492684       2.845022       3.498826   \n",
       "std        54.600401       7.900855       4.631262       5.534541   \n",
       "min         1.000000       1.000000       1.000000       1.000000   \n",
       "25%        13.000000       2.000000       1.000000       1.000000   \n",
       "50%        22.000000       3.000000       1.000000       2.000000   \n",
       "75%        42.000000       6.000000       3.000000       4.000000   \n",
       "max      3442.000000     404.000000     165.000000     402.000000   \n",
       "\n",
       "                   n              v              l              d  \\\n",
       "count  101763.000000  101763.000000  101763.000000  101763.000000   \n",
       "mean       96.655995     538.280956       0.111634      13.681881   \n",
       "std       171.147191    1270.791601       0.100096      14.121306   \n",
       "min         0.000000       0.000000       0.000000       0.000000   \n",
       "25%        25.000000      97.670000       0.050000       5.600000   \n",
       "50%        51.000000     232.790000       0.090000       9.820000   \n",
       "75%       111.000000     560.250000       0.150000      18.000000   \n",
       "max      8441.000000   80843.080000       1.000000     418.200000   \n",
       "\n",
       "                   i             e  ...         lOCode      lOComment  \\\n",
       "count  101763.000000  1.017630e+05  ...  101763.000000  101763.000000   \n",
       "mean       27.573007  2.085359e+04  ...      22.802453       1.773945   \n",
       "std        22.856742  1.905714e+05  ...      38.541010       5.902412   \n",
       "min         0.000000  0.000000e+00  ...       0.000000       0.000000   \n",
       "25%        15.560000  5.647300e+02  ...       7.000000       0.000000   \n",
       "50%        23.360000  2.256230e+03  ...      14.000000       0.000000   \n",
       "75%        34.340000  1.019324e+04  ...      26.000000       1.000000   \n",
       "max       569.780000  1.684662e+07  ...    2824.000000     344.000000   \n",
       "\n",
       "             lOBlank  locCodeAndComment        uniq_Op      uniq_Opnd  \\\n",
       "count  101763.000000      101763.000000  101763.000000  101763.000000   \n",
       "mean        3.979865           0.196604      11.896131      15.596671   \n",
       "std         6.382358           0.998906       6.749549      18.064261   \n",
       "min         0.000000           0.000000       0.000000       0.000000   \n",
       "25%         1.000000           0.000000       8.000000       7.000000   \n",
       "50%         2.000000           0.000000      11.000000      12.000000   \n",
       "75%         5.000000           0.000000      16.000000      20.000000   \n",
       "max       219.000000          43.000000     410.000000    1026.000000   \n",
       "\n",
       "            total_Op     total_Opnd    branchCount        defects  \n",
       "count  101763.000000  101763.000000  101763.000000  101763.000000  \n",
       "mean       57.628116      39.249698       9.839549       0.226644  \n",
       "std       104.537660      71.692309      14.412769       0.418663  \n",
       "min         0.000000       0.000000       1.000000       0.000000  \n",
       "25%        15.000000      10.000000       3.000000       0.000000  \n",
       "50%        30.000000      20.000000       5.000000       0.000000  \n",
       "75%        66.000000      45.000000      11.000000       0.000000  \n",
       "max      5420.000000    3021.000000     503.000000       1.000000  \n",
       "\n",
       "[8 rows x 22 columns]"
      ]
     },
     "execution_count": 7,
     "metadata": {},
     "output_type": "execute_result"
    }
   ],
   "source": [
    "dataset.describe()"
   ]
  },
  {
   "cell_type": "markdown",
   "metadata": {},
   "source": [
    "# Q3"
   ]
  },
  {
   "cell_type": "code",
   "execution_count": 8,
   "metadata": {},
   "outputs": [],
   "source": [
    "def correlation(datatset, target_col,num_most):\n",
    "    correlation_data = []\n",
    "    for col_name in dataset.columns:\n",
    "        if col_name == target_col:\n",
    "            continue\n",
    "        correlation = dataset[target_col].corr(dataset[col_name])\n",
    "        if correlation < 0:\n",
    "            correlation_type = \"negatively correlated\"\n",
    "        elif correlation > 0:\n",
    "            correlation_type = \"positively correlated\"\n",
    "        else:\n",
    "            correlation_type = \"not correlated\"\n",
    "            \n",
    "        correlation_data.append([col_name, correlation, correlation_type])\n",
    "        \n",
    "    print(tabulate(correlation_data, headers=[\"Variable\", \"Correlation\", \"Correlation Type\"], tablefmt=\"grid\"))\n",
    "    correlation_data = sorted(correlation_data, key=lambda x: abs(x[1]),reverse=True)\n",
    "    print('--------------------------------')\n",
    "    \n",
    "    for index, most_corr in enumerate(correlation_data[:num_most]):\n",
    "        print(f\"{most_corr[0]} has the {index+1} highest correlation with {target_col}.\")\n",
    "        print(f\"correlation value is: {most_corr[1]}\")\n",
    "        print(\"--\")\n",
    "        \n",
    "    return correlation_data\n"
   ]
  },
  {
   "cell_type": "code",
   "execution_count": 9,
   "metadata": {
    "scrolled": false
   },
   "outputs": [
    {
     "name": "stdout",
     "output_type": "stream",
     "text": [
      "+-------------------+---------------+-----------------------+\n",
      "| Variable          |   Correlation | Correlation Type      |\n",
      "+===================+===============+=======================+\n",
      "| loc               |     0.342642  | positively correlated |\n",
      "+-------------------+---------------+-----------------------+\n",
      "| v(g)              |     0.301187  | positively correlated |\n",
      "+-------------------+---------------+-----------------------+\n",
      "| ev(g)             |     0.259928  | positively correlated |\n",
      "+-------------------+---------------+-----------------------+\n",
      "| iv(g)             |     0.245618  | positively correlated |\n",
      "+-------------------+---------------+-----------------------+\n",
      "| n                 |     0.25808   | positively correlated |\n",
      "+-------------------+---------------+-----------------------+\n",
      "| v                 |     0.231179  | positively correlated |\n",
      "+-------------------+---------------+-----------------------+\n",
      "| l                 |    -0.253237  | negatively correlated |\n",
      "+-------------------+---------------+-----------------------+\n",
      "| d                 |     0.241936  | positively correlated |\n",
      "+-------------------+---------------+-----------------------+\n",
      "| i                 |     0.208577  | positively correlated |\n",
      "+-------------------+---------------+-----------------------+\n",
      "| e                 |     0.0953659 | positively correlated |\n",
      "+-------------------+---------------+-----------------------+\n",
      "| b                 |     0.232594  | positively correlated |\n",
      "+-------------------+---------------+-----------------------+\n",
      "| t                 |     0.0995923 | positively correlated |\n",
      "+-------------------+---------------+-----------------------+\n",
      "| lOCode            |     0.250604  | positively correlated |\n",
      "+-------------------+---------------+-----------------------+\n",
      "| lOComment         |     0.205402  | positively correlated |\n",
      "+-------------------+---------------+-----------------------+\n",
      "| lOBlank           |     0.257819  | positively correlated |\n",
      "+-------------------+---------------+-----------------------+\n",
      "| locCodeAndComment |     0.13315   | positively correlated |\n",
      "+-------------------+---------------+-----------------------+\n",
      "| uniq_Op           |     0.178474  | positively correlated |\n",
      "+-------------------+---------------+-----------------------+\n",
      "| uniq_Opnd         |     0.246113  | positively correlated |\n",
      "+-------------------+---------------+-----------------------+\n",
      "| total_Op          |     0.250533  | positively correlated |\n",
      "+-------------------+---------------+-----------------------+\n",
      "| total_Opnd        |     0.252752  | positively correlated |\n",
      "+-------------------+---------------+-----------------------+\n",
      "| branchCount       |     0.322827  | positively correlated |\n",
      "+-------------------+---------------+-----------------------+\n",
      "--------------------------------\n",
      "loc has the 1 highest correlation with defects.\n",
      "correlation value is: 0.3426415328403089\n",
      "--\n",
      "branchCount has the 2 highest correlation with defects.\n",
      "correlation value is: 0.3228265153759216\n",
      "--\n"
     ]
    }
   ],
   "source": [
    "correlation_data = correlation(dataset,\"defects\",2)"
   ]
  },
  {
   "cell_type": "markdown",
   "metadata": {},
   "source": [
    "# Q4"
   ]
  },
  {
   "cell_type": "code",
   "execution_count": 10,
   "metadata": {},
   "outputs": [],
   "source": [
    "features = [item[0] for item in correlation_data]\n",
    "dataset = dataset[[features[0], features[1], 'defects']]"
   ]
  },
  {
   "cell_type": "code",
   "execution_count": 11,
   "metadata": {},
   "outputs": [
    {
     "data": {
      "text/html": [
       "<div>\n",
       "<style scoped>\n",
       "    .dataframe tbody tr th:only-of-type {\n",
       "        vertical-align: middle;\n",
       "    }\n",
       "\n",
       "    .dataframe tbody tr th {\n",
       "        vertical-align: top;\n",
       "    }\n",
       "\n",
       "    .dataframe thead th {\n",
       "        text-align: right;\n",
       "    }\n",
       "</style>\n",
       "<table border=\"1\" class=\"dataframe\">\n",
       "  <thead>\n",
       "    <tr style=\"text-align: right;\">\n",
       "      <th></th>\n",
       "      <th>loc</th>\n",
       "      <th>branchCount</th>\n",
       "      <th>defects</th>\n",
       "    </tr>\n",
       "    <tr>\n",
       "      <th>id</th>\n",
       "      <th></th>\n",
       "      <th></th>\n",
       "      <th></th>\n",
       "    </tr>\n",
       "  </thead>\n",
       "  <tbody>\n",
       "    <tr>\n",
       "      <th>0</th>\n",
       "      <td>22.0</td>\n",
       "      <td>5.0</td>\n",
       "      <td>0</td>\n",
       "    </tr>\n",
       "    <tr>\n",
       "      <th>1</th>\n",
       "      <td>14.0</td>\n",
       "      <td>3.0</td>\n",
       "      <td>0</td>\n",
       "    </tr>\n",
       "    <tr>\n",
       "      <th>2</th>\n",
       "      <td>11.0</td>\n",
       "      <td>3.0</td>\n",
       "      <td>0</td>\n",
       "    </tr>\n",
       "    <tr>\n",
       "      <th>3</th>\n",
       "      <td>8.0</td>\n",
       "      <td>1.0</td>\n",
       "      <td>1</td>\n",
       "    </tr>\n",
       "    <tr>\n",
       "      <th>4</th>\n",
       "      <td>11.0</td>\n",
       "      <td>3.0</td>\n",
       "      <td>0</td>\n",
       "    </tr>\n",
       "    <tr>\n",
       "      <th>...</th>\n",
       "      <td>...</td>\n",
       "      <td>...</td>\n",
       "      <td>...</td>\n",
       "    </tr>\n",
       "    <tr>\n",
       "      <th>101758</th>\n",
       "      <td>10.0</td>\n",
       "      <td>3.0</td>\n",
       "      <td>0</td>\n",
       "    </tr>\n",
       "    <tr>\n",
       "      <th>101759</th>\n",
       "      <td>27.0</td>\n",
       "      <td>9.0</td>\n",
       "      <td>0</td>\n",
       "    </tr>\n",
       "    <tr>\n",
       "      <th>101760</th>\n",
       "      <td>26.0</td>\n",
       "      <td>1.0</td>\n",
       "      <td>0</td>\n",
       "    </tr>\n",
       "    <tr>\n",
       "      <th>101761</th>\n",
       "      <td>10.0</td>\n",
       "      <td>3.0</td>\n",
       "      <td>0</td>\n",
       "    </tr>\n",
       "    <tr>\n",
       "      <th>101762</th>\n",
       "      <td>136.0</td>\n",
       "      <td>35.0</td>\n",
       "      <td>0</td>\n",
       "    </tr>\n",
       "  </tbody>\n",
       "</table>\n",
       "<p>101763 rows × 3 columns</p>\n",
       "</div>"
      ],
      "text/plain": [
       "          loc  branchCount  defects\n",
       "id                                 \n",
       "0        22.0          5.0        0\n",
       "1        14.0          3.0        0\n",
       "2        11.0          3.0        0\n",
       "3         8.0          1.0        1\n",
       "4        11.0          3.0        0\n",
       "...       ...          ...      ...\n",
       "101758   10.0          3.0        0\n",
       "101759   27.0          9.0        0\n",
       "101760   26.0          1.0        0\n",
       "101761   10.0          3.0        0\n",
       "101762  136.0         35.0        0\n",
       "\n",
       "[101763 rows x 3 columns]"
      ]
     },
     "execution_count": 11,
     "metadata": {},
     "output_type": "execute_result"
    }
   ],
   "source": [
    "dataset"
   ]
  },
  {
   "cell_type": "markdown",
   "metadata": {},
   "source": [
    "# Q5"
   ]
  },
  {
   "cell_type": "code",
   "execution_count": 12,
   "metadata": {},
   "outputs": [],
   "source": [
    "first_shape = dataset.shape[0]"
   ]
  },
  {
   "cell_type": "code",
   "execution_count": 13,
   "metadata": {},
   "outputs": [],
   "source": [
    "dataset = dataset.drop_duplicates()"
   ]
  },
  {
   "cell_type": "code",
   "execution_count": 14,
   "metadata": {},
   "outputs": [],
   "source": [
    "second_shape = dataset.shape[0]"
   ]
  },
  {
   "cell_type": "code",
   "execution_count": 15,
   "metadata": {},
   "outputs": [],
   "source": [
    "percent_dup = ((first_shape - second_shape) * 100) / first_shape"
   ]
  },
  {
   "cell_type": "code",
   "execution_count": 16,
   "metadata": {},
   "outputs": [
    {
     "data": {
      "text/plain": [
       "92.06194785924157"
      ]
     },
     "execution_count": 16,
     "metadata": {},
     "output_type": "execute_result"
    }
   ],
   "source": [
    "percent_dup"
   ]
  },
  {
   "cell_type": "markdown",
   "metadata": {},
   "source": [
    "# Q6"
   ]
  },
  {
   "cell_type": "markdown",
   "metadata": {},
   "source": [
    "What is histogram? \n",
    "Representation of the distribution of a dataset. \n",
    "\n",
    "+ Bins or intervals: The range of values is divided into intervals or bins. \n",
    "+ Bar Height: The frequency or count of data points that fall within the corresponding bin."
   ]
  },
  {
   "cell_type": "code",
   "execution_count": 17,
   "metadata": {},
   "outputs": [
    {
     "data": {
      "image/png": "[encoded data removed]",
      "text/plain": [
       "<Figure size 1000x400 with 2 Axes>"
      ]
     },
     "metadata": {},
     "output_type": "display_data"
    }
   ],
   "source": [
    "plt.figure(figsize=(10,4))\n",
    "plt.subplot(1, 2, 1)\n",
    "hist_loc, bins_loc, _ = plt.hist(dataset['loc'], bins=100, color='blue')\n",
    "plt.title('Histogram of loc')\n",
    "plt.xlabel('Values')\n",
    "plt.ylabel('Frequency')\n",
    "\n",
    "plt.subplot(1, 2, 2)\n",
    "hist_branchCount, bins_branchCount, _ = plt.hist(dataset['branchCount'], bins=100, color='green')\n",
    "plt.title('Histogram of branchCount')\n",
    "plt.xlabel('Values')\n",
    "plt.ylabel('Frequency')\n",
    "\n",
    "plt.tight_layout()\n",
    "plt.show()"
   ]
  },
  {
   "cell_type": "markdown",
   "metadata": {},
   "source": [
    "# Q7"
   ]
  },
  {
   "cell_type": "markdown",
   "metadata": {},
   "source": [
    "Our data is Exponential distuributed"
   ]
  },
  {
   "cell_type": "markdown",
   "metadata": {},
   "source": [
    "Normal Distribution (Gaussian):\n",
    "+ A Normal Distribution is symmetric and has a bell-shaped curve. In this distribution, the mean, median, and mode are equal and located at the center of the distribution.\n",
    "+ Parameters: Mean (μ) and Standard Deviation (σ).\n",
    "+ Common Use Cases: Natural phenomena like heights, weights, IQ scores, and measurement errors are often normally distributed.\n",
    "+ Properties: About 68% of data falls within one standard deviation of the mean, 95% within two standard deviations, and 99.7% within three standard deviations.\n",
    "\n",
    "Exponential Distribution:\n",
    "+ This distribution is right-skewed with a long tail to the right. It describes the time between events in a Poisson process, i.e., a process in which events occur continuously and independently at a constant average rate.\n",
    "+ Parameters: Rate (λ), which is the reciprocal of the mean.\n",
    "+ Common Use Cases: Modeling the time between customer arrivals, radioactive decay, or time until the next hardware failure.\n",
    "+ Properties: Memorylessness, meaning the future distribution depends only on the present state, not on how we arrived there.\n",
    "\n",
    "Uniform Distribution:\n",
    "+ In this distribution, all values in a given range are equally likely to occur. Both continuous and discrete forms exist.\n",
    "+ Parameters: Minimum (a) and Maximum (b) values for continuous; for discrete, all outcomes and their likelihoods.\n",
    "+ Common Use Cases: Idealized models where each outcome is equally likely, such as rolling a fair die.\n",
    "+ Properties: No skewness, zero kurtosis.\n",
    "\n",
    "Log-Normal Distribution:\n",
    "+ In this distribution, the natural logarithm of the dataset follows a normal distribution. It's skewed to the right.\n",
    "+ Parameters: Underlying Normal distribution's Mean (μ) and Standard Deviation (σ).\n",
    "+ Common Use Cases: Situations where a product of many small independent factors produces the result, such as economic data, lifetimes of products, etc.\n",
    "+ Properties: The multiplication of log-normal random variables remains log-normally distributed.\n",
    "\n",
    "Poisson Distribution:\n",
    "+ This is a discrete distribution that expresses the probability of a given number of events occurring in a fixed interval of time or space.\n",
    "+ Parameters: Rate (λ), which is the average number of occurrences in an interval.\n",
    "+ Common Use Cases: Modeling the number of emails received in an hour, the number of phone calls at a call center, etc.\n",
    "+ Properties: The mean is equal to the variance in a Poisson distribution."
   ]
  },
  {
   "cell_type": "markdown",
   "metadata": {},
   "source": [
    "To identify the distribution of a feature, you can follow these steps:\n",
    "\n",
    "    Visual Inspection: Start by plotting a histogram of the feature as previously discussed.\n",
    "\n",
    "    Common distributions you may encounter include:\n",
    "        1. Normal Distribution (Gaussian): A symmetric, bell-shaped curve.\n",
    "        2. Exponential Distribution: A right-skewed distribution with a long tail.\n",
    "        3. Uniform Distribution: All values are equally likely.\n",
    "        4. Log-Normal Distribution: The natural logarithm of the data follows a normal distribution.\n",
    "        5. Poisson Distribution: A discrete distribution for counting events over a fixed interval."
   ]
  },
  {
   "cell_type": "markdown",
   "metadata": {},
   "source": [
    "# Q8"
   ]
  },
  {
   "cell_type": "markdown",
   "metadata": {},
   "source": [
    "Log-transforming features can be beneficial for several reasons:\n",
    "1. Handling Skewed Data\n",
    "2. Equalizing Variance\n",
    "3. Dealing with Outliers\n",
    "4. Meeting Assumptions"
   ]
  },
  {
   "cell_type": "markdown",
   "metadata": {},
   "source": [
    "What is Skewed Data and how to handle it:\n",
    "+ It is a probability distribution of a dataset in which the data points are not symmetrically distributed around the mean (average).\n",
    "+ Logarithmic transformation is a common technique for addressing data with a skewed distribution. It can make the distribution of the data more symmetric and closer to a normal (Gaussian) distribution."
   ]
  },
  {
   "cell_type": "code",
   "execution_count": 18,
   "metadata": {},
   "outputs": [
    {
     "data": {
      "text/plain": [
       "129.22072295122555"
      ]
     },
     "execution_count": 18,
     "metadata": {},
     "output_type": "execute_result"
    }
   ],
   "source": [
    "dataset['loc'].mean()"
   ]
  },
  {
   "cell_type": "code",
   "execution_count": 19,
   "metadata": {},
   "outputs": [
    {
     "data": {
      "text/plain": [
       "33.95914830403565"
      ]
     },
     "execution_count": 19,
     "metadata": {},
     "output_type": "execute_result"
    }
   ],
   "source": [
    "dataset['branchCount'].mean()"
   ]
  },
  {
   "cell_type": "code",
   "execution_count": 20,
   "metadata": {},
   "outputs": [],
   "source": [
    "dataset_log1p = dataset[['loc', 'branchCount']].apply(np.log1p)"
   ]
  },
  {
   "cell_type": "code",
   "execution_count": 21,
   "metadata": {},
   "outputs": [],
   "source": [
    "dataset_log1p['defects'] = dataset['defects'] "
   ]
  },
  {
   "cell_type": "markdown",
   "metadata": {},
   "source": [
    "# Q9"
   ]
  },
  {
   "cell_type": "markdown",
   "metadata": {},
   "source": [
    "Whats the difference between np.log1p() and np.log()?"
   ]
  },
  {
   "cell_type": "markdown",
   "metadata": {},
   "source": [
    "The np.log and np.log1p functions in NumPy both compute logarithms, but they are different in how they handle input and output.\n",
    "\n",
    "np.log:\n",
    "\n",
    "Takes an array and computes the natural logarithm for each element.\n",
    "Returns negative infinity if the input is zero.\n",
    "Returns 'nan' for negative input values.\n",
    "\n",
    "np.log1p:\n",
    "\n",
    "Takes an array and computes the natural logarithm of 1 plus each element in the array.\n",
    "Returns 0 if the input is zero.\n",
    "Also returns 'nan' for values less than -1.\n",
    "np.log is generally used when you don't expect values close to zero. np.log1p is more accurate for values close to zero. If you are working with small numbers or the result could be close to 1, np.log1p is a better choice."
   ]
  },
  {
   "cell_type": "markdown",
   "metadata": {},
   "source": [
    "the primary difference between np.log(x) and np.log1p(x) is\n",
    "how they handle small input values close to zero.\n",
    "\n",
    "+ If you want to perform a logarithmic transformation on data that includes values near zero,\n",
    "np.log1p(x) is a safer choice to avoid numerical instability.\n",
    "+ If you are working with strictly positive data and do not expect values close to zero,\n",
    "np.log(x) can be used. "
   ]
  },
  {
   "cell_type": "code",
   "execution_count": 22,
   "metadata": {},
   "outputs": [],
   "source": [
    "dataset_logp = dataset[['loc', 'branchCount']].apply(np.log)"
   ]
  },
  {
   "cell_type": "code",
   "execution_count": 23,
   "metadata": {},
   "outputs": [],
   "source": [
    "dataset_logp['defects'] = dataset['defects'] "
   ]
  },
  {
   "cell_type": "markdown",
   "metadata": {},
   "source": [
    "# Q10"
   ]
  },
  {
   "cell_type": "markdown",
   "metadata": {},
   "source": [
    " Compare their distribution before and after the log-trasform."
   ]
  },
  {
   "cell_type": "markdown",
   "metadata": {},
   "source": [
    "The exponential distribution is right-skewed with a long right tail,\n",
    "\n",
    "while the normal distribution is symmetric and bell-shaped."
   ]
  },
  {
   "cell_type": "code",
   "execution_count": 24,
   "metadata": {},
   "outputs": [
    {
     "data": {
      "image/png": "[encoded data removed]",
      "text/plain": [
       "<Figure size 1000x400 with 2 Axes>"
      ]
     },
     "metadata": {},
     "output_type": "display_data"
    }
   ],
   "source": [
    "plt.figure(figsize=(10,4))\n",
    "plt.subplot(1, 2, 1)\n",
    "hist_loc, bins_loc, _ = plt.hist(dataset_log1p['loc'], bins=100, color='blue')\n",
    "plt.title('Histogram of loc')\n",
    "plt.xlabel('Values')\n",
    "plt.ylabel('Frequency')\n",
    "\n",
    "plt.subplot(1, 2, 2)\n",
    "hist_branchCount, bins_branchCount, _ = plt.hist(dataset_log1p['branchCount'], bins=100, color='green')\n",
    "plt.title('Histogram of branchCount')\n",
    "plt.xlabel('Values')\n",
    "plt.ylabel('Frequency')\n",
    "\n",
    "plt.tight_layout()\n",
    "plt.show()"
   ]
  },
  {
   "cell_type": "code",
   "execution_count": 25,
   "metadata": {},
   "outputs": [],
   "source": [
    "dataset = dataset_log1p"
   ]
  },
  {
   "cell_type": "markdown",
   "metadata": {},
   "source": [
    "# Q11"
   ]
  },
  {
   "cell_type": "code",
   "execution_count": 26,
   "metadata": {},
   "outputs": [],
   "source": [
    "train_set = dataset.iloc[0:350]"
   ]
  },
  {
   "cell_type": "code",
   "execution_count": 27,
   "metadata": {},
   "outputs": [],
   "source": [
    "test_set = dataset.iloc[350:400]"
   ]
  },
  {
   "cell_type": "markdown",
   "metadata": {},
   "source": [
    "# Q12"
   ]
  },
  {
   "cell_type": "code",
   "execution_count": 28,
   "metadata": {},
   "outputs": [],
   "source": [
    "x_train, y_train = train_set[['loc','branchCount']] , train_set['defects']"
   ]
  },
  {
   "cell_type": "code",
   "execution_count": 29,
   "metadata": {},
   "outputs": [],
   "source": [
    "x_test, y_test = test_set[['loc','branchCount']] , test_set['defects']"
   ]
  },
  {
   "cell_type": "markdown",
   "metadata": {},
   "source": [
    "# Q13"
   ]
  },
  {
   "cell_type": "code",
   "execution_count": 30,
   "metadata": {},
   "outputs": [
    {
     "data": {
      "image/png": "[encoded data removed]",
      "text/plain": [
       "<Figure size 640x480 with 1 Axes>"
      ]
     },
     "metadata": {},
     "output_type": "display_data"
    }
   ],
   "source": [
    "plt.scatter(x_train[y_train == 0]['loc'], x_train[y_train == 0]['branchCount'], c='g', label='Healthy (Train)')\n",
    "plt.scatter(x_train[y_train == 1]['loc'], x_train[y_train == 1]['branchCount'], c='y', label='Defective (Train)')\n",
    "plt.xlabel('loc')\n",
    "plt.ylabel('branchCount')\n",
    "plt.legend(loc='best')\n",
    "plt.title('Scatter Plot of Training Samples')\n",
    "plt.show()"
   ]
  },
  {
   "cell_type": "code",
   "execution_count": 31,
   "metadata": {},
   "outputs": [
    {
     "data": {
      "image/png": "[encoded data removed]",
      "text/plain": [
       "<Figure size 640x480 with 1 Axes>"
      ]
     },
     "metadata": {},
     "output_type": "display_data"
    }
   ],
   "source": [
    "plt.scatter(x_test[y_test == 0]['loc'], x_test[y_test == 0]['branchCount'], c='g', marker='x', label='Healthy (Test)')\n",
    "plt.scatter(x_test[y_test == 1]['loc'], x_test[y_test == 1]['branchCount'], c='y', marker='x', label='Defective (Test)')\n",
    "plt.xlabel('loc')\n",
    "plt.ylabel('branchCount')\n",
    "plt.legend(loc='best')\n",
    "plt.title('Scatter Plot of Test Samples')\n",
    "plt.show()"
   ]
  },
  {
   "cell_type": "markdown",
   "metadata": {},
   "source": [
    "# Q14"
   ]
  },
  {
   "cell_type": "markdown",
   "metadata": {},
   "source": [
    "Looking at your scatter plot, are defective and healthy samples well separated?\n",
    "NO"
   ]
  },
  {
   "cell_type": "markdown",
   "metadata": {},
   "source": [
    "# Creating our model: logistic regression"
   ]
  },
  {
   "cell_type": "markdown",
   "metadata": {},
   "source": [
    "+ dichotomous variable \n",
    "\n",
    "+ Estimate the probability of occurence"
   ]
  },
  {
   "cell_type": "markdown",
   "metadata": {},
   "source": [
    "Logistic equation:\n",
    " It's an \"S\"-shaped curve that maps any real-valued number to a value between 0 and 1. \n",
    "    $$ \\text{Sigmoid}(z) = \\frac{1}{1 + e^{-z}} $$\n",
    "    "
   ]
  },
  {
   "cell_type": "markdown",
   "metadata": {},
   "source": [
    "$$ \\text z = \\beta_0 + \\beta_1 x_1 + \\beta_2 x_2 + \\ldots + \\beta_n x_n $$"
   ]
  },
  {
   "cell_type": "markdown",
   "metadata": {},
   "source": [
    "z is the input to the function, which is a linear combination of features and model "
   ]
  },
  {
   "cell_type": "markdown",
   "metadata": {},
   "source": [
    "the likelihood function helps us find the optimal values of the model's parameters (coefficients) that best explain the observed data. we should __Maximize__ likelihood function: "
   ]
  },
  {
   "cell_type": "markdown",
   "metadata": {},
   "source": [
    "$$ \\text L(\\beta) = \\prod_{i=1}^{n} \\left( P(y_i = 1) \\right)^{y_i} \\left(1 - P(y_i = 1)\\right)^{1 - y_i} $$\n"
   ]
  },
  {
   "cell_type": "markdown",
   "metadata": {},
   "source": [
    "$$ L(\\beta) = \\sum_{i=1}^{n} [y_i \\log(p_i) + (1 - y_i) \\log(1 - p_i)] $$"
   ]
  },
  {
   "cell_type": "markdown",
   "metadata": {},
   "source": [
    "$$ \\text{Logistic Loss (Cross-Entropy Loss)} = -\\frac{1}{m} \\sum_{i=1}^{m} \\left( y^{(i)} \\log(\\hat{y}^{(i)}) + (1 - y^{(i)}) \\log(1 - \\hat{y}^{(i)}) \\right) $$\n"
   ]
  },
  {
   "cell_type": "markdown",
   "metadata": {},
   "source": [
    "$$ \\text{Log-logistic loss}(\\beta) = \\frac{1}{m} \\sum_{i=1}^{m} \\log(1 + \\exp(-y_i \\cdot \\beta \\cdot x_i)) \\text{ which is not important.}$$\n"
   ]
  },
  {
   "cell_type": "markdown",
   "metadata": {},
   "source": [
    "the logistic loss function is a negative log-likelihood function"
   ]
  },
  {
   "cell_type": "markdown",
   "metadata": {},
   "source": [
    "$$ \\hat{y} \\text { is the value of p for a given data point, which is the model's estimate of the probability that the target variable is equal to 1.} $$ "
   ]
  },
  {
   "cell_type": "markdown",
   "metadata": {},
   "source": [
    "$$  p(y=1) = \\frac{1}{1 + e^{-(\\beta_0 + \\beta_1 x_1 + \\beta_2 x_2 + \\ldots + \\beta_n x_n)}} $$"
   ]
  },
  {
   "cell_type": "markdown",
   "metadata": {},
   "source": [
    "the goal is to __Minimize__ the Logistic Loss (Cross-Entropy Loss) function. "
   ]
  },
  {
   "cell_type": "markdown",
   "metadata": {},
   "source": [
    "__Steps for minimizing logistic loss:__\n",
    "   1. Initialize Parameters\n",
    "   2. Define the Logistic Loss Function\n",
    "   3. Compute Gradients\n",
    "   4. Update Parameters"
   ]
  },
  {
   "cell_type": "markdown",
   "metadata": {},
   "source": [
    "We have two independent variables denoted as X1 and X2. So, we have the logistic regression model with coefficients (weights) β0, β1, and β2."
   ]
  },
  {
   "cell_type": "markdown",
   "metadata": {},
   "source": [
    "# Q1"
   ]
  },
  {
   "cell_type": "code",
   "execution_count": 32,
   "metadata": {},
   "outputs": [],
   "source": [
    "x_train = x_train.values"
   ]
  },
  {
   "cell_type": "code",
   "execution_count": 33,
   "metadata": {},
   "outputs": [],
   "source": [
    "x_test = x_test.values"
   ]
  },
  {
   "cell_type": "code",
   "execution_count": 34,
   "metadata": {},
   "outputs": [
    {
     "data": {
      "text/plain": [
       "numpy.ndarray"
      ]
     },
     "execution_count": 34,
     "metadata": {},
     "output_type": "execute_result"
    }
   ],
   "source": [
    "type(x_train)"
   ]
  },
  {
   "cell_type": "markdown",
   "metadata": {},
   "source": [
    "# Q2"
   ]
  },
  {
   "cell_type": "markdown",
   "metadata": {},
   "source": [
    "$$ H(X) = b0 + b1*X1 + b2*X2 $$"
   ]
  },
  {
   "cell_type": "code",
   "execution_count": 35,
   "metadata": {},
   "outputs": [],
   "source": [
    "def hypothesis(b0,b1,b2,x):\n",
    "    z = b0 + b1 * x[:, 0] + b2 * x[:, 1]\n",
    "    return z"
   ]
  },
  {
   "cell_type": "code",
   "execution_count": 36,
   "metadata": {},
   "outputs": [],
   "source": [
    "def sigmoid(z):\n",
    "    return 1 / (1 + np.exp(-z))"
   ]
  },
  {
   "cell_type": "markdown",
   "metadata": {},
   "source": [
    "$$ \\text{Logistic Loss (Cross-Entropy Loss)} = -\\frac{1}{m} \\sum_{i=1}^{m} \\left( y^{(i)} \\log(\\hat{y}^{(i)}) + (1 - y^{(i)}) \\log(1 - \\hat{y}^{(i)}) \\right) $$\n"
   ]
  },
  {
   "cell_type": "code",
   "execution_count": 37,
   "metadata": {},
   "outputs": [],
   "source": [
    "def logistic_loss(y,h):\n",
    "    cost = -1/m * np.sum(y * np.log(h) + (1 - y) * np.log(1 - h))\n",
    "    return cost"
   ]
  },
  {
   "cell_type": "markdown",
   "metadata": {},
   "source": [
    " The key idea is to find the values of β that minimize the cost function,\n",
    " \n",
    " so the negative sign is implicit in the optimization process.\n",
    " \n",
    " That's why you don't see the negative sign in the gradient formulas."
   ]
  },
  {
   "cell_type": "markdown",
   "metadata": {},
   "source": [
    "$$ \\frac{\\partial \\text {Logistic loss}(\\beta)}{\\partial \\beta_i} = -\\frac{1}{m}\\sum_{i=1}^m \\left(\\hat{y}_i - y_i\\right) \\cdot x_i^{(i)} $$\n"
   ]
  },
  {
   "cell_type": "markdown",
   "metadata": {},
   "source": [
    "___Functionality:___\n",
    "\n",
    "First, we set the number of iterations to 100. This is how many times we'll update our model's parameters to minimize the cost function. We initialize empty lists called 'cost_history' and 'result', where we'll store the history of our cost function and the final results, respectively.\n",
    "\n",
    "Then we get the length of 'y_train' and store it in the variable 'm'. This gives us the number of samples we have.\n",
    "\n",
    "Now, we run a for loop to experiment with different learning rates. These range from 0.01 to 0.1, and we calculate them by dividing 'lr' by 100.0.\n",
    "\n",
    "Inside this loop, we set initial values for our coefficients 'b0', 'b1', and 'b2'. These coefficients will be tuned during the gradient descent process. We also calculate the number of iterations we'll go through based on our chosen learning rate, storing this in 'num_iterations'.\n",
    "\n",
    "We then initialize another empty list called 'cost_values'. This is where we'll store the cost at each iteration.\n",
    "\n",
    "First, we calculate our initial prediction and its cost. We use the 'hypothesis' function to get our initial predicted probabilities, and then we use the 'sigmoid' function to transform these into probabilities. Then we use these to get our initial cost through the 'logistic_loss' function, storing this initial cost in 'cost_values'.\n",
    "\n",
    "Now we jump into another for loop for the actual gradient descent. Each iteration does the following:\n",
    "\n",
    "We calculate the predicted probabilities using our current values for 'b0', 'b1', and 'b2'.\n",
    "We then calculate the gradients of our cost function with respect to each of these variables. These gradients tell us the direction in which we should update our coefficients to minimize the cost.\n",
    "Next, we update each coefficient by subtracting the product of its gradient and our learning rate. This is the actual \"descent\" step in gradient descent.\n",
    "After updating, we calculate the new cost and append it to 'cost_values'.\n",
    "\n",
    "Once all iterations for a given learning rate are done, we append our cost history for that learning rate to 'cost_history'. We also append the final 'b0', 'b1', 'b2', learning rate, number of iterations, and final cost to our 'result' list."
   ]
  },
  {
   "cell_type": "code",
   "execution_count": 38,
   "metadata": {},
   "outputs": [],
   "source": [
    "iterations = 100\n",
    "cost_history = []\n",
    "result = []\n",
    "m = len(y_train)\n",
    "for lr in range(1, 11):\n",
    "    b0 = 0.1\n",
    "    b1 = 0.2\n",
    "    b2 = 0.3\n",
    "    learning_rate = lr / 100.0\n",
    "    num_iterations = int(iterations / learning_rate)\n",
    "    cost_values = []\n",
    "    \n",
    "    z = hypothesis(b0,b1,b2,x_train)\n",
    "    predicted_probabilities = sigmoid(z)\n",
    "    cost_first = logistic_loss(y_train, predicted_probabilities)\n",
    "    cost_values.append(cost_first)\n",
    "    \n",
    "    for i in range(num_iterations):\n",
    "        z = hypothesis(b0,b1,b2,x_train)\n",
    "        predicted_probabilities = sigmoid(z)\n",
    "\n",
    "        gradient0 = np.sum(predicted_probabilities - y_train) / m\n",
    "        gradient1 = np.sum((predicted_probabilities - y_train) * x_train[:, 0]) / m\n",
    "        gradient2 = np.sum((predicted_probabilities - y_train) * x_train[:, 1]) / m\n",
    "\n",
    "        b0 -= learning_rate * gradient0\n",
    "        b1 -= learning_rate * gradient1\n",
    "        b2 -= learning_rate * gradient2\n",
    "\n",
    "        z = hypothesis(b0,b1,b2,x_train)\n",
    "        predicted_probabilities = sigmoid(z)\n",
    "        cost = logistic_loss(y_train, predicted_probabilities)\n",
    "        cost_values.append(cost)\n",
    "        \n",
    "    cost_history.append(cost_values)\n",
    "    result.append([b0,b1,b2,learning_rate,num_iterations,cost])"
   ]
  },
  {
   "cell_type": "markdown",
   "metadata": {},
   "source": [
    "# Q3"
   ]
  },
  {
   "cell_type": "markdown",
   "metadata": {},
   "source": [
    "This function gets the cost history and the requested execution of code, then plots the cost at that time."
   ]
  },
  {
   "cell_type": "code",
   "execution_count": 39,
   "metadata": {},
   "outputs": [],
   "source": [
    "def plot_iterations_cost(cost_history,time):\n",
    "    plt.figure()\n",
    "    plt.plot(range(1, len(cost_history[time-1]) + 1), cost_history[time-1])\n",
    "    plt.xlabel('Iterations')\n",
    "    plt.ylabel('Cost')\n",
    "    plt.title('Cost Function Over Iterations')\n",
    "    plt.show()"
   ]
  },
  {
   "cell_type": "code",
   "execution_count": 40,
   "metadata": {},
   "outputs": [
    {
     "data": {
      "image/png": "[encoded data removed]",
      "text/plain": [
       "<Figure size 640x480 with 1 Axes>"
      ]
     },
     "metadata": {},
     "output_type": "display_data"
    }
   ],
   "source": [
    "plot_iterations_cost(cost_history,1)"
   ]
  },
  {
   "cell_type": "markdown",
   "metadata": {},
   "source": [
    "# Q4"
   ]
  },
  {
   "cell_type": "markdown",
   "metadata": {},
   "source": [
    "Q: Try different learning rates and different number of iterations. What do you infer from this experiment?"
   ]
  },
  {
   "cell_type": "markdown",
   "metadata": {},
   "source": [
    "A: The reason logistic loss doesn't behave the same as Mean Squared Error (MSE) for linear regression when testing different learning rates and iterations is because they represent different loss functions and optimization processes, and the nature of the problems they solve is different.\n",
    "\n",
    "Here's why they differ:\n",
    "\n",
    "1. **Different Loss Functions**: Logistic loss, often referred to as cross-entropy loss, is used for logistic regression, which is a classification problem. It measures the error in class probability predictions. On the other hand, MSE is used for linear regression, which is a regression problem. It measures the error in continuous numeric predictions.\n",
    "\n",
    "2. **Non-Convex Nature**: The logistic loss is typically non-convex, meaning it has multiple local minima, making it more sensitive to the choice of learning rate and initial conditions. Linear regression with MSE, on the other hand, often has a unique global minimum, so the choice of learning rate and initial conditions is less critical.\n",
    "\n",
    "3. **Classification vs. Regression**: Logistic regression deals with classification problems, which are fundamentally different from regression problems. In classification, the goal is to predict class probabilities and make discrete decisions (e.g., binary classification). In regression, the goal is to predict continuous numeric values. Different loss functions are used to account for these differences.\n",
    "\n",
    "4. **Convergence Behavior**: Logistic regression with gradient descent tends to __converge more slowly__ and requires more care in setting hyperparameters due to the non-convex nature of the logistic loss. Linear regression with MSE often converges faster and is more forgiving in terms of hyperparameter choices.\n",
    "\n",
    "In logistic regression, you often need to consider additional techniques such as proper initialization, regularization, and different optimization algorithms like stochastic gradient descent (SGD) to find a good solution. Therefore, it's expected that logistic loss behaves differently from MSE when testing different learning rates and iterations. The choice of hyperparameters is often more critical for logistic regression, and tuning them may be required to achieve the best performance."
   ]
  },
  {
   "cell_type": "code",
   "execution_count": 41,
   "metadata": {
    "scrolled": false
   },
   "outputs": [
    {
     "name": "stdout",
     "output_type": "stream",
     "text": [
      "+----------+----------+----------+-----------------+-------------+-----------------+\n",
      "|       b0 |       b1 |       b2 |   learning rate |   iteration |   logistic loss |\n",
      "+==========+==========+==========+=================+=============+=================+\n",
      "| -2.15212 | 0.335412 | 0.228806 |            0.01 |       10000 |        0.625231 |\n",
      "+----------+----------+----------+-----------------+-------------+-----------------+\n",
      "| -2.15218 | 0.335432 |   0.2288 |            0.02 |        5000 |        0.625231 |\n",
      "+----------+----------+----------+-----------------+-------------+-----------------+\n",
      "| -2.15212 | 0.335412 | 0.228807 |            0.03 |        3333 |        0.625231 |\n",
      "+----------+----------+----------+-----------------+-------------+-----------------+\n",
      "| -2.15231 | 0.335473 | 0.228788 |            0.04 |        2500 |        0.625229 |\n",
      "+----------+----------+----------+-----------------+-------------+-----------------+\n",
      "| -2.15237 | 0.335494 | 0.228783 |            0.05 |        2000 |        0.625228 |\n",
      "+----------+----------+----------+-----------------+-------------+-----------------+\n",
      "| -2.15194 | 0.335351 | 0.228829 |            0.06 |        1666 |        0.625234 |\n",
      "+----------+----------+----------+-----------------+-------------+-----------------+\n",
      "| -2.15201 | 0.335372 | 0.228823 |            0.07 |        1428 |        0.625233 |\n",
      "+----------+----------+----------+-----------------+-------------+-----------------+\n",
      "| -2.15257 | 0.335557 | 0.228765 |            0.08 |        1250 |        0.625225 |\n",
      "+----------+----------+----------+-----------------+-------------+-----------------+\n",
      "| -2.15251 | 0.335537 | 0.228772 |            0.09 |        1111 |        0.625226 |\n",
      "+----------+----------+----------+-----------------+-------------+-----------------+\n",
      "| -2.15271 | 0.335599 | 0.228753 |             0.1 |        1000 |        0.625223 |\n",
      "+----------+----------+----------+-----------------+-------------+-----------------+\n"
     ]
    }
   ],
   "source": [
    "headers = [\"b0\", \"b1\",\"b2\", \"learning rate\",\"iteration\",\"logistic loss\"]\n",
    "print(tabulate(result, headers, tablefmt=\"grid\", numalign=\"right\", stralign=\"right\"))"
   ]
  },
  {
   "cell_type": "code",
   "execution_count": 42,
   "metadata": {},
   "outputs": [
    {
     "data": {
      "text/plain": [
       "(-2.1527058753765838, 0.3355989667031475, 0.2287529547562268)"
      ]
     },
     "execution_count": 42,
     "metadata": {},
     "output_type": "execute_result"
    }
   ],
   "source": [
    "b0,b1,b2"
   ]
  },
  {
   "cell_type": "markdown",
   "metadata": {},
   "source": [
    "# Q6"
   ]
  },
  {
   "cell_type": "code",
   "execution_count": 43,
   "metadata": {},
   "outputs": [],
   "source": [
    "def predict(b0,b1,b2,x):\n",
    "    z = hypothesis(b0,b1,b2,x)\n",
    "    y_pred_prob = sigmoid(z)\n",
    "    return y_pred_prob"
   ]
  },
  {
   "cell_type": "code",
   "execution_count": 44,
   "metadata": {},
   "outputs": [
    {
     "name": "stdout",
     "output_type": "stream",
     "text": [
      "Test Accuracy: 0.7\n"
     ]
    }
   ],
   "source": [
    "def accuracy(y_true, y_pred):\n",
    "    correct = np.sum(y_true == y_pred)\n",
    "    total = len(y_true)\n",
    "    return correct / total\n",
    "\n",
    "y_test_pred_prob = predict(b0,b1,b2,x_test)\n",
    "y_test_pred = (y_test_pred_prob >= 0.5).astype(int)\n",
    "test_accuracy = accuracy(y_test, y_test_pred)\n",
    "print(\"Test Accuracy:\", test_accuracy)"
   ]
  },
  {
   "cell_type": "code",
   "execution_count": 45,
   "metadata": {},
   "outputs": [
    {
     "name": "stdout",
     "output_type": "stream",
     "text": [
      "Train Accuracy: 0.6657142857142857\n"
     ]
    }
   ],
   "source": [
    "y_train_pred_prob = predict(b0,b1,b2,x_train)\n",
    "y_train_pred = (y_train_pred_prob >= 0.5).astype(int)\n",
    "train_accuracy = accuracy(y_train, y_train_pred)\n",
    "print(\"Train Accuracy:\", train_accuracy)"
   ]
  },
  {
   "cell_type": "markdown",
   "metadata": {},
   "source": [
    "# Q7"
   ]
  },
  {
   "cell_type": "code",
   "execution_count": 50,
   "metadata": {},
   "outputs": [
    {
     "name": "stdout",
     "output_type": "stream",
     "text": [
      "decision boundary formula:\n",
      "h(x) =-2.1527058753765838 + 0.3355989667031475 * x1 + 0.2287529547562268 * x2\n"
     ]
    }
   ],
   "source": [
    "print('decision boundary formula:')\n",
    "print( 'h(x) ='+str(b0) + ' + ' + str(b1) + ' * x1' +  ' + ' +str(b2) + ' * x2')"
   ]
  },
  {
   "cell_type": "code",
   "execution_count": 51,
   "metadata": {},
   "outputs": [],
   "source": [
    "def decision_boundary(b,x):\n",
    "    return - (b[0] + np.dot(b[1], x)) / b[2]"
   ]
  },
  {
   "cell_type": "code",
   "execution_count": 63,
   "metadata": {},
   "outputs": [
    {
     "name": "stdout",
     "output_type": "stream",
     "text": [
      "Decision boundary formula:\n",
      "x2 = -(-2.1527058753765838 + 0.3355989667031475 * x1) / (0.2287529547562268)\n"
     ]
    }
   ],
   "source": [
    "print('Decision boundary formula:')\n",
    "print('x2 = -(' + str(b0) + ' + ' + str(b1) + ' * x1) / (' + str(b2) + ')')"
   ]
  },
  {
   "cell_type": "code",
   "execution_count": 65,
   "metadata": {},
   "outputs": [
    {
     "data": {
      "image/png": "[encoded data removed]",
      "text/plain": [
       "<Figure size 640x480 with 1 Axes>"
      ]
     },
     "metadata": {},
     "output_type": "display_data"
    }
   ],
   "source": [
    "x1 = np.linspace(2, 6, len(x_train))\n",
    "x2 = decision_boundary([b0,b1,b2],x1)\n",
    "plt.plot(x1, x2, label='Decision Boundary', color='green')\n",
    "plt.xlabel('loc')\n",
    "plt.ylabel('branchCount')\n",
    "plt.legend()\n",
    "plt.grid(True)\n",
    "plt.show()"
   ]
  },
  {
   "cell_type": "markdown",
   "metadata": {},
   "source": [
    "# Q8"
   ]
  },
  {
   "cell_type": "code",
   "execution_count": 47,
   "metadata": {},
   "outputs": [],
   "source": [
    "def plot_decision_Boundary(b,x,y,kind):\n",
    "    plt.figure(figsize=(8, 6))\n",
    "\n",
    "    plt.scatter(x[y == 0][:, 0], x[y == 0][:, 1], color='blue', label=f'Class 0 ({kind})')\n",
    "    plt.scatter(x[y == 1][:, 0], x[y == 1][:, 1], color='cyan', label=f'Class 1 ({kind})')\n",
    "\n",
    "    x_min, x_max = x[:, 0].min() - 0.1, x[:, 0].max() + 0.1\n",
    "    y_min, y_max = x[:, 1].min() - 0.1, x[:, 1].max() + 0.1\n",
    "    xx, yy = np.meshgrid(np.linspace(x_min, x_max, 100), np.linspace(y_min, y_max, 100))\n",
    "    X_grid = np.c_[xx.ravel(), yy.ravel()]\n",
    "    probs = predict(b[0],b[1],b[2],X_grid).reshape(xx.shape)\n",
    "\n",
    "    plt.contour(xx, yy, probs, levels=[0.5], linewidths=2, colors='green')\n",
    "\n",
    "    plt.xlabel('loc')\n",
    "    plt.ylabel('branchCount')\n",
    "    plt.legend(loc='best')\n",
    "    plt.title('Logistic Regression Decision Boundary')\n",
    "    plt.show()"
   ]
  },
  {
   "cell_type": "code",
   "execution_count": 48,
   "metadata": {},
   "outputs": [
    {
     "data": {
      "image/png": "[encoded data removed]",
      "text/plain": [
       "<Figure size 800x600 with 1 Axes>"
      ]
     },
     "metadata": {},
     "output_type": "display_data"
    }
   ],
   "source": [
    "plot_decision_Boundary([b0,b1,b2],x_train,y_train,'Train')"
   ]
  },
  {
   "cell_type": "code",
   "execution_count": 49,
   "metadata": {},
   "outputs": [
    {
     "data": {
      "image/png": "[encoded data removed]",
      "text/plain": [
       "<Figure size 800x600 with 1 Axes>"
      ]
     },
     "metadata": {},
     "output_type": "display_data"
    }
   ],
   "source": [
    "plot_decision_Boundary([b0,b1,b2],x_test,y_test,'Test')"
   ]
  },
  {
   "cell_type": "markdown",
   "metadata": {},
   "source": [
    "# Closed form solution"
   ]
  },
  {
   "cell_type": "markdown",
   "metadata": {},
   "source": [
    "Unfortunately, there is no closed-form solution for logistic regression like there is for linear regression."
   ]
  },
  {
   "cell_type": "markdown",
   "metadata": {},
   "source": [
    "Logistic regression doesn't have a closed-form solution for its parameters (coefficients) like linear regression because of ___its non-linear nature___."
   ]
  },
  {
   "cell_type": "markdown",
   "metadata": {},
   "source": [
    "The logistic function introduces non-linearity into the model, and as a result, the cost function for logistic regression is not convex. It's a non-convex function with multiple local minima."
   ]
  },
  {
   "cell_type": "code",
   "execution_count": null,
   "metadata": {},
   "outputs": [],
   "source": []
  }
 ],
 "metadata": {
  "kernelspec": {
   "display_name": "Python 3 (ipykernel)",
   "language": "python",
   "name": "python3"
  },
  "language_info": {
   "codemirror_mode": {
    "name": "ipython",
    "version": 3
   },
   "file_extension": ".py",
   "mimetype": "text/x-python",
   "name": "python",
   "nbconvert_exporter": "python",
   "pygments_lexer": "ipython3",
   "version": "3.11.5"
  }
 },
 "nbformat": 4,
 "nbformat_minor": 1
}
