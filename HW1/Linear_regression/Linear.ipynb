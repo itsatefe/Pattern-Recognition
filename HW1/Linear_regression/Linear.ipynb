{
 "cells": [
  {
   "cell_type": "code",
   "execution_count": 31,
   "metadata": {},
   "outputs": [],
   "source": [
    "import pandas as pd\n",
    "import numpy as np\n",
    "import matplotlib.pyplot as plt\n",
    "import os"
   ]
  },
  {
   "cell_type": "markdown",
   "metadata": {},
   "source": [
    "# Q1"
   ]
  },
  {
   "cell_type": "code",
   "execution_count": 2,
   "metadata": {},
   "outputs": [],
   "source": [
    "def load_data(file_name):\n",
    "    current_directory = os.getcwd()\n",
    "    parent_directory = os.path.abspath(os.path.join(current_directory, '..'))\n",
    "    file_path = os.path.join(parent_directory, file_name)\n",
    "    dataset = pd.read_csv(file_path)\n",
    "    return dataset"
   ]
  },
  {
   "cell_type": "code",
   "execution_count": 3,
   "metadata": {},
   "outputs": [],
   "source": [
    "dataset = load_data('climate_change.csv')"
   ]
  },
  {
   "cell_type": "markdown",
   "metadata": {},
   "source": [
    "# Q2"
   ]
  },
  {
   "cell_type": "code",
   "execution_count": 4,
   "metadata": {},
   "outputs": [
    {
     "data": {
      "text/html": [
       "<div>\n",
       "<style scoped>\n",
       "    .dataframe tbody tr th:only-of-type {\n",
       "        vertical-align: middle;\n",
       "    }\n",
       "\n",
       "    .dataframe tbody tr th {\n",
       "        vertical-align: top;\n",
       "    }\n",
       "\n",
       "    .dataframe thead th {\n",
       "        text-align: right;\n",
       "    }\n",
       "</style>\n",
       "<table border=\"1\" class=\"dataframe\">\n",
       "  <thead>\n",
       "    <tr style=\"text-align: right;\">\n",
       "      <th></th>\n",
       "      <th>Year</th>\n",
       "      <th>Month</th>\n",
       "      <th>MEI</th>\n",
       "      <th>CO2</th>\n",
       "      <th>CH4</th>\n",
       "      <th>N2O</th>\n",
       "      <th>CFC-11</th>\n",
       "      <th>CFC-12</th>\n",
       "      <th>TSI</th>\n",
       "      <th>Aerosols</th>\n",
       "      <th>Temp</th>\n",
       "    </tr>\n",
       "  </thead>\n",
       "  <tbody>\n",
       "    <tr>\n",
       "      <th>0</th>\n",
       "      <td>1983</td>\n",
       "      <td>5</td>\n",
       "      <td>2.556</td>\n",
       "      <td>345.96</td>\n",
       "      <td>1638.59</td>\n",
       "      <td>303.677</td>\n",
       "      <td>191.324</td>\n",
       "      <td>350.113</td>\n",
       "      <td>1366.1024</td>\n",
       "      <td>0.0863</td>\n",
       "      <td>0.109</td>\n",
       "    </tr>\n",
       "    <tr>\n",
       "      <th>1</th>\n",
       "      <td>1983</td>\n",
       "      <td>6</td>\n",
       "      <td>2.167</td>\n",
       "      <td>345.52</td>\n",
       "      <td>1633.71</td>\n",
       "      <td>303.746</td>\n",
       "      <td>192.057</td>\n",
       "      <td>351.848</td>\n",
       "      <td>1366.1208</td>\n",
       "      <td>0.0794</td>\n",
       "      <td>0.118</td>\n",
       "    </tr>\n",
       "    <tr>\n",
       "      <th>2</th>\n",
       "      <td>1983</td>\n",
       "      <td>7</td>\n",
       "      <td>1.741</td>\n",
       "      <td>344.15</td>\n",
       "      <td>1633.22</td>\n",
       "      <td>303.795</td>\n",
       "      <td>192.818</td>\n",
       "      <td>353.725</td>\n",
       "      <td>1366.2850</td>\n",
       "      <td>0.0731</td>\n",
       "      <td>0.137</td>\n",
       "    </tr>\n",
       "    <tr>\n",
       "      <th>3</th>\n",
       "      <td>1983</td>\n",
       "      <td>8</td>\n",
       "      <td>1.130</td>\n",
       "      <td>342.25</td>\n",
       "      <td>1631.35</td>\n",
       "      <td>303.839</td>\n",
       "      <td>193.602</td>\n",
       "      <td>355.633</td>\n",
       "      <td>1366.4202</td>\n",
       "      <td>0.0673</td>\n",
       "      <td>0.176</td>\n",
       "    </tr>\n",
       "    <tr>\n",
       "      <th>4</th>\n",
       "      <td>1983</td>\n",
       "      <td>9</td>\n",
       "      <td>0.428</td>\n",
       "      <td>340.17</td>\n",
       "      <td>1648.40</td>\n",
       "      <td>303.901</td>\n",
       "      <td>194.392</td>\n",
       "      <td>357.465</td>\n",
       "      <td>1366.2335</td>\n",
       "      <td>0.0619</td>\n",
       "      <td>0.149</td>\n",
       "    </tr>\n",
       "    <tr>\n",
       "      <th>5</th>\n",
       "      <td>1983</td>\n",
       "      <td>10</td>\n",
       "      <td>0.002</td>\n",
       "      <td>340.30</td>\n",
       "      <td>1663.79</td>\n",
       "      <td>303.970</td>\n",
       "      <td>195.171</td>\n",
       "      <td>359.174</td>\n",
       "      <td>1366.0589</td>\n",
       "      <td>0.0569</td>\n",
       "      <td>0.093</td>\n",
       "    </tr>\n",
       "    <tr>\n",
       "      <th>6</th>\n",
       "      <td>1983</td>\n",
       "      <td>11</td>\n",
       "      <td>-0.176</td>\n",
       "      <td>341.53</td>\n",
       "      <td>1658.23</td>\n",
       "      <td>304.032</td>\n",
       "      <td>195.921</td>\n",
       "      <td>360.758</td>\n",
       "      <td>1366.1072</td>\n",
       "      <td>0.0524</td>\n",
       "      <td>0.232</td>\n",
       "    </tr>\n",
       "    <tr>\n",
       "      <th>7</th>\n",
       "      <td>1983</td>\n",
       "      <td>12</td>\n",
       "      <td>-0.176</td>\n",
       "      <td>343.07</td>\n",
       "      <td>1654.31</td>\n",
       "      <td>304.082</td>\n",
       "      <td>196.609</td>\n",
       "      <td>362.174</td>\n",
       "      <td>1366.0607</td>\n",
       "      <td>0.0486</td>\n",
       "      <td>0.078</td>\n",
       "    </tr>\n",
       "    <tr>\n",
       "      <th>8</th>\n",
       "      <td>1984</td>\n",
       "      <td>1</td>\n",
       "      <td>-0.339</td>\n",
       "      <td>344.05</td>\n",
       "      <td>1658.98</td>\n",
       "      <td>304.130</td>\n",
       "      <td>197.219</td>\n",
       "      <td>363.359</td>\n",
       "      <td>1365.4261</td>\n",
       "      <td>0.0451</td>\n",
       "      <td>0.089</td>\n",
       "    </tr>\n",
       "    <tr>\n",
       "      <th>9</th>\n",
       "      <td>1984</td>\n",
       "      <td>2</td>\n",
       "      <td>-0.565</td>\n",
       "      <td>344.77</td>\n",
       "      <td>1656.48</td>\n",
       "      <td>304.194</td>\n",
       "      <td>197.759</td>\n",
       "      <td>364.296</td>\n",
       "      <td>1365.6618</td>\n",
       "      <td>0.0416</td>\n",
       "      <td>0.013</td>\n",
       "    </tr>\n",
       "  </tbody>\n",
       "</table>\n",
       "</div>"
      ],
      "text/plain": [
       "   Year  Month    MEI     CO2      CH4      N2O   CFC-11   CFC-12        TSI  \\\n",
       "0  1983      5  2.556  345.96  1638.59  303.677  191.324  350.113  1366.1024   \n",
       "1  1983      6  2.167  345.52  1633.71  303.746  192.057  351.848  1366.1208   \n",
       "2  1983      7  1.741  344.15  1633.22  303.795  192.818  353.725  1366.2850   \n",
       "3  1983      8  1.130  342.25  1631.35  303.839  193.602  355.633  1366.4202   \n",
       "4  1983      9  0.428  340.17  1648.40  303.901  194.392  357.465  1366.2335   \n",
       "5  1983     10  0.002  340.30  1663.79  303.970  195.171  359.174  1366.0589   \n",
       "6  1983     11 -0.176  341.53  1658.23  304.032  195.921  360.758  1366.1072   \n",
       "7  1983     12 -0.176  343.07  1654.31  304.082  196.609  362.174  1366.0607   \n",
       "8  1984      1 -0.339  344.05  1658.98  304.130  197.219  363.359  1365.4261   \n",
       "9  1984      2 -0.565  344.77  1656.48  304.194  197.759  364.296  1365.6618   \n",
       "\n",
       "   Aerosols   Temp  \n",
       "0    0.0863  0.109  \n",
       "1    0.0794  0.118  \n",
       "2    0.0731  0.137  \n",
       "3    0.0673  0.176  \n",
       "4    0.0619  0.149  \n",
       "5    0.0569  0.093  \n",
       "6    0.0524  0.232  \n",
       "7    0.0486  0.078  \n",
       "8    0.0451  0.089  \n",
       "9    0.0416  0.013  "
      ]
     },
     "execution_count": 4,
     "metadata": {},
     "output_type": "execute_result"
    }
   ],
   "source": [
    "dataset.head(10)"
   ]
  },
  {
   "cell_type": "markdown",
   "metadata": {},
   "source": [
    "# Q3"
   ]
  },
  {
   "cell_type": "code",
   "execution_count": 5,
   "metadata": {},
   "outputs": [],
   "source": [
    "num_samples = dataset.shape[0]"
   ]
  },
  {
   "cell_type": "markdown",
   "metadata": {},
   "source": [
    "# Q4"
   ]
  },
  {
   "cell_type": "code",
   "execution_count": 6,
   "metadata": {},
   "outputs": [],
   "source": [
    "description = dataset.describe()"
   ]
  },
  {
   "cell_type": "markdown",
   "metadata": {},
   "source": [
    "# Q5"
   ]
  },
  {
   "cell_type": "code",
   "execution_count": 7,
   "metadata": {},
   "outputs": [],
   "source": [
    "temp_std = description['Temp']['std']"
   ]
  },
  {
   "cell_type": "markdown",
   "metadata": {},
   "source": [
    "# Q6"
   ]
  },
  {
   "cell_type": "code",
   "execution_count": 8,
   "metadata": {},
   "outputs": [
    {
     "name": "stdout",
     "output_type": "stream",
     "text": [
      "Year is positevly correlated with Temp: 0.7557311461415588.\n",
      "Month is negatively correlated with Temp: -0.0980158208115976.\n",
      "MEI is positevly correlated with Temp: 0.13529168433351063.\n",
      "CO2 is positevly correlated with Temp: 0.7485046457380214.\n",
      "CH4 is positevly correlated with Temp: 0.6996965803638932.\n",
      "N2O is positevly correlated with Temp: 0.7432418337360969.\n",
      "CFC-11 is positevly correlated with Temp: 0.3801113416532199.\n",
      "CFC-12 is positevly correlated with Temp: 0.6889441088656744.\n",
      "TSI is positevly correlated with Temp: 0.182185606828757.\n",
      "Aerosols is negatively correlated with Temp: -0.39206944627521423.\n",
      "--------------------------------\n",
      "Year has the highest correlation with Temp.\n",
      "correlation is: 0.7557311461415588\n"
     ]
    }
   ],
   "source": [
    "MAX_col_corr = 0\n",
    "MAX_col_name = []\n",
    "variables = []\n",
    "correlations = []\n",
    "for col_name in dataset.columns:\n",
    "    if col_name == \"Temp\":\n",
    "        continue\n",
    "    correlation = dataset['Temp'].corr(dataset[col_name])\n",
    "    if MAX_col_corr < abs(correlation):\n",
    "        MAX_col_name = []\n",
    "        MAX_col_name.append((col_name,correlation))\n",
    "        MAX_col_corr = abs(correlation)\n",
    "    elif MAX_col_corr == abs(correlation):\n",
    "            MAX_col_name.append((col_name,correlation))\n",
    "    if correlation < 0:\n",
    "        print(f\"{col_name} is negatively correlated with Temp: {correlation}.\")\n",
    "    elif correlation > 0:\n",
    "        print(f\"{col_name} is positevly correlated with Temp: {correlation}.\")\n",
    "    elif correlation == 0:\n",
    "        print(f\"{col_name} and Temp are not correlated.\")\n",
    "    variables.append(col_name)\n",
    "    correlations.append(correlation)\n",
    "    \n",
    "print('--------------------------------')\n",
    "for most_corr in MAX_col_name:  \n",
    "    print(f\"{most_corr[0]} has the highest correlation with Temp.\")\n",
    "print(\"correlation is:\", MAX_col_corr)"
   ]
  },
  {
   "cell_type": "code",
   "execution_count": 9,
   "metadata": {},
   "outputs": [
    {
     "data": {
      "image/png": "[encoded data removed]",
      "text/plain": [
       "<Figure size 1000x600 with 1 Axes>"
      ]
     },
     "metadata": {},
     "output_type": "display_data"
    }
   ],
   "source": [
    "plt.figure(figsize=(10, 6))\n",
    "plt.barh(variables, correlations, color=['green' if corr > 0 else 'red' for corr in correlations])\n",
    " \n",
    "for item in MAX_col_name:\n",
    "    plt.barh(item[0], item[1], color='blue')\n",
    "    plt.text(item[1], item[0], f\"Correlation: {MAX_col_corr}\", va='center', fontsize=12, color='blue')\n",
    "\n",
    "plt.xlabel(\"Correlation\")\n",
    "plt.ylabel(\"Variables\")\n",
    "plt.title(\"Correlation with Temperature\")\n",
    "plt.show()\n"
   ]
  },
  {
   "cell_type": "markdown",
   "metadata": {},
   "source": [
    "# Q7"
   ]
  },
  {
   "cell_type": "code",
   "execution_count": 10,
   "metadata": {},
   "outputs": [
    {
     "data": {
      "image/png": "[encoded data removed]",
      "text/plain": [
       "<Figure size 640x480 with 1 Axes>"
      ]
     },
     "metadata": {},
     "output_type": "display_data"
    }
   ],
   "source": [
    "plt.scatter(dataset['CO2'], dataset['Temp'])\n",
    "plt.xlabel('CO2 Concentration (ppm)')\n",
    "plt.ylabel('Temperature (°C)')\n",
    "plt.title('Scatter Plot of CO2 Concentration vs. Temperature')\n",
    "plt.grid(True)\n",
    "plt.show()"
   ]
  },
  {
   "cell_type": "markdown",
   "metadata": {},
   "source": [
    "# Part 2-2"
   ]
  },
  {
   "cell_type": "markdown",
   "metadata": {},
   "source": [
    "# Q1"
   ]
  },
  {
   "cell_type": "code",
   "execution_count": 11,
   "metadata": {},
   "outputs": [],
   "source": [
    "train_data = dataset[dataset.Year<= 2003]"
   ]
  },
  {
   "cell_type": "code",
   "execution_count": 12,
   "metadata": {},
   "outputs": [],
   "source": [
    "test_data = dataset[dataset.Year > 2003]"
   ]
  },
  {
   "cell_type": "markdown",
   "metadata": {},
   "source": [
    "# Q2 "
   ]
  },
  {
   "cell_type": "code",
   "execution_count": 13,
   "metadata": {},
   "outputs": [],
   "source": [
    "train_num = train_data.shape[0]"
   ]
  },
  {
   "cell_type": "code",
   "execution_count": 14,
   "metadata": {},
   "outputs": [],
   "source": [
    "test_num = test_data.shape[0]"
   ]
  },
  {
   "cell_type": "markdown",
   "metadata": {},
   "source": [
    "# Q3"
   ]
  },
  {
   "cell_type": "code",
   "execution_count": 15,
   "metadata": {},
   "outputs": [],
   "source": [
    "train_data = train_data[['Temp','CO2']]"
   ]
  },
  {
   "cell_type": "code",
   "execution_count": 16,
   "metadata": {},
   "outputs": [],
   "source": [
    "test_data = test_data[['Temp','CO2']]"
   ]
  },
  {
   "cell_type": "markdown",
   "metadata": {},
   "source": [
    "# Q4"
   ]
  },
  {
   "cell_type": "code",
   "execution_count": 17,
   "metadata": {},
   "outputs": [],
   "source": [
    "x_train, y_train = train_data.CO2.values, train_data.Temp.values"
   ]
  },
  {
   "cell_type": "code",
   "execution_count": 18,
   "metadata": {},
   "outputs": [],
   "source": [
    "x_test, y_test = test_data.CO2.values, test_data.Temp.values"
   ]
  },
  {
   "cell_type": "code",
   "execution_count": 19,
   "metadata": {},
   "outputs": [
    {
     "data": {
      "text/plain": [
       "numpy.ndarray"
      ]
     },
     "execution_count": 19,
     "metadata": {},
     "output_type": "execute_result"
    }
   ],
   "source": [
    "type(x_train)"
   ]
  },
  {
   "cell_type": "markdown",
   "metadata": {},
   "source": [
    "# Q5"
   ]
  },
  {
   "cell_type": "markdown",
   "metadata": {},
   "source": [
    "    Mean = 0: To normalize the CO2 values so that they have a mean (average) of 0, you need to subtract the mean of the training set from each CO2 value in both the training and test sets. This centers the data around 0.\n",
    "\n",
    "    Standard Deviation = 1: To normalize the CO2 values so that they have a standard deviation of 1, you need to divide each CO2 value by the standard deviation of the training set. This scales the data to have a standard deviation of 1."
   ]
  },
  {
   "cell_type": "code",
   "execution_count": 20,
   "metadata": {},
   "outputs": [],
   "source": [
    "co2_train_mean = round(x_train.mean(),2)"
   ]
  },
  {
   "cell_type": "code",
   "execution_count": 21,
   "metadata": {},
   "outputs": [],
   "source": [
    "co2_train_std = round(x_train.std(),2)"
   ]
  },
  {
   "cell_type": "code",
   "execution_count": 22,
   "metadata": {},
   "outputs": [],
   "source": [
    "normalized_train_data = [round((item - co2_train_mean) / co2_train_std,2) for item in x_train]\n",
    "normalized_test_data = [round((item - co2_train_mean) / co2_train_std,2) for item in x_test]"
   ]
  },
  {
   "cell_type": "code",
   "execution_count": 23,
   "metadata": {},
   "outputs": [],
   "source": [
    "normalized_train_data = np.array(normalized_train_data, dtype=np.float64)"
   ]
  },
  {
   "cell_type": "markdown",
   "metadata": {},
   "source": [
    "independent variable =  features\n",
    "\n",
    "dependent variable = labels\n",
    "\n",
    "slope = b1\n",
    "\n",
    "intercept = b0"
   ]
  },
  {
   "cell_type": "markdown",
   "metadata": {},
   "source": [
    "# 3 Hypothesis Function"
   ]
  },
  {
   "cell_type": "markdown",
   "metadata": {},
   "source": [
    "H(X) = b0 + b1*X"
   ]
  },
  {
   "cell_type": "code",
   "execution_count": 24,
   "metadata": {},
   "outputs": [],
   "source": [
    "def hypothesis(b0, b1, X):\n",
    "    return b0 + b1 * X"
   ]
  },
  {
   "cell_type": "markdown",
   "metadata": {},
   "source": [
    "# 4 Cost Function"
   ]
  },
  {
   "cell_type": "markdown",
   "metadata": {},
   "source": [
    "$$ \\text{MSE} = \\frac{1}{m} \\sum_{i=1}^{n} ((b_0 + b_1 \\cdot x_i) - y_i)^2 $$\n"
   ]
  },
  {
   "cell_type": "markdown",
   "metadata": {},
   "source": [
    "$$ \\text{MSE} = \\frac{1}{m} \\sum_{i=1}^{n} \\left(h(x_i) - y_i\\right)^2 $$\n"
   ]
  },
  {
   "cell_type": "code",
   "execution_count": 25,
   "metadata": {},
   "outputs": [],
   "source": [
    "def cost_function(b0, b1, X, Y):\n",
    "    m = len(X)\n",
    "    return (1/m) * np.sum((hypothesis(b0, b1, X) - Y) ** 2)"
   ]
  },
  {
   "cell_type": "markdown",
   "metadata": {},
   "source": [
    "# 5 Gradient descent"
   ]
  },
  {
   "cell_type": "markdown",
   "metadata": {},
   "source": [
    "    Batch Gradient Descent: It computes the gradient on the entire dataset before making a parameter update. It can be slow for large datasets.\n",
    "\n",
    "    Stochastic Gradient Descent (SGD): It updates the parameters for each training example, making it faster but potentially noisy in terms of convergence.\n",
    "\n",
    "    Mini-Batch Gradient Descent: It's a compromise between batch and stochastic gradient descent. It updates the parameters using a small random batch of training examples."
   ]
  },
  {
   "cell_type": "markdown",
   "metadata": {},
   "source": [
    "b0 = b0 - (learning_rate * ∂(Cost)/∂(b0))\n",
    "\n",
    "b1 = b1 - (learning_rate * ∂(Cost)/∂(b1))\n"
   ]
  },
  {
   "cell_type": "markdown",
   "metadata": {},
   "source": [
    "In the gradient descent algorithm, the parameters (coefficients) of the model are updated by moving them in the direction that minimizes the cost function. The minus sign is used to ensure that the algorithm moves the parameters in the direction of decreasing the cost. Here's why it's a subtraction:"
   ]
  },
  {
   "cell_type": "markdown",
   "metadata": {},
   "source": [
    "$$ \\frac{d}{db_0} \\text{MSE} = \\frac{1}{m} \\sum_{i=1}^{n} (b_0 + b_1 \\cdot x_i - y_i) $$\n"
   ]
  },
  {
   "cell_type": "markdown",
   "metadata": {},
   "source": [
    "$$ \\frac{d}{db_1} \\text{MSE} = \\frac{1}{m} \\sum_{i=1}^{n} (b_0 + b_1 \\cdot x_i - y_i) \\cdot x_i $$"
   ]
  },
  {
   "cell_type": "markdown",
   "metadata": {},
   "source": [
    "# batch gradient descent"
   ]
  },
  {
   "cell_type": "markdown",
   "metadata": {},
   "source": [
    "    If the learning rate is too large: The model might converge quickly but may overshoot the optimal solution, leading to instability or divergence. In this case, a smaller number of iterations may be needed.\n",
    "\n",
    "    If the learning rate is too small: The model's updates are very small, and it may take a long time to converge to an optimal solution. In this case, a larger number of iterations may be needed."
   ]
  },
  {
   "cell_type": "code",
   "execution_count": 26,
   "metadata": {
    "scrolled": false
   },
   "outputs": [],
   "source": [
    "iterations = 100\n",
    "m = len(normalized_train_data)\n",
    "result = []\n",
    "for lr in range(1, 11):\n",
    "    b0 = 0.2\n",
    "    b1 = 0.2\n",
    "    learning_rate = lr / 10.0\n",
    "    num_iterations = int(iterations / learning_rate)\n",
    "    \n",
    "    for _ in range(num_iterations):\n",
    "        grad_b0 = (1/m) * np.sum(hypothesis(b0, b1, normalized_train_data) - y_train)\n",
    "        grad_b1 = (1/m) * np.sum((hypothesis(b0, b1, normalized_train_data) - y_train) * normalized_train_data)\n",
    "\n",
    "        b0 -= learning_rate * grad_b0\n",
    "        b1 -= learning_rate * grad_b1\n",
    "    \n",
    "    y_test_pred = [round(hypothesis(b0, b1, x), 3) for x in normalized_test_data]\n",
    "    y_train_pred = [round(hypothesis(b0, b1, x), 3) for x in normalized_train_data]\n",
    "  \n",
    "    data = {'x': np.append(normalized_train_data, normalized_test_data),\n",
    "       'y': np.append(y_train,y_test),\n",
    "       'y_pred': np.append(y_train_pred,y_test_pred)}\n",
    "    df = pd.DataFrame(data)\n",
    "    df['Squared_Error'] = (df['y_pred'] - df['y']) ** 2\n",
    "    mse = df['Squared_Error'].mean()\n",
    "    \n",
    "    result.append([b0,b1,learning_rate,num_iterations,mse])"
   ]
  },
  {
   "cell_type": "markdown",
   "metadata": {},
   "source": [
    "# 6 Prediction"
   ]
  },
  {
   "cell_type": "markdown",
   "metadata": {},
   "source": [
    "A lower MSE indicates a better fit of your model to the data, which is generally desirable.\n",
    "A higher MSE suggests that your model's predictions have larger errors when compared to the actual values, which is less desirable."
   ]
  },
  {
   "cell_type": "markdown",
   "metadata": {},
   "source": [
    "The range for the Mean Squared Error (MSE) is theoretically from 0 to positive infinity."
   ]
  },
  {
   "cell_type": "code",
   "execution_count": 27,
   "metadata": {},
   "outputs": [
    {
     "data": {
      "text/plain": [
       "0.016052639610389607"
      ]
     },
     "execution_count": 27,
     "metadata": {},
     "output_type": "execute_result"
    }
   ],
   "source": [
    "mse"
   ]
  },
  {
   "cell_type": "markdown",
   "metadata": {},
   "source": [
    "# regression line"
   ]
  },
  {
   "cell_type": "markdown",
   "metadata": {},
   "source": [
    "y = b0 + b1x"
   ]
  },
  {
   "cell_type": "markdown",
   "metadata": {},
   "source": [
    "y = 0.21889312338791064 + 0.13113492782968783 x"
   ]
  },
  {
   "cell_type": "code",
   "execution_count": 28,
   "metadata": {},
   "outputs": [],
   "source": [
    "regression_line = b1 * normalized_train_data + b0"
   ]
  },
  {
   "cell_type": "markdown",
   "metadata": {},
   "source": [
    "# plot regression"
   ]
  },
  {
   "cell_type": "code",
   "execution_count": 29,
   "metadata": {
    "scrolled": true
   },
   "outputs": [
    {
     "data": {
      "image/png": "[encoded data removed]",
      "text/plain": [
       "<Figure size 640x480 with 1 Axes>"
      ]
     },
     "metadata": {},
     "output_type": "display_data"
    }
   ],
   "source": [
    "plt.scatter(normalized_train_data, y_train, color='blue', label='Training Set')\n",
    "plt.plot(normalized_train_data, regression_line, color='green', linestyle='--', label='Regression Line')\n",
    "plt.scatter(normalized_test_data, y_test, color='red', label='Test Set')\n",
    "plt.xlabel('X')\n",
    "plt.ylabel('y')\n",
    "plt.legend()\n",
    "plt.show()"
   ]
  },
  {
   "cell_type": "markdown",
   "metadata": {},
   "source": [
    "# results"
   ]
  },
  {
   "cell_type": "code",
   "execution_count": 30,
   "metadata": {},
   "outputs": [
    {
     "name": "stdout",
     "output_type": "stream",
     "text": [
      "+----------+----------+-----------------+-------------+-----------+\n",
      "|       b0 |       b1 |   learning rate |   iteration |       mse |\n",
      "+==========+==========+=================+=============+===========+\n",
      "| 0.218903 | 0.131141 |             0.1 |        1000 | 0.0160526 |\n",
      "+----------+----------+-----------------+-------------+-----------+\n",
      "| 0.218903 | 0.131141 |             0.2 |         500 | 0.0160526 |\n",
      "+----------+----------+-----------------+-------------+-----------+\n",
      "| 0.218903 | 0.131141 |             0.3 |         333 | 0.0160526 |\n",
      "+----------+----------+-----------------+-------------+-----------+\n",
      "| 0.218903 | 0.131141 |             0.4 |         250 | 0.0160526 |\n",
      "+----------+----------+-----------------+-------------+-----------+\n",
      "| 0.218903 | 0.131141 |             0.5 |         200 | 0.0160526 |\n",
      "+----------+----------+-----------------+-------------+-----------+\n",
      "| 0.218903 | 0.131141 |             0.6 |         166 | 0.0160526 |\n",
      "+----------+----------+-----------------+-------------+-----------+\n",
      "| 0.218903 | 0.131141 |             0.7 |         142 | 0.0160526 |\n",
      "+----------+----------+-----------------+-------------+-----------+\n",
      "| 0.218903 | 0.131141 |             0.8 |         125 | 0.0160526 |\n",
      "+----------+----------+-----------------+-------------+-----------+\n",
      "| 0.218903 | 0.131141 |             0.9 |         111 | 0.0160526 |\n",
      "+----------+----------+-----------------+-------------+-----------+\n",
      "| 0.218903 | 0.131141 |               1 |         100 | 0.0160526 |\n",
      "+----------+----------+-----------------+-------------+-----------+\n"
     ]
    }
   ],
   "source": [
    "from tabulate import tabulate\n",
    "\n",
    "headers = [\"b0\", \"b1\", \"learning rate\",\"iteration\",\"mse\"]\n",
    "print(tabulate(result, headers, tablefmt=\"grid\", numalign=\"right\", stralign=\"right\"))\n"
   ]
  },
  {
   "cell_type": "markdown",
   "metadata": {},
   "source": [
    "# Closed form solution"
   ]
  },
  {
   "cell_type": "code",
   "execution_count": null,
   "metadata": {},
   "outputs": [],
   "source": []
  }
 ],
 "metadata": {
  "kernelspec": {
   "display_name": "Python 3 (ipykernel)",
   "language": "python",
   "name": "python3"
  },
  "language_info": {
   "codemirror_mode": {
    "name": "ipython",
    "version": 3
   },
   "file_extension": ".py",
   "mimetype": "text/x-python",
   "name": "python",
   "nbconvert_exporter": "python",
   "pygments_lexer": "ipython3",
   "version": "3.9.13"
  }
 },
 "nbformat": 4,
 "nbformat_minor": 1
}
