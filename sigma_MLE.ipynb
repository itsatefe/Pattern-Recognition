{
 "cells": [
  {
   "cell_type": "markdown",
   "id": "bddc17b6",
   "metadata": {},
   "source": [
    "    1. Joint Likelihood (P(X(j),y(j))P(X(j),y(j))):\n",
    "        The joint likelihood considers the probability of observing both the features (X(j)X(j)) and the labels (y(j)y(j)) together as a single event.\n",
    "        It provides a model for the likelihood of the entire data point, where both features and labels are considered together.\n",
    "        This is common in generative models, such as Naive Bayes, where you model the joint distribution of features and labels.\n",
    "\n",
    "    2. Conditional Likelihood (P(y(j)∣X(j))P(y(j)∣X(j))):\n",
    "        The conditional likelihood focuses on the probability of observing labels (y(j)y(j)) given the features (X(j)X(j)).\n",
    "        It models the probability of labels conditional on the observed features.\n",
    "        This is common in classification tasks, where the goal is to estimate the probability of different labels for a given set of features. Logistic regression, for example, uses conditional likelihood."
   ]
  },
  {
   "cell_type": "markdown",
   "id": "d3ab682b",
   "metadata": {},
   "source": [
    "$$ L(\\Sigma) = \\prod \\left[ \\frac{1}{(2\\pi)^{d/2} |\\Sigma|^{0.5}} \\right] \\exp\\left[ -0.5 (X(j) - \\mu_{y(j)})'\\Sigma^{-1}(X(j) - \\mu_{y(j)}) \\right] $$\n"
   ]
  },
  {
   "cell_type": "markdown",
   "id": "f2c40bfd",
   "metadata": {},
   "source": [
    "The factor 0.5 in the equation is often used to simplify calculations and is a constant that appears in the probability density function of a multivariate Gaussian distribution. The factor ensures that the exponent in the Gaussian distribution's probability density function is written in a convenient and standard form."
   ]
  },
  {
   "cell_type": "markdown",
   "id": "e15610ff",
   "metadata": {},
   "source": [
    "$$ \\ln(L(\\Sigma)) = \\sum \\left( -0.5 \\ln|\\Sigma| - 0.5 (X(j) - \\mu_{y(j)})'\\Sigma^{-1}(X(j) - \\mu_{y(j})) \\right) $$\n"
   ]
  },
  {
   "cell_type": "markdown",
   "id": "66e8792e",
   "metadata": {},
   "source": [
    "$$ \\frac{\\partial}{\\partial \\Sigma} \\left[ \\ln(L(\\Sigma)) \\right] = 0 $$\n"
   ]
  },
  {
   "cell_type": "markdown",
   "id": "6d0fc4b7",
   "metadata": {},
   "source": [
    "$$ \\Sigma_{\\text{MLE}} = \\frac{1}{m} \\sum_{j=1}^{m} (X(j) - \\mu_{y(j)})(X(j) - \\mu_{y(j)})^T $$\n"
   ]
  },
  {
   "cell_type": "code",
   "execution_count": null,
   "id": "1249613e",
   "metadata": {},
   "outputs": [],
   "source": []
  }
 ],
 "metadata": {
  "kernelspec": {
   "display_name": "Python 3 (ipykernel)",
   "language": "python",
   "name": "python3"
  },
  "language_info": {
   "codemirror_mode": {
    "name": "ipython",
    "version": 3
   },
   "file_extension": ".py",
   "mimetype": "text/x-python",
   "name": "python",
   "nbconvert_exporter": "python",
   "pygments_lexer": "ipython3",
   "version": "3.11.5"
  }
 },
 "nbformat": 4,
 "nbformat_minor": 5
}
